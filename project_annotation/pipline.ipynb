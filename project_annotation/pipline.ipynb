{
 "cells": [
  {
   "cell_type": "markdown",
   "metadata": {
    "collapsed": false
   },
   "source": [
    "# 导入包与配置文件"
   ]
  },
  {
   "cell_type": "code",
   "execution_count": 1,
   "metadata": {
    "ExecuteTime": {
     "end_time": "2025-03-06T07:51:49.342817Z",
     "start_time": "2025-03-06T07:51:48.278696700Z"
    }
   },
   "outputs": [],
   "source": [
    "from typing import Literal\n",
    "from openai import OpenAI\n",
    "import pandas as pd\n",
    "from langchain.prompts import PromptTemplate"
   ]
  },
  {
   "cell_type": "code",
   "execution_count": 2,
   "metadata": {
    "ExecuteTime": {
     "end_time": "2025-03-06T07:51:49.350435800Z",
     "start_time": "2025-03-06T07:51:49.343790300Z"
    },
    "collapsed": false
   },
   "outputs": [],
   "source": [
    "report_type_config= {\n",
    "    'financial_stability':'金融稳定报告聚焦于当前国内外金融体系的运行状况，分析可能影响金融稳定的风险因素，并提出应对建议。其研究对象主要包括银行、保险、证券等金融机构的运行情况，金融市场的波动性，以及跨境资本流动的趋势。撰写目的在于通过全面评估金融体系的脆弱点，为政策制定者和监管机构提供决策支持，确保金融体系的稳健运行。报告通常通过数据分析、案例研究以及国际对比的方式展开，重点解决潜在的系统性风险和突发性金融危机应对问题。',\n",
    "    'monetary_policy_implementation':'货币政策执行报告旨在向社会各界通报中央银行在报告期内的货币政策执行情况，以及宏观经济和金融市场的运行动态。研究对象涵盖货币供应量、信贷投放、利率政策、汇率政策及相关经济指标的变化趋势。撰写目的是通过总结政策效果和执行情况，评估政策实施的效率，为下一阶段货币政策调整提供依据。报告采用数据说明与政策分析相结合的方式，关注如何通过精准的货币政策工具实现稳定增长、促进就业及控制通胀等目标。',\n",
    "    'government_work':'政府工作报告是一份全面总结政府过去一年工作成果及提出下一年度发展目标的重要文件。其研究对象涵盖经济发展、社会民生、科技创新、生态保护等多领域的重点议题。撰写目的是向社会公众传递政府的施政理念和行动计划，同时争取立法机构的审议通过。报告采用定性与定量分析结合的方式，通常通过列举关键政策成果、设定具体发展指标和规划重点改革领域，回应民众关切，并解决社会发展中存在的主要问题。',\n",
    "    'regulatory_dynamics':'国家金融监督管理总局（简称“金融监管总局”）的“监管动态”栏目，主要发布最新的金融监管政策、措施、工作会议以及行业指导意见等内容，旨在指导和规范金融机构的经营行为，维护金融市场的稳定与健康发展。例如，2025年1月12日，金融监管总局召开了2025年监管工作会议，总结2024年工作，部署2025年重点任务。 此外，金融监管总局与中国人民银行联合发布了《银行业保险业绿色金融高质量发展实施方案》，引导银行业保险业大力发展绿色金融，                       支持绿色、低碳、循环经济的发展。 这些发布内容反映了金融监管总局在政策发布、工作会议和行业指导等方面的最新动态。',\n",
    "    'leadership_activities_and_speeches':'国家金融监督管理总局（简称“金融监管总局”）的“领导活动及讲话”栏目，主要发布总局领导的最新活动、重要讲话和政策解读等内容，旨在传达监管方向，促进金融市场稳健发展。例如，2025年1月12日，金融监管总局召开2025年监管工作会议，深入学习中央经济工作会议精神，总结2024年工作，部署2025年重点任务。 此外，2024年11月29日，金融监管总局召开系统“金融工作政治性、人民性大家谈”活动总结暨优秀研讨成果交流电视                      电话会议，强调加强金融系统党的建设，提升监管质效。 这些内容反映了总局领导在政策制定、风险防范和行业指导等方面的最新动态，体现了监管部门对金融市场健康发展的重视和努力。',\n",
    "    'financial_work_conference_documents':'中央金融工作会议是中华人民共和国最高规格的金融工作会议，通常每五年召开一次，旨在部署和指导全国金融领域的重大政策和改革方向。例如，2023年10月30日至31日，中央金融工作会议在北京举行。 会议强调要加快建设金融强国，全面加强金融监管，优化金融服务，防范化解风险，坚定不移走中国特色金融发展之路，推动我国金融高质量发展。 这些内容反映了中央政府在金融政策制定、风险防范和行业指导等方面的最新部署，体现                      了对金融市场健康发展的重视和努力。',\n",
    "    'important_news_from_securities_regulatory_commission':'中国证券监督管理委员会（简称“证监会”）的“证监会要闻”栏目，主要发布与证券市场监管相关的重要新闻和动态，旨在传递监管政策、通报市场情况，维护资本市场的健康发展。例如，证监会近期通报了东方集团财务造假案的阶段性调查进展，强调对财务造假行为的严厉打击。 此外，证监会与中国人民银行、全国工商联、金融监管总局、国家外汇局联合召开金融支持民营企业高质量发展座谈会，表示将持续优化金融                      服务，支持民营经济发展。 这些内容反映了证监会在政策发布、市场监管和行业指导等方面的最新动态，体现了监管部门对资本市场健康发展的重视和努力。'\n",
    "}"
   ]
  },
  {
   "cell_type": "code",
   "execution_count": 3,
   "metadata": {
    "ExecuteTime": {
     "end_time": "2025-03-06T07:51:49.359784Z",
     "start_time": "2025-03-06T07:51:49.344792600Z"
    },
    "collapsed": false
   },
   "outputs": [],
   "source": [
    "context_config = {\n",
    "    'facts': {\n",
    "        'judge':{\n",
    "            'objective':'在[目标文段]中判断是否存在[事实描述]信息。其中[事实描述]为提取段落中关于经济或市场状况的客观信息，包括已发生或现阶段正在发生的具体数据、现象或事件。',\n",
    "            'response':'只输出 [是/否]，不要进行冗余输出。',\n",
    "            'example':\"\"\"\n",
    "                        Example1:\n",
    "                            [目标文段]: 2023年，全球经济复苏步伐放缓，主要经济体通胀水平虽有所回落但仍处于高位，货币政策普遍保持紧缩状态。国内经济延续恢复态势，工业生产平稳增长，消费市场逐步回暖，外贸出口增速有所回升，金融市场整体运行平稳，银行信贷投放保持增长态势。\n",
    "                            [Response]:[是]\n",
    "                        Example2:\n",
    "                            [目标文段]: 随着全球经济增速放缓和主要经济体货币政策持续收紧，未来国际金融市场波动性可能进一步上升，对跨境资本流动和外部需求构成压力。国内经济在政策支持下预计将保持恢复态势，但内外需的不确定性仍可能制约增长动能，需关注地方政府债务、房地产市场调整等潜在风险，同时深化改革以优化经济结构和提升增长质量。\n",
    "                            [Response]:[否]\n",
    "                    \"\"\",\n",
    "        },\n",
    "        'emotion':{\n",
    "            'objective':'判断文段在[事实描述]方面的情感倾向为[消极、中性、积极]若目标文段的情感倾向为[消极]或者[积极]，进一步划分程度为[极弱、弱、中、强、极强]从[语言措辞]和[数据分析]两个维度进行分析。',\n",
    "            'response':'情感倾向为[消极/中性/积极]；若目标文段的情感倾向为悲观或者乐观进一步划分程度为[极弱/弱/中/强/极强],不要进行任何额外分析。',\n",
    "            'example':\"\"\"\n",
    "                        Example1:\n",
    "                        [目标文段]: 2023年，全球经济陷入深度低迷，主要经济体普遍面临高通胀和经济衰退的双重打击。国际金融市场剧烈动荡，资本大规模外逃，多国货币严重贬值。国内经济增长几近停滞，消费信心低迷，投资意愿大幅下降，房地产市场深陷危机，地方政府债务风险不断累积。金融机构盈利能力持续恶化，不良贷款率快速攀升，整个金融体系脆弱性显著上升。\n",
    "                        [Response]:情感倾向-[消极]；程度-[极强]\n",
    "                    \"\"\"\n",
    "        },\n",
    "        'results':{\n",
    "            'objective':'判断文段的标签（[情感倾向]和[程度]）是否划分正确。',\n",
    "            'response':'该文段[存在/不存在]事实描述类文本，且事实描述类情感倾向判断[正确/错误]，程度划分[正确/错误]，[理由陈述]',\n",
    "            'example':\"\"\"\n",
    "                        Example1:\n",
    "                        [目标文段]: 2023年，全球经济实现了历史上最强劲的复苏，主要经济体的增长率创下了新高。金融市场表现出色，股票和债券市场均实现了历史新高，交易量创下了新记录。科技创新和绿色能源的快速发展带动了新兴产业的快速崛起，传统产业也实现了高效转型升级，产出创下了新高。金融机构加速数字化改革，金融科技深度融入实体经济，金融服务更加高效、普惠，客户满意度创下了新高。同时，全球治理体系进一步完善，国际合作更加紧密，世界经济进入新的黄金时代。全球经济发展的良好势头为未来带来了无限希望和机遇。\n",
    "                        [判断]：[事实描述]方面的情感倾向-[积极]；程度-[极强]\n",
    "                        [Response]: 该文段[存在]事实描述类文本，且事实描述类情感倾向判断[正确]，程度划分[正确]。[理由陈述]该文段主要是描述事实现象，使用了诸如“历史上最强劲的复苏”、“创下了新高”、“交易量创下了新记录”、“产出创下了新高”、“客户满意度创下了新高”等词语来强调事实现象的积极性和程度的极强。同时，文本中使用的语言和数据更多的是为了描述过去和现状，而不是对未来进行预测或判断。因此，该文段被正确地分类为事实描述类文本，其情感倾向和程度划分也被正确地评估为“积极”和“极强”。\n",
    "                    \"\"\"\n",
    "        }\n",
    "    },\n",
    "    'predictions':{\n",
    "        'judge':{\n",
    "            'objective':'在[目标文段]中判断是否存在[预判分析]信息。其中[预判分析]为提取段落中对未来趋势、可能性或风险的判断、推测或政策建议。',\n",
    "            'response':'只输出 [是/否]，不要进行冗余输出。',\n",
    "            'example':\"\"\"\n",
    "                        Example1:\n",
    "                        [目标文段]: 2023年，全球经济复苏步伐放缓，主要经济体通胀水平虽有所回落但仍处于高位，货币政策普遍保持紧缩状态。国内经济延续恢复态势，工业生产平稳增长，消费市场逐步回暖，外贸出口增速有所回升，金融市场整体运行平稳，银行信贷投放保持增长态势。\n",
    "                        [Response]:[否]\n",
    "                        Example2:\n",
    "                        [目标文段]: 随着全球经济增速放缓和主要经济体货币政策持续收紧，未来国际金融市场波动性可能进一步上升，对跨境资本流动和外部需求构成压力。国内经济在政策支持下预计将保持恢复态势，但内外需的不确定性仍可能制约增长动能，需关注地方政府债务、房地产市场调整等潜在风险，同时深化改革以优化经济结构和提升增长质量。\n",
    "                        [Response]:[是]\n",
    "                    \"\"\"\n",
    "        },\n",
    "        'emotion':{\n",
    "            'objective':'判断文段在[预判分析]方面的情感倾向为[悲观、中性、乐观]若目标文段的情感倾向为[消极]或者[积极]，进一步划分程度为[极弱、弱、中、强、极强]从[语言措辞]和[数据分析]两个维度进行分析。',\n",
    "            'response':'情感倾向为[消极/中性/积极]；若目标文段的情感倾向为悲观或者乐观进一步划分程度为[极弱/弱/中/强/极强],不要进行任何额外分析。',\n",
    "            'example':\"\"\"\n",
    "                        Example1:\n",
    "                        [目标文段]: 随着全球经济面临多重挑战，未来金融体系可能陷入更深层次的不稳定局面。主要经济体的高利率政策或将持续抑制经济活动，企业破产和失业率上升的风险逐步加剧。同时，跨境资本流动的急剧波动可能引发新兴市场的货币危机。国内方面，房地产市场的深度调整和地方债务的积累或将成为经济增长的重大拖累。在此背景下，若缺乏有效的政策应对，金融体系可能面临系统性风险爆发的压力，甚至可能引发一场无法控制的经济衰退。\n",
    "                        [Response]:情感倾向-[悲观]；程度-[极强]\n",
    "                    \"\"\",\n",
    "        },\n",
    "        'results':{\n",
    "            'objective':'判断文段的标签（[情感倾向]和[程度]）是否划分正确。',\n",
    "            'response':'该文段[存在/不存在]预判分析类文本，且预判分析类情感倾向判断[正确/错误]，程度划分[正确/错误]，[理由陈述]。',\n",
    "            'example':\"\"\"\n",
    "                        Example1:\n",
    "                        [目标文段]: 未来五年，全球经济将迎来全面复苏，主要经济体将实现同步增长，带动全球金融市场走向繁荣。随着科技创新与绿色能源的快速发展，新兴产业将迅速崛起，传统产业将实现高效转型升级。金融机构将加速数字化改革，金融科技将深度融入实体经济，金融服务将更加高效、普惠。同时，全球治理体系将进一步完善，国际合作将更加紧密，世界经济将进入新的黄金时代。未来五年将是全球经济发展的大好时光，充满希望和机遇。\n",
    "                        [判断]：[预判分析]方面的情感倾向-[乐观]；程度-[极强]\n",
    "                        [Response]: 该文段[存在]预判分析类文本，且预判分析类情感倾向判断[正确]，程度划分[正确]。[理由陈述]该文段主要讨论了未来五年的全球经济发展趋势，使用了诸如“全面复苏”、“同步增长”、“走向繁荣”、“迅速崛起”、“高效转型升级”、“更加高效、普惠”、“新的黄金时代”、“大好时光”、“充满希望和机遇”等积极词语，表明了对未来经济发展前景的乐观态度。同时，文段中使用了诸如“全球”、“全面”、“同步”等强调词语，进一步强化了乐观情感的程度，使得情感程度可准确划分为“极强”。因此，该文段存在预判分析类文本，其情感倾向和程度划分均为正确。\n",
    "                    \"\"\"\n",
    "        }\n",
    "    }\n",
    "}"
   ]
  },
  {
   "cell_type": "markdown",
   "metadata": {
    "collapsed": false
   },
   "source": [
    "# 读取文件"
   ]
  },
  {
   "cell_type": "code",
   "execution_count": 4,
   "metadata": {
    "ExecuteTime": {
     "end_time": "2025-03-06T07:51:49.373078800Z",
     "start_time": "2025-03-06T07:51:49.353395900Z"
    },
    "collapsed": false
   },
   "outputs": [],
   "source": [
    "file_path = './data/政府工作报告csv/2001.csv'"
   ]
  },
  {
   "cell_type": "code",
   "execution_count": 5,
   "metadata": {
    "ExecuteTime": {
     "end_time": "2025-03-06T07:51:49.374580400Z",
     "start_time": "2025-03-06T07:51:49.356864100Z"
    }
   },
   "outputs": [],
   "source": [
    "context_series = pd.read_csv(file_path,encoding='utf-8',engine='python')['context']"
   ]
  },
  {
   "cell_type": "code",
   "execution_count": 35,
   "metadata": {},
   "outputs": [
    {
     "data": {
      "text/plain": [
       "0     2002年政府工作报告。——2002年3月5日在第九届全国人民代表大会第五次会议上。国务院总...\n",
       "1     新世纪第一年，全国各族人民在中国共产党领导下，面对复杂多变的国际形势，克服困难，阔步前进，改...\n",
       "2     国民经济保持良好发展势头。在世界经济增长明显减速的情况下，我们坚持扩大内需的方针，坚定地实施...\n",
       "3     经济体制改革进一步深化。国有企业改革继续推进，现代企业制度建设加快。国家向重点企业派出的监事...\n",
       "4     科技、教育和社会事业全面发展。新的“８６３计划”、科技攻关计划和重点基础研究计划开始实施。国...\n",
       "5     城乡人民生活继续改善。城镇居民人均可支配收入实际增长８．５％。中央财政和地方财政大幅度增加了...\n",
       "6     去年，我们隆重庆祝了中国共产党成立８０周年，江泽民总书记发表“七一”重要讲话，阐述了“三个代...\n",
       "7     ２００１年经济和社会发展的显著成绩，确实来之不易。这是以江泽民同志为核心的党中央统揽全局、审...\n",
       "8     我们也清醒地看到，当前经济和社会生活中还存在不少亟待解决的问题。主要是：农民收入增长缓慢，一...\n",
       "9     ２００２年是我们党和国家发展史上非常重要的一年。做好今年各项工作，具有十分重要的意义。当前国...\n",
       "10    根据党中央部署，今年工作的总体要求是：以邓小平理论和党的十五大精神为指导，进一步贯彻落实江泽...\n",
       "11                             按照这个总体要求，今年要着重做好以下八个方面工作\n",
       "12    一、扩大和培育内需，促进经济较快增长。保持国民经济较快增长，是扩大就业、改善人民生活和维护社...\n",
       "13    扩大国内需求，首先必须增加城乡居民特别是低收入群体的收入，培育和提高居民的购买力。一是采取更...\n",
       "14    保持国债投资的必要规模，带动固定资产投资较快增长。根据需要和可能，今年拟发行１５００亿元长期...\n",
       "15    努力做好财税工作，保持税制稳定，加强税收征管。严格依法治税，做到应收尽收，堵塞“跑、冒、滴、...\n",
       "16    继续实行稳健的货币政策，加强对金融机构的监管。金融机构要在切实防范和化解金融风险的同时，积极...\n",
       "17    二、加快农业和农村经济发展，努力增加农民收入。发展农业生产力，提高农民购买力，是扩大和培育内...\n",
       "18    从根本上说，增加农民收入必须加快农业和农村经济结构调整，大力发展农业产业化经营，积极推动传统...\n",
       "19                           为了使农民收入尽快有较多增长，还必须做好以下工作。\n",
       "20    一是扩大退耕还林规模。两年多试点证明，在中西部一些地方实行退耕还林（包括还草、还湖），既是改...\n",
       "21    二是深化农村税费改革和粮棉流通体制改革。农村税费改革是减轻农民负担的治本之策。今年要进一步扩...\n",
       "22    三是努力拓宽农民增收渠道。以农产品加工业和农村服务业为重点，加快发展农村二、三产业。引导乡镇...\n",
       "23    四是加大对农业的支持力度。采取符合世贸组织规则的措施，努力维护农民利益。增加对农业和农村基础...\n",
       "24    三、积极推进经济结构调整和经济体制改革。进一步解决制约经济发展的结构性矛盾和体制性障碍，是促...\n",
       "25    加快产业结构优化升级。一要采用高新技术和先进适用技术，改造和提升传统产业。支持重点行业和骨干...\n",
       "26    继续实施西部大开发战略，促进地区协调发展。加快西部地区基础设施和生态环境建设。着力抓好青藏铁...\n",
       "27    深化以国有企业改革为中心的各项改革。近几年，国有企业改革取得了很大进展，但是任务仍然相当艰巨...\n",
       "28    推进垄断行业改革。通过政企分开和企业重组，打破行业垄断，引入竞争机制。尽快实施电信、电力、民...\n",
       "29    坚持以公有制为主体、多种所有制经济共同发展的基本经济制度。积极探索公有制多种有效实现形式。继...\n",
       "30    其他各项改革，也要按照完善社会主义市场经济体制的要求积极推进。尽快制定投融资体制改革方案，争...\n",
       "31    四、适应加入世贸组织新形势，全面提高对外开放水平。我国加入世贸组织，标志着对外开放进入一个新...\n",
       "32    为了适应加入世贸组织的要求，近年来特别是近几个月，我国做了大量工作。全国性的相关法规、规章的...\n",
       "33    认真做好对外贸易工作。继续实施市场多元化战略，力争今年外贸出口有所增长。要力保现有市场，开拓...\n",
       "34    继续积极利用外资，优化外商投资结构。着力引进先进技术、现代化管理经验和专门人才。鼓励和引导外...\n",
       "35    五、继续大力整顿和规范市场经济秩序。大力整顿和规范市场经济秩序，是扩大内需、促进经济良性发展...\n",
       "36    全面展开，突出重点。紧紧围绕当前的突出问题，着力抓好以下几个方面：一是进一步严厉打击各种制售...\n",
       "37    标本兼治，重在治本。严格审查各类市场主体的资质，把好市场准入关。各级政府部门必须坚决按规定与...\n",
       "38    六、实施科教兴国战略和可持续发展战略，加强精神文明建设。推动科技进步和创新。加快国家创新体系...\n",
       "39    坚持教育优先发展。大力推进素质教育，加强学校思想政治工作，促进学生德智体美全面发展。加强基础...\n",
       "40    认真实施人才政策。坚持“四化”方针和德才兼备的原则，加快培养和选拔适应改革开放和现代化建设新...\n",
       "41    走可持续发展之路。坚持计划生育的基本国策，贯彻《人口与计划生育法》。特别要加强农村和流动人口...\n",
       "42    加强精神文明建设。坚持不懈地用马列主义、毛泽东思想、邓小平理论和“三个代表”重要思想教育广大...\n",
       "43    七、进一步转变政府职能，加强政风建设。这是适应改革开放的新形势，建设廉洁、勤政、务实、高效政...\n",
       "44    加快政府职能转变。政府机构改革和职能转变，取得了很大进展，但还存在不少问题。必须进一步解放思...\n",
       "45    切实加强政风建设。深入开展反腐败斗争，加强廉政建设。廉洁从政，执政为民，是我们党和政府根本宗...\n",
       "46    坚决反对奢侈浪费。当前，无论是生产、建设、流通还是消费领域，都存在严重铺张浪费的现象。有的地...\n",
       "47    各级政府要自觉接受同级人民代表大会及其常委会的监督，主动加强与人民政协的联系，认真听取民主党...\n",
       "48    在新的形势下，保障国家安全，维护社会稳定，具有十分重要的意义。要严密防范和依法坚决打击境内外...\n",
       "49    加强民族团结，维护祖国统一，是全国各族人民的根本利益所在。坚持和完善民族区域自治制度。全面贯...\n",
       "50    加强国防和军队建设，是维护国家安全和社会主义现代化事业顺利发展的重要保证。要按照“政治合格、...\n",
       "51    全面贯彻落实“一国两制”方针和香港、澳门两个基本法。维护香港、澳门长期稳定和繁荣发展，是我们...\n",
       "52    在新的一年里，我们将坚持“和平统一、一国两制”的基本方针和江泽民主席关于解决台湾问题的八项主...\n",
       "53    八、进一步做好外交工作。２００１年，国际形势变化起伏。但和平与发展作为时代的主题并未改变，世...\n",
       "54    在国际风云变幻的形势下，我国外交工作进一步开创了新局面，国际地位和影响继续提高。我国同广大发...\n",
       "55    我国与美国、俄罗斯、欧盟、日本的关系得到发展和改善。我们积极务实地参与国际政治、经济、文化、...\n",
       "56    在新的一年，我们要继续奉行独立自主的和平外交政策。在和平共处五项原则的基础上，加强同发展中国...\n",
       "57                                               各位代表!\n",
       "58    今年政府工作的任务相当繁重，我们肩负的责任重大而光荣。让我们更加紧密地团结在以江泽民同志为核...\n",
       "Name: context, dtype: object"
      ]
     },
     "execution_count": 35,
     "metadata": {},
     "output_type": "execute_result"
    }
   ],
   "source": [
    "context_series"
   ]
  },
  {
   "cell_type": "markdown",
   "metadata": {
    "collapsed": false
   },
   "source": [
    "# system_prompt"
   ]
  },
  {
   "cell_type": "code",
   "execution_count": 6,
   "metadata": {
    "ExecuteTime": {
     "end_time": "2025-03-06T07:51:49.374580400Z",
     "start_time": "2025-03-06T07:51:49.362780100Z"
    },
    "collapsed": false
   },
   "outputs": [],
   "source": [
    "def gen_system_prompt(report_type:Literal['financial_stability', 'monetary_policy_implementation', 'government_work', 'regulatory_dynamics', 'leadership_activities_and_speeches', 'financial_work_conference_documents', 'important_news_from_securities_regulatory_commission'],fact_or_pred:Literal['facts','predictions'],Discriminator_type:Literal['judge','emotion','results'],context_config:dict=context_config,report_type_config:dict = report_type_config)->str:\n",
    "    report_type = report_type_config[report_type]\n",
    "    context_prompt  = PromptTemplate(\n",
    "        input_variables=[\"report_type\",'objective','response','example'],\n",
    "        template= \"\"\"\n",
    "            1、[Context]: 你扮演的是标注专家的角色（role）,{report_type}\n",
    "            2、[Style]: 学术一些、简洁明了、不进行冗余输出。\n",
    "            3、[Tone]: 平和、中性，有说服力。\n",
    "            4、[Audience]: 金融学者\n",
    "            5、[Response“/”表示或，不能进行同时输出]: {response}\n",
    "            6、[Objective]: {objective}\n",
    "            7、[Example]：{example}\n",
    "\n",
    "            \"\"\"\n",
    "    ).format(report_type=report_type, objective=context_config[fact_or_pred][Discriminator_type]['objective'],response=context_config[fact_or_pred][Discriminator_type]['response'],example=context_config[fact_or_pred][Discriminator_type]['example'])\n",
    "    return context_prompt"
   ]
  },
  {
   "cell_type": "code",
   "execution_count": 7,
   "metadata": {
    "ExecuteTime": {
     "end_time": "2025-03-06T07:51:49.912602Z",
     "start_time": "2025-03-06T07:51:49.491579500Z"
    },
    "collapsed": false
   },
   "outputs": [
    {
     "ename": "KeyError",
     "evalue": "'financial_stabilitys'",
     "output_type": "error",
     "traceback": [
      "\u001b[1;31m---------------------------------------------------------------------------\u001b[0m",
      "\u001b[1;31mKeyError\u001b[0m                                  Traceback (most recent call last)",
      "Cell \u001b[1;32mIn[7], line 1\u001b[0m\n\u001b[1;32m----> 1\u001b[0m system_prompt \u001b[38;5;241m=\u001b[39m gen_system_prompt(report_type \u001b[38;5;241m=\u001b[39m \u001b[38;5;124m'\u001b[39m\u001b[38;5;124mfinancial_stabilitys\u001b[39m\u001b[38;5;124m'\u001b[39m,fact_or_pred\u001b[38;5;241m=\u001b[39m\u001b[38;5;124m'\u001b[39m\u001b[38;5;124mfacts\u001b[39m\u001b[38;5;124m'\u001b[39m,Discriminator_type\u001b[38;5;241m=\u001b[39m\u001b[38;5;124m'\u001b[39m\u001b[38;5;124mjudge\u001b[39m\u001b[38;5;124m'\u001b[39m)\n",
      "Cell \u001b[1;32mIn[6], line 2\u001b[0m, in \u001b[0;36mgen_system_prompt\u001b[1;34m(report_type, fact_or_pred, Discriminator_type, context_config, report_type_config)\u001b[0m\n\u001b[0;32m      1\u001b[0m \u001b[38;5;28;01mdef\u001b[39;00m \u001b[38;5;21mgen_system_prompt\u001b[39m(report_type:Literal[\u001b[38;5;124m'\u001b[39m\u001b[38;5;124mfinancial_stability\u001b[39m\u001b[38;5;124m'\u001b[39m, \u001b[38;5;124m'\u001b[39m\u001b[38;5;124mmonetary_policy_implementation\u001b[39m\u001b[38;5;124m'\u001b[39m, \u001b[38;5;124m'\u001b[39m\u001b[38;5;124mgovernment_work\u001b[39m\u001b[38;5;124m'\u001b[39m, \u001b[38;5;124m'\u001b[39m\u001b[38;5;124mregulatory_dynamics\u001b[39m\u001b[38;5;124m'\u001b[39m, \u001b[38;5;124m'\u001b[39m\u001b[38;5;124mleadership_activities_and_speeches\u001b[39m\u001b[38;5;124m'\u001b[39m, \u001b[38;5;124m'\u001b[39m\u001b[38;5;124mfinancial_work_conference_documents\u001b[39m\u001b[38;5;124m'\u001b[39m, \u001b[38;5;124m'\u001b[39m\u001b[38;5;124mimportant_news_from_securities_regulatory_commission\u001b[39m\u001b[38;5;124m'\u001b[39m],fact_or_pred:Literal[\u001b[38;5;124m'\u001b[39m\u001b[38;5;124mfacts\u001b[39m\u001b[38;5;124m'\u001b[39m,\u001b[38;5;124m'\u001b[39m\u001b[38;5;124mpredictions\u001b[39m\u001b[38;5;124m'\u001b[39m],Discriminator_type:Literal[\u001b[38;5;124m'\u001b[39m\u001b[38;5;124mjudge\u001b[39m\u001b[38;5;124m'\u001b[39m,\u001b[38;5;124m'\u001b[39m\u001b[38;5;124memotion\u001b[39m\u001b[38;5;124m'\u001b[39m,\u001b[38;5;124m'\u001b[39m\u001b[38;5;124mresults\u001b[39m\u001b[38;5;124m'\u001b[39m],context_config:\u001b[38;5;28mdict\u001b[39m\u001b[38;5;241m=\u001b[39mcontext_config,report_type_config:\u001b[38;5;28mdict\u001b[39m \u001b[38;5;241m=\u001b[39m report_type_config)\u001b[38;5;241m-\u001b[39m\u001b[38;5;241m>\u001b[39m\u001b[38;5;28mstr\u001b[39m:\n\u001b[1;32m----> 2\u001b[0m     report_type \u001b[38;5;241m=\u001b[39m report_type_config[report_type]\n\u001b[0;32m      3\u001b[0m     context_prompt  \u001b[38;5;241m=\u001b[39m PromptTemplate(\n\u001b[0;32m      4\u001b[0m         input_variables\u001b[38;5;241m=\u001b[39m[\u001b[38;5;124m\"\u001b[39m\u001b[38;5;124mreport_type\u001b[39m\u001b[38;5;124m\"\u001b[39m,\u001b[38;5;124m'\u001b[39m\u001b[38;5;124mobjective\u001b[39m\u001b[38;5;124m'\u001b[39m,\u001b[38;5;124m'\u001b[39m\u001b[38;5;124mresponse\u001b[39m\u001b[38;5;124m'\u001b[39m,\u001b[38;5;124m'\u001b[39m\u001b[38;5;124mexample\u001b[39m\u001b[38;5;124m'\u001b[39m],\n\u001b[0;32m      5\u001b[0m         template\u001b[38;5;241m=\u001b[39m \u001b[38;5;124m\"\"\"\u001b[39m\n\u001b[1;32m   (...)\u001b[0m\n\u001b[0;32m     14\u001b[0m \u001b[38;5;124m            \u001b[39m\u001b[38;5;124m\"\"\"\u001b[39m\n\u001b[0;32m     15\u001b[0m     )\u001b[38;5;241m.\u001b[39mformat(report_type\u001b[38;5;241m=\u001b[39mreport_type, objective\u001b[38;5;241m=\u001b[39mcontext_config[fact_or_pred][Discriminator_type][\u001b[38;5;124m'\u001b[39m\u001b[38;5;124mobjective\u001b[39m\u001b[38;5;124m'\u001b[39m],response\u001b[38;5;241m=\u001b[39mcontext_config[fact_or_pred][Discriminator_type][\u001b[38;5;124m'\u001b[39m\u001b[38;5;124mresponse\u001b[39m\u001b[38;5;124m'\u001b[39m],example\u001b[38;5;241m=\u001b[39mcontext_config[fact_or_pred][Discriminator_type][\u001b[38;5;124m'\u001b[39m\u001b[38;5;124mexample\u001b[39m\u001b[38;5;124m'\u001b[39m])\n\u001b[0;32m     16\u001b[0m     \u001b[38;5;28;01mreturn\u001b[39;00m context_prompt\n",
      "\u001b[1;31mKeyError\u001b[0m: 'financial_stabilitys'"
     ]
    }
   ],
   "source": [
    "system_prompt = gen_system_prompt(report_type = 'financial_stabilitys',fact_or_pred='facts',Discriminator_type='judge')"
   ]
  },
  {
   "cell_type": "code",
   "execution_count": null,
   "metadata": {
    "collapsed": false
   },
   "outputs": [
    {
     "ename": "KeyError",
     "evalue": "'fact'",
     "output_type": "error",
     "traceback": [
      "\u001b[1;31m---------------------------------------------------------------------------\u001b[0m",
      "\u001b[1;31mKeyError\u001b[0m                                  Traceback (most recent call last)",
      "Cell \u001b[1;32mIn[10], line 1\u001b[0m\n\u001b[1;32m----> 1\u001b[0m system_prompt \u001b[38;5;241m=\u001b[39m gen_system_prompt(report_type \u001b[38;5;241m=\u001b[39m \u001b[38;5;124m'\u001b[39m\u001b[38;5;124mfinancial_stability\u001b[39m\u001b[38;5;124m'\u001b[39m,fact_or_pred\u001b[38;5;241m=\u001b[39m\u001b[38;5;124m'\u001b[39m\u001b[38;5;124mfact\u001b[39m\u001b[38;5;124m'\u001b[39m,Discriminator_type\u001b[38;5;241m=\u001b[39m\u001b[38;5;124m'\u001b[39m\u001b[38;5;124mjudge\u001b[39m\u001b[38;5;124m'\u001b[39m)\n",
      "Cell \u001b[1;32mIn[8], line 15\u001b[0m, in \u001b[0;36mgen_system_prompt\u001b[1;34m(report_type, fact_or_pred, Discriminator_type, context_config, report_type_config)\u001b[0m\n\u001b[0;32m      1\u001b[0m \u001b[38;5;28;01mdef\u001b[39;00m \u001b[38;5;21mgen_system_prompt\u001b[39m(report_type:Literal[\u001b[38;5;124m'\u001b[39m\u001b[38;5;124mfinancial_stability\u001b[39m\u001b[38;5;124m'\u001b[39m, \u001b[38;5;124m'\u001b[39m\u001b[38;5;124mmonetary_policy_implementation\u001b[39m\u001b[38;5;124m'\u001b[39m, \u001b[38;5;124m'\u001b[39m\u001b[38;5;124mgovernment_work\u001b[39m\u001b[38;5;124m'\u001b[39m, \u001b[38;5;124m'\u001b[39m\u001b[38;5;124mregulatory_dynamics\u001b[39m\u001b[38;5;124m'\u001b[39m, \u001b[38;5;124m'\u001b[39m\u001b[38;5;124mleadership_activities_and_speeches\u001b[39m\u001b[38;5;124m'\u001b[39m, \u001b[38;5;124m'\u001b[39m\u001b[38;5;124mfinancial_work_conference_documents\u001b[39m\u001b[38;5;124m'\u001b[39m, \u001b[38;5;124m'\u001b[39m\u001b[38;5;124mimportant_news_from_securities_regulatory_commission\u001b[39m\u001b[38;5;124m'\u001b[39m],fact_or_pred:Literal[\u001b[38;5;124m'\u001b[39m\u001b[38;5;124mfacts\u001b[39m\u001b[38;5;124m'\u001b[39m,\u001b[38;5;124m'\u001b[39m\u001b[38;5;124mpredictions\u001b[39m\u001b[38;5;124m'\u001b[39m],Discriminator_type:Literal[\u001b[38;5;124m'\u001b[39m\u001b[38;5;124mjudge\u001b[39m\u001b[38;5;124m'\u001b[39m,\u001b[38;5;124m'\u001b[39m\u001b[38;5;124memotion\u001b[39m\u001b[38;5;124m'\u001b[39m,\u001b[38;5;124m'\u001b[39m\u001b[38;5;124mresults\u001b[39m\u001b[38;5;124m'\u001b[39m],context_config:\u001b[38;5;28mdict\u001b[39m\u001b[38;5;241m=\u001b[39mcontext_config,report_type_config:\u001b[38;5;28mdict\u001b[39m \u001b[38;5;241m=\u001b[39m report_type_config)\u001b[38;5;241m-\u001b[39m\u001b[38;5;241m>\u001b[39m\u001b[38;5;28mstr\u001b[39m:\n\u001b[0;32m      2\u001b[0m     report_type \u001b[38;5;241m=\u001b[39m report_type_config[report_type]\n\u001b[0;32m      3\u001b[0m     context_prompt  \u001b[38;5;241m=\u001b[39m PromptTemplate(\n\u001b[0;32m      4\u001b[0m         input_variables\u001b[38;5;241m=\u001b[39m[\u001b[38;5;124m\"\u001b[39m\u001b[38;5;124mreport_type\u001b[39m\u001b[38;5;124m\"\u001b[39m,\u001b[38;5;124m'\u001b[39m\u001b[38;5;124mobjective\u001b[39m\u001b[38;5;124m'\u001b[39m,\u001b[38;5;124m'\u001b[39m\u001b[38;5;124mresponse\u001b[39m\u001b[38;5;124m'\u001b[39m,\u001b[38;5;124m'\u001b[39m\u001b[38;5;124mexample\u001b[39m\u001b[38;5;124m'\u001b[39m],\n\u001b[0;32m      5\u001b[0m         template\u001b[38;5;241m=\u001b[39m \u001b[38;5;124m\"\"\"\u001b[39m\n\u001b[0;32m      6\u001b[0m \u001b[38;5;124m            1、[Context]: 你扮演的是标注专家的角色（role）,\u001b[39m\u001b[38;5;132;01m{report_type}\u001b[39;00m\n\u001b[0;32m      7\u001b[0m \u001b[38;5;124m            2、[Style]: 学术一些、简洁明了、不进行冗余输出。\u001b[39m\n\u001b[0;32m      8\u001b[0m \u001b[38;5;124m            3、[Tone]: 平和、中性，有说服力。\u001b[39m\n\u001b[0;32m      9\u001b[0m \u001b[38;5;124m            4、[Audience]: 金融学者\u001b[39m\n\u001b[0;32m     10\u001b[0m \u001b[38;5;124m            5、[Response“/”表示或，不能进行同时输出]: \u001b[39m\u001b[38;5;132;01m{response}\u001b[39;00m\n\u001b[0;32m     11\u001b[0m \u001b[38;5;124m            6、[Objective]: \u001b[39m\u001b[38;5;132;01m{objective}\u001b[39;00m\n\u001b[0;32m     12\u001b[0m \u001b[38;5;124m            7、[Example]：\u001b[39m\u001b[38;5;132;01m{example}\u001b[39;00m\n\u001b[0;32m     13\u001b[0m \n\u001b[0;32m     14\u001b[0m \u001b[38;5;124m            \u001b[39m\u001b[38;5;124m\"\"\"\u001b[39m\n\u001b[1;32m---> 15\u001b[0m     )\u001b[38;5;241m.\u001b[39mformat(report_type\u001b[38;5;241m=\u001b[39mreport_type, objective\u001b[38;5;241m=\u001b[39mcontext_config[fact_or_pred][Discriminator_type][\u001b[38;5;124m'\u001b[39m\u001b[38;5;124mobjective\u001b[39m\u001b[38;5;124m'\u001b[39m],response\u001b[38;5;241m=\u001b[39mcontext_config[fact_or_pred][Discriminator_type][\u001b[38;5;124m'\u001b[39m\u001b[38;5;124mresponse\u001b[39m\u001b[38;5;124m'\u001b[39m],example\u001b[38;5;241m=\u001b[39mcontext_config[fact_or_pred][Discriminator_type][\u001b[38;5;124m'\u001b[39m\u001b[38;5;124mexample\u001b[39m\u001b[38;5;124m'\u001b[39m])\n\u001b[0;32m     16\u001b[0m     \u001b[38;5;28;01mreturn\u001b[39;00m context_prompt\n",
      "\u001b[1;31mKeyError\u001b[0m: 'fact'"
     ]
    }
   ],
   "source": [
    "system_prompt = gen_system_prompt(report_type = 'financial_stability',fact_or_pred='fact',Discriminator_type='judge')"
   ]
  },
  {
   "cell_type": "code",
   "execution_count": 8,
   "metadata": {
    "collapsed": false
   },
   "outputs": [
    {
     "ename": "KeyError",
     "evalue": "'judges'",
     "output_type": "error",
     "traceback": [
      "\u001b[1;31m---------------------------------------------------------------------------\u001b[0m",
      "\u001b[1;31mKeyError\u001b[0m                                  Traceback (most recent call last)",
      "Cell \u001b[1;32mIn[8], line 1\u001b[0m\n\u001b[1;32m----> 1\u001b[0m system_prompt \u001b[38;5;241m=\u001b[39m gen_system_prompt(report_type \u001b[38;5;241m=\u001b[39m \u001b[38;5;124m'\u001b[39m\u001b[38;5;124mfinancial_stability\u001b[39m\u001b[38;5;124m'\u001b[39m,fact_or_pred\u001b[38;5;241m=\u001b[39m\u001b[38;5;124m'\u001b[39m\u001b[38;5;124mfacts\u001b[39m\u001b[38;5;124m'\u001b[39m,Discriminator_type\u001b[38;5;241m=\u001b[39m\u001b[38;5;124m'\u001b[39m\u001b[38;5;124mjudges\u001b[39m\u001b[38;5;124m'\u001b[39m)\n",
      "Cell \u001b[1;32mIn[6], line 15\u001b[0m, in \u001b[0;36mgen_system_prompt\u001b[1;34m(report_type, fact_or_pred, Discriminator_type, context_config, report_type_config)\u001b[0m\n\u001b[0;32m      1\u001b[0m \u001b[38;5;28;01mdef\u001b[39;00m \u001b[38;5;21mgen_system_prompt\u001b[39m(report_type:Literal[\u001b[38;5;124m'\u001b[39m\u001b[38;5;124mfinancial_stability\u001b[39m\u001b[38;5;124m'\u001b[39m, \u001b[38;5;124m'\u001b[39m\u001b[38;5;124mmonetary_policy_implementation\u001b[39m\u001b[38;5;124m'\u001b[39m, \u001b[38;5;124m'\u001b[39m\u001b[38;5;124mgovernment_work\u001b[39m\u001b[38;5;124m'\u001b[39m, \u001b[38;5;124m'\u001b[39m\u001b[38;5;124mregulatory_dynamics\u001b[39m\u001b[38;5;124m'\u001b[39m, \u001b[38;5;124m'\u001b[39m\u001b[38;5;124mleadership_activities_and_speeches\u001b[39m\u001b[38;5;124m'\u001b[39m, \u001b[38;5;124m'\u001b[39m\u001b[38;5;124mfinancial_work_conference_documents\u001b[39m\u001b[38;5;124m'\u001b[39m, \u001b[38;5;124m'\u001b[39m\u001b[38;5;124mimportant_news_from_securities_regulatory_commission\u001b[39m\u001b[38;5;124m'\u001b[39m],fact_or_pred:Literal[\u001b[38;5;124m'\u001b[39m\u001b[38;5;124mfacts\u001b[39m\u001b[38;5;124m'\u001b[39m,\u001b[38;5;124m'\u001b[39m\u001b[38;5;124mpredictions\u001b[39m\u001b[38;5;124m'\u001b[39m],Discriminator_type:Literal[\u001b[38;5;124m'\u001b[39m\u001b[38;5;124mjudge\u001b[39m\u001b[38;5;124m'\u001b[39m,\u001b[38;5;124m'\u001b[39m\u001b[38;5;124memotion\u001b[39m\u001b[38;5;124m'\u001b[39m,\u001b[38;5;124m'\u001b[39m\u001b[38;5;124mresults\u001b[39m\u001b[38;5;124m'\u001b[39m],context_config:\u001b[38;5;28mdict\u001b[39m\u001b[38;5;241m=\u001b[39mcontext_config,report_type_config:\u001b[38;5;28mdict\u001b[39m \u001b[38;5;241m=\u001b[39m report_type_config)\u001b[38;5;241m-\u001b[39m\u001b[38;5;241m>\u001b[39m\u001b[38;5;28mstr\u001b[39m:\n\u001b[0;32m      2\u001b[0m     report_type \u001b[38;5;241m=\u001b[39m report_type_config[report_type]\n\u001b[0;32m      3\u001b[0m     context_prompt  \u001b[38;5;241m=\u001b[39m PromptTemplate(\n\u001b[0;32m      4\u001b[0m         input_variables\u001b[38;5;241m=\u001b[39m[\u001b[38;5;124m\"\u001b[39m\u001b[38;5;124mreport_type\u001b[39m\u001b[38;5;124m\"\u001b[39m,\u001b[38;5;124m'\u001b[39m\u001b[38;5;124mobjective\u001b[39m\u001b[38;5;124m'\u001b[39m,\u001b[38;5;124m'\u001b[39m\u001b[38;5;124mresponse\u001b[39m\u001b[38;5;124m'\u001b[39m,\u001b[38;5;124m'\u001b[39m\u001b[38;5;124mexample\u001b[39m\u001b[38;5;124m'\u001b[39m],\n\u001b[0;32m      5\u001b[0m         template\u001b[38;5;241m=\u001b[39m \u001b[38;5;124m\"\"\"\u001b[39m\n\u001b[0;32m      6\u001b[0m \u001b[38;5;124m            1、[Context]: 你扮演的是标注专家的角色（role）,\u001b[39m\u001b[38;5;132;01m{report_type}\u001b[39;00m\n\u001b[0;32m      7\u001b[0m \u001b[38;5;124m            2、[Style]: 学术一些、简洁明了、不进行冗余输出。\u001b[39m\n\u001b[0;32m      8\u001b[0m \u001b[38;5;124m            3、[Tone]: 平和、中性，有说服力。\u001b[39m\n\u001b[0;32m      9\u001b[0m \u001b[38;5;124m            4、[Audience]: 金融学者\u001b[39m\n\u001b[0;32m     10\u001b[0m \u001b[38;5;124m            5、[Response“/”表示或，不能进行同时输出]: \u001b[39m\u001b[38;5;132;01m{response}\u001b[39;00m\n\u001b[0;32m     11\u001b[0m \u001b[38;5;124m            6、[Objective]: \u001b[39m\u001b[38;5;132;01m{objective}\u001b[39;00m\n\u001b[0;32m     12\u001b[0m \u001b[38;5;124m            7、[Example]：\u001b[39m\u001b[38;5;132;01m{example}\u001b[39;00m\n\u001b[0;32m     13\u001b[0m \n\u001b[0;32m     14\u001b[0m \u001b[38;5;124m            \u001b[39m\u001b[38;5;124m\"\"\"\u001b[39m\n\u001b[1;32m---> 15\u001b[0m     )\u001b[38;5;241m.\u001b[39mformat(report_type\u001b[38;5;241m=\u001b[39mreport_type, objective\u001b[38;5;241m=\u001b[39mcontext_config[fact_or_pred][Discriminator_type][\u001b[38;5;124m'\u001b[39m\u001b[38;5;124mobjective\u001b[39m\u001b[38;5;124m'\u001b[39m],response\u001b[38;5;241m=\u001b[39mcontext_config[fact_or_pred][Discriminator_type][\u001b[38;5;124m'\u001b[39m\u001b[38;5;124mresponse\u001b[39m\u001b[38;5;124m'\u001b[39m],example\u001b[38;5;241m=\u001b[39mcontext_config[fact_or_pred][Discriminator_type][\u001b[38;5;124m'\u001b[39m\u001b[38;5;124mexample\u001b[39m\u001b[38;5;124m'\u001b[39m])\n\u001b[0;32m     16\u001b[0m     \u001b[38;5;28;01mreturn\u001b[39;00m context_prompt\n",
      "\u001b[1;31mKeyError\u001b[0m: 'judges'"
     ]
    }
   ],
   "source": [
    "system_prompt = gen_system_prompt(report_type = 'financial_stability',fact_or_pred='facts',Discriminator_type='judges')"
   ]
  },
  {
   "cell_type": "code",
   "execution_count": 9,
   "metadata": {
    "ExecuteTime": {
     "end_time": "2025-03-06T07:51:49.981033600Z",
     "start_time": "2025-03-06T07:51:49.968748300Z"
    },
    "collapsed": false
   },
   "outputs": [],
   "source": [
    "system_prompt = gen_system_prompt(report_type = 'financial_stability',fact_or_pred='facts',Discriminator_type='judge')"
   ]
  },
  {
   "cell_type": "code",
   "execution_count": 10,
   "metadata": {
    "ExecuteTime": {
     "end_time": "2025-03-06T08:01:37.901122600Z",
     "start_time": "2025-03-06T08:01:37.895026200Z"
    },
    "collapsed": false
   },
   "outputs": [
    {
     "name": "stdout",
     "output_type": "stream",
     "text": [
      "\n",
      "            1、[Context]: 你扮演的是标注专家的角色（role）,金融稳定报告聚焦于当前国内外金融体系的运行状况，分析可能影响金融稳定的风险因素，并提出应对建议。其研究对象主要包括银行、保险、证券等金融机构的运行情况，金融市场的波动性，以及跨境资本流动的趋势。撰写目的在于通过全面评估金融体系的脆弱点，为政策制定者和监管机构提供决策支持，确保金融体系的稳健运行。报告通常通过数据分析、案例研究以及国际对比的方式展开，重点解决潜在的系统性风险和突发性金融危机应对问题。\n",
      "            2、[Style]: 学术一些、简洁明了、不进行冗余输出。\n",
      "            3、[Tone]: 平和、中性，有说服力。\n",
      "            4、[Audience]: 金融学者\n",
      "            5、[Response“/”表示或，不能进行同时输出]: 只输出 [是/否]，不要进行冗余输出。\n",
      "            6、[Objective]: 在[目标文段]中判断是否存在[事实描述]信息。其中[事实描述]为提取段落中关于经济或市场状况的客观信息，包括已发生或现阶段正在发生的具体数据、现象或事件。\n",
      "            7、[Example]：\n",
      "                        Example1:\n",
      "                            [目标文段]: 2023年，全球经济复苏步伐放缓，主要经济体通胀水平虽有所回落但仍处于高位，货币政策普遍保持紧缩状态。国内经济延续恢复态势，工业生产平稳增长，消费市场逐步回暖，外贸出口增速有所回升，金融市场整体运行平稳，银行信贷投放保持增长态势。\n",
      "                            [Response]:[是]\n",
      "                        Example2:\n",
      "                            [目标文段]: 随着全球经济增速放缓和主要经济体货币政策持续收紧，未来国际金融市场波动性可能进一步上升，对跨境资本流动和外部需求构成压力。国内经济在政策支持下预计将保持恢复态势，但内外需的不确定性仍可能制约增长动能，需关注地方政府债务、房地产市场调整等潜在风险，同时深化改革以优化经济结构和提升增长质量。\n",
      "                            [Response]:[否]\n",
      "                    \n",
      "\n",
      "            \n"
     ]
    }
   ],
   "source": [
    "print(system_prompt)"
   ]
  },
  {
   "cell_type": "markdown",
   "metadata": {
    "collapsed": false
   },
   "source": [
    "# user_prompt"
   ]
  },
  {
   "cell_type": "code",
   "execution_count": 11,
   "metadata": {
    "ExecuteTime": {
     "end_time": "2025-03-06T07:51:50.450128300Z",
     "start_time": "2025-03-06T07:51:50.441145700Z"
    },
    "collapsed": false
   },
   "outputs": [],
   "source": [
    "def gen_user_prompt(text:str)->str:\n",
    "        user_prompt = PromptTemplate(\n",
    "            input_variables=[\"text\"],\n",
    "            template= \"\"\"\n",
    "                请根据以上信息对以下目标文段进行判断：\n",
    "                [目标文段]：{text}\n",
    "                \"\"\"\n",
    "        ).format(text=text)\n",
    "        return user_prompt"
   ]
  },
  {
   "cell_type": "code",
   "execution_count": 12,
   "metadata": {
    "ExecuteTime": {
     "end_time": "2025-03-06T07:51:50.611822300Z",
     "start_time": "2025-03-06T07:51:50.601899200Z"
    },
    "collapsed": false
   },
   "outputs": [],
   "source": [
    "text = context_series[0]"
   ]
  },
  {
   "cell_type": "code",
   "execution_count": 13,
   "metadata": {
    "ExecuteTime": {
     "end_time": "2025-03-06T07:51:50.769737300Z",
     "start_time": "2025-03-06T07:51:50.758567800Z"
    },
    "collapsed": false
   },
   "outputs": [
    {
     "data": {
      "text/plain": [
       "'2001年政府工作报告。——2001年3月5日在第九届全国人民代表大会第四次会议上。国务院总理朱镕基。各位代表'"
      ]
     },
     "execution_count": 13,
     "metadata": {},
     "output_type": "execute_result"
    }
   ],
   "source": [
    "text"
   ]
  },
  {
   "cell_type": "code",
   "execution_count": 14,
   "metadata": {
    "ExecuteTime": {
     "end_time": "2025-03-06T07:51:50.923265Z",
     "start_time": "2025-03-06T07:51:50.915448600Z"
    },
    "collapsed": false
   },
   "outputs": [],
   "source": [
    "user_prompt = gen_user_prompt(text)"
   ]
  },
  {
   "cell_type": "code",
   "execution_count": 15,
   "metadata": {
    "ExecuteTime": {
     "end_time": "2025-03-06T08:02:26.417308Z",
     "start_time": "2025-03-06T08:02:26.409407700Z"
    },
    "collapsed": false
   },
   "outputs": [
    {
     "name": "stdout",
     "output_type": "stream",
     "text": [
      "\n",
      "                请根据以上信息对以下目标文段进行判断：\n",
      "                [目标文段]：2001年政府工作报告。——2001年3月5日在第九届全国人民代表大会第四次会议上。国务院总理朱镕基。各位代表\n",
      "                \n"
     ]
    }
   ],
   "source": [
    "print(user_prompt)"
   ]
  },
  {
   "cell_type": "markdown",
   "metadata": {
    "collapsed": false
   },
   "source": [
    "# 连接大语言模型API"
   ]
  },
  {
   "cell_type": "code",
   "execution_count": 16,
   "metadata": {
    "ExecuteTime": {
     "end_time": "2025-03-06T07:51:51.507607400Z",
     "start_time": "2025-03-06T07:51:51.390108500Z"
    },
    "collapsed": false
   },
   "outputs": [],
   "source": [
    "client = OpenAI(\n",
    "    # 若没有配置环境变量，请用百炼API Key将下行替换为：api_key=\"sk-xxx\",\n",
    "    api_key=\"sk-38qRva96jnWYMWINA91f52Ea259243AaBf7a44382f7c9741\",\n",
    "    base_url=\"https://oneapi.inboc.net/v1\",\n",
    ")"
   ]
  },
  {
   "cell_type": "markdown",
   "metadata": {
    "collapsed": false
   },
   "source": [
    "# 问答"
   ]
  },
  {
   "cell_type": "code",
   "execution_count": 17,
   "metadata": {
    "ExecuteTime": {
     "end_time": "2025-03-06T07:51:52.362872400Z",
     "start_time": "2025-03-06T07:51:51.731969900Z"
    },
    "collapsed": false
   },
   "outputs": [],
   "source": [
    "completion = client.chat.completions.create(\n",
    "    model=\"qwen2.5-72b\", # 此处以qwen-plus为例，可按需更换模型名称。模型列表：https://help.aliyun.com/zh/model-studio/getting-started/models\n",
    "    messages=[\n",
    "        {'role': 'system', 'content': system_prompt},\n",
    "        {'role': 'user', 'content': user_prompt}],\n",
    ").choices[0].message.content"
   ]
  },
  {
   "cell_type": "code",
   "execution_count": 18,
   "metadata": {
    "ExecuteTime": {
     "end_time": "2025-03-06T07:51:52.366303900Z",
     "start_time": "2025-03-06T07:51:52.362872400Z"
    },
    "collapsed": false
   },
   "outputs": [
    {
     "name": "stdout",
     "output_type": "stream",
     "text": [
      "[否]\n"
     ]
    }
   ],
   "source": [
    "print(completion)"
   ]
  },
  {
   "cell_type": "markdown",
   "metadata": {
    "collapsed": false
   },
   "source": [
    "# pipline\n"
   ]
  },
  {
   "cell_type": "code",
   "execution_count": 19,
   "metadata": {
    "ExecuteTime": {
     "end_time": "2025-03-06T07:51:52.497684700Z",
     "start_time": "2025-03-06T07:51:52.489933700Z"
    },
    "collapsed": false
   },
   "outputs": [],
   "source": [
    "def qa_pipline(model,text:str,report_type:Literal['financial_stability', 'monetary_policy_implementation', 'government_work', 'regulatory_dynamics', 'leadership_activities_and_speeches', 'financial_work_conference_documents', 'important_news_from_securities_regulatory_commission'],fact_or_pred:Literal['facts','predictions'],Discriminator_type:Literal['judge','emotion','results']):\n",
    "    system_prompt = gen_system_prompt(report_type = report_type,fact_or_pred=fact_or_pred,Discriminator_type=Discriminator_type)\n",
    "    user_prompt = gen_user_prompt(text)\n",
    "    answer = client.chat.completions.create(\n",
    "        model=model,\n",
    "        messages=[\n",
    "            {'role': 'system', 'content': system_prompt},\n",
    "            {'role': 'user', 'content': user_prompt}],\n",
    "    ).choices[0].message.content\n",
    "    return answer"
   ]
  },
  {
   "cell_type": "code",
   "execution_count": 20,
   "metadata": {
    "ExecuteTime": {
     "end_time": "2025-03-06T07:51:53.197609900Z",
     "start_time": "2025-03-06T07:51:52.676980200Z"
    },
    "collapsed": false
   },
   "outputs": [
    {
     "data": {
      "text/plain": [
       "'[否]'"
      ]
     },
     "execution_count": 20,
     "metadata": {},
     "output_type": "execute_result"
    }
   ],
   "source": [
    "qa_pipline(\"qwen2.5-72b\",text,'financial_stability','facts','judge')"
   ]
  },
  {
   "cell_type": "code",
   "execution_count": 24,
   "metadata": {
    "ExecuteTime": {
     "end_time": "2025-03-06T07:51:53.207478100Z",
     "start_time": "2025-03-06T07:51:53.197609900Z"
    },
    "collapsed": false
   },
   "outputs": [],
   "source": [
    "def single_text_work_flow(text:str,report_type:Literal['financial_stability', 'monetary_policy_implementation', 'government_work', 'regulatory_dynamics', 'leadership_activities_and_speeches', 'financial_work_conference_documents', 'important_news_from_securities_regulatory_commission'],model=\"qwen2.5-72b\"):\n",
    "\n",
    "    facts_answer = qa_pipline(model,text,report_type,'facts','judge')\n",
    "    pred_answer = qa_pipline(model,text,report_type,'predictions','judge')\n",
    "    if facts_answer == '[是]':\n",
    "        facts_emotion_answer = qa_pipline(model,text,report_type,'facts','emotion')\n",
    "        text = text+'\\n'+facts_emotion_answer\n",
    "        facts_results_answer = qa_pipline(model,text,report_type,'facts','results')\n",
    "        result_list = [facts_answer,facts_emotion_answer,facts_results_answer,None,None,None]\n",
    "    elif pred_answer == '[是]':\n",
    "        pred_emotion_answer = qa_pipline(model,text,report_type,'facts','emotion')\n",
    "        text = text+'\\n'+pred_emotion_answer\n",
    "        pred_results_answer = qa_pipline(model,text,report_type,'facts','results')\n",
    "        result_list = [None,None,None,pred_answer,pred_emotion_answer,pred_results_answer]\n",
    "    else:\n",
    "        result_list =[None,None,None,None,None,None]\n",
    "    return result_list"
   ]
  },
  {
   "cell_type": "code",
   "execution_count": null,
   "metadata": {
    "ExecuteTime": {
     "end_time": "2025-03-06T07:51:53.207478100Z",
     "start_time": "2025-03-06T07:51:53.200593200Z"
    },
    "collapsed": false
   },
   "outputs": [],
   "source": []
  },
  {
   "cell_type": "code",
   "execution_count": 25,
   "metadata": {
    "ExecuteTime": {
     "end_time": "2025-03-06T07:51:54.410780300Z",
     "start_time": "2025-03-06T07:51:54.381165500Z"
    },
    "collapsed": false
   },
   "outputs": [
    {
     "ename": "KeyError",
     "evalue": "'1'",
     "output_type": "error",
     "traceback": [
      "\u001b[1;31m---------------------------------------------------------------------------\u001b[0m",
      "\u001b[1;31mKeyError\u001b[0m                                  Traceback (most recent call last)",
      "Cell \u001b[1;32mIn[25], line 1\u001b[0m\n\u001b[1;32m----> 1\u001b[0m single_text_work_flow(text,\u001b[38;5;124m'\u001b[39m\u001b[38;5;124m1\u001b[39m\u001b[38;5;124m'\u001b[39m)\n",
      "Cell \u001b[1;32mIn[24], line 3\u001b[0m, in \u001b[0;36msingle_text_work_flow\u001b[1;34m(text, report_type, model)\u001b[0m\n\u001b[0;32m      1\u001b[0m \u001b[38;5;28;01mdef\u001b[39;00m \u001b[38;5;21msingle_text_work_flow\u001b[39m(text:\u001b[38;5;28mstr\u001b[39m,report_type:Literal[\u001b[38;5;124m'\u001b[39m\u001b[38;5;124mfinancial_stability\u001b[39m\u001b[38;5;124m'\u001b[39m, \u001b[38;5;124m'\u001b[39m\u001b[38;5;124mmonetary_policy_implementation\u001b[39m\u001b[38;5;124m'\u001b[39m, \u001b[38;5;124m'\u001b[39m\u001b[38;5;124mgovernment_work\u001b[39m\u001b[38;5;124m'\u001b[39m, \u001b[38;5;124m'\u001b[39m\u001b[38;5;124mregulatory_dynamics\u001b[39m\u001b[38;5;124m'\u001b[39m, \u001b[38;5;124m'\u001b[39m\u001b[38;5;124mleadership_activities_and_speeches\u001b[39m\u001b[38;5;124m'\u001b[39m, \u001b[38;5;124m'\u001b[39m\u001b[38;5;124mfinancial_work_conference_documents\u001b[39m\u001b[38;5;124m'\u001b[39m, \u001b[38;5;124m'\u001b[39m\u001b[38;5;124mimportant_news_from_securities_regulatory_commission\u001b[39m\u001b[38;5;124m'\u001b[39m],model\u001b[38;5;241m=\u001b[39m\u001b[38;5;124m\"\u001b[39m\u001b[38;5;124mqwen2.5-72b\u001b[39m\u001b[38;5;124m\"\u001b[39m):\n\u001b[1;32m----> 3\u001b[0m     facts_answer \u001b[38;5;241m=\u001b[39m qa_pipline(model,text,report_type,\u001b[38;5;124m'\u001b[39m\u001b[38;5;124mfacts\u001b[39m\u001b[38;5;124m'\u001b[39m,\u001b[38;5;124m'\u001b[39m\u001b[38;5;124mjudge\u001b[39m\u001b[38;5;124m'\u001b[39m)\n\u001b[0;32m      4\u001b[0m     pred_answer \u001b[38;5;241m=\u001b[39m qa_pipline(model,text,report_type,\u001b[38;5;124m'\u001b[39m\u001b[38;5;124mpredictions\u001b[39m\u001b[38;5;124m'\u001b[39m,\u001b[38;5;124m'\u001b[39m\u001b[38;5;124mjudge\u001b[39m\u001b[38;5;124m'\u001b[39m)\n\u001b[0;32m      5\u001b[0m     \u001b[38;5;28;01mif\u001b[39;00m facts_answer \u001b[38;5;241m==\u001b[39m \u001b[38;5;124m'\u001b[39m\u001b[38;5;124m[是]\u001b[39m\u001b[38;5;124m'\u001b[39m:\n",
      "Cell \u001b[1;32mIn[19], line 2\u001b[0m, in \u001b[0;36mqa_pipline\u001b[1;34m(model, text, report_type, fact_or_pred, Discriminator_type)\u001b[0m\n\u001b[0;32m      1\u001b[0m \u001b[38;5;28;01mdef\u001b[39;00m \u001b[38;5;21mqa_pipline\u001b[39m(model,text:\u001b[38;5;28mstr\u001b[39m,report_type:Literal[\u001b[38;5;124m'\u001b[39m\u001b[38;5;124mfinancial_stability\u001b[39m\u001b[38;5;124m'\u001b[39m, \u001b[38;5;124m'\u001b[39m\u001b[38;5;124mmonetary_policy_implementation\u001b[39m\u001b[38;5;124m'\u001b[39m, \u001b[38;5;124m'\u001b[39m\u001b[38;5;124mgovernment_work\u001b[39m\u001b[38;5;124m'\u001b[39m, \u001b[38;5;124m'\u001b[39m\u001b[38;5;124mregulatory_dynamics\u001b[39m\u001b[38;5;124m'\u001b[39m, \u001b[38;5;124m'\u001b[39m\u001b[38;5;124mleadership_activities_and_speeches\u001b[39m\u001b[38;5;124m'\u001b[39m, \u001b[38;5;124m'\u001b[39m\u001b[38;5;124mfinancial_work_conference_documents\u001b[39m\u001b[38;5;124m'\u001b[39m, \u001b[38;5;124m'\u001b[39m\u001b[38;5;124mimportant_news_from_securities_regulatory_commission\u001b[39m\u001b[38;5;124m'\u001b[39m],fact_or_pred:Literal[\u001b[38;5;124m'\u001b[39m\u001b[38;5;124mfacts\u001b[39m\u001b[38;5;124m'\u001b[39m,\u001b[38;5;124m'\u001b[39m\u001b[38;5;124mpredictions\u001b[39m\u001b[38;5;124m'\u001b[39m],Discriminator_type:Literal[\u001b[38;5;124m'\u001b[39m\u001b[38;5;124mjudge\u001b[39m\u001b[38;5;124m'\u001b[39m,\u001b[38;5;124m'\u001b[39m\u001b[38;5;124memotion\u001b[39m\u001b[38;5;124m'\u001b[39m,\u001b[38;5;124m'\u001b[39m\u001b[38;5;124mresults\u001b[39m\u001b[38;5;124m'\u001b[39m]):\n\u001b[1;32m----> 2\u001b[0m     system_prompt \u001b[38;5;241m=\u001b[39m gen_system_prompt(report_type \u001b[38;5;241m=\u001b[39m report_type,fact_or_pred\u001b[38;5;241m=\u001b[39mfact_or_pred,Discriminator_type\u001b[38;5;241m=\u001b[39mDiscriminator_type)\n\u001b[0;32m      3\u001b[0m     user_prompt \u001b[38;5;241m=\u001b[39m gen_user_prompt(text)\n\u001b[0;32m      4\u001b[0m     answer \u001b[38;5;241m=\u001b[39m client\u001b[38;5;241m.\u001b[39mchat\u001b[38;5;241m.\u001b[39mcompletions\u001b[38;5;241m.\u001b[39mcreate(\n\u001b[0;32m      5\u001b[0m         model\u001b[38;5;241m=\u001b[39mmodel,\n\u001b[0;32m      6\u001b[0m         messages\u001b[38;5;241m=\u001b[39m[\n\u001b[0;32m      7\u001b[0m             {\u001b[38;5;124m'\u001b[39m\u001b[38;5;124mrole\u001b[39m\u001b[38;5;124m'\u001b[39m: \u001b[38;5;124m'\u001b[39m\u001b[38;5;124msystem\u001b[39m\u001b[38;5;124m'\u001b[39m, \u001b[38;5;124m'\u001b[39m\u001b[38;5;124mcontent\u001b[39m\u001b[38;5;124m'\u001b[39m: system_prompt},\n\u001b[0;32m      8\u001b[0m             {\u001b[38;5;124m'\u001b[39m\u001b[38;5;124mrole\u001b[39m\u001b[38;5;124m'\u001b[39m: \u001b[38;5;124m'\u001b[39m\u001b[38;5;124muser\u001b[39m\u001b[38;5;124m'\u001b[39m, \u001b[38;5;124m'\u001b[39m\u001b[38;5;124mcontent\u001b[39m\u001b[38;5;124m'\u001b[39m: user_prompt}],\n\u001b[0;32m      9\u001b[0m     )\u001b[38;5;241m.\u001b[39mchoices[\u001b[38;5;241m0\u001b[39m]\u001b[38;5;241m.\u001b[39mmessage\u001b[38;5;241m.\u001b[39mcontent\n",
      "Cell \u001b[1;32mIn[6], line 2\u001b[0m, in \u001b[0;36mgen_system_prompt\u001b[1;34m(report_type, fact_or_pred, Discriminator_type, context_config, report_type_config)\u001b[0m\n\u001b[0;32m      1\u001b[0m \u001b[38;5;28;01mdef\u001b[39;00m \u001b[38;5;21mgen_system_prompt\u001b[39m(report_type:Literal[\u001b[38;5;124m'\u001b[39m\u001b[38;5;124mfinancial_stability\u001b[39m\u001b[38;5;124m'\u001b[39m, \u001b[38;5;124m'\u001b[39m\u001b[38;5;124mmonetary_policy_implementation\u001b[39m\u001b[38;5;124m'\u001b[39m, \u001b[38;5;124m'\u001b[39m\u001b[38;5;124mgovernment_work\u001b[39m\u001b[38;5;124m'\u001b[39m, \u001b[38;5;124m'\u001b[39m\u001b[38;5;124mregulatory_dynamics\u001b[39m\u001b[38;5;124m'\u001b[39m, \u001b[38;5;124m'\u001b[39m\u001b[38;5;124mleadership_activities_and_speeches\u001b[39m\u001b[38;5;124m'\u001b[39m, \u001b[38;5;124m'\u001b[39m\u001b[38;5;124mfinancial_work_conference_documents\u001b[39m\u001b[38;5;124m'\u001b[39m, \u001b[38;5;124m'\u001b[39m\u001b[38;5;124mimportant_news_from_securities_regulatory_commission\u001b[39m\u001b[38;5;124m'\u001b[39m],fact_or_pred:Literal[\u001b[38;5;124m'\u001b[39m\u001b[38;5;124mfacts\u001b[39m\u001b[38;5;124m'\u001b[39m,\u001b[38;5;124m'\u001b[39m\u001b[38;5;124mpredictions\u001b[39m\u001b[38;5;124m'\u001b[39m],Discriminator_type:Literal[\u001b[38;5;124m'\u001b[39m\u001b[38;5;124mjudge\u001b[39m\u001b[38;5;124m'\u001b[39m,\u001b[38;5;124m'\u001b[39m\u001b[38;5;124memotion\u001b[39m\u001b[38;5;124m'\u001b[39m,\u001b[38;5;124m'\u001b[39m\u001b[38;5;124mresults\u001b[39m\u001b[38;5;124m'\u001b[39m],context_config:\u001b[38;5;28mdict\u001b[39m\u001b[38;5;241m=\u001b[39mcontext_config,report_type_config:\u001b[38;5;28mdict\u001b[39m \u001b[38;5;241m=\u001b[39m report_type_config)\u001b[38;5;241m-\u001b[39m\u001b[38;5;241m>\u001b[39m\u001b[38;5;28mstr\u001b[39m:\n\u001b[1;32m----> 2\u001b[0m     report_type \u001b[38;5;241m=\u001b[39m report_type_config[report_type]\n\u001b[0;32m      3\u001b[0m     context_prompt  \u001b[38;5;241m=\u001b[39m PromptTemplate(\n\u001b[0;32m      4\u001b[0m         input_variables\u001b[38;5;241m=\u001b[39m[\u001b[38;5;124m\"\u001b[39m\u001b[38;5;124mreport_type\u001b[39m\u001b[38;5;124m\"\u001b[39m,\u001b[38;5;124m'\u001b[39m\u001b[38;5;124mobjective\u001b[39m\u001b[38;5;124m'\u001b[39m,\u001b[38;5;124m'\u001b[39m\u001b[38;5;124mresponse\u001b[39m\u001b[38;5;124m'\u001b[39m,\u001b[38;5;124m'\u001b[39m\u001b[38;5;124mexample\u001b[39m\u001b[38;5;124m'\u001b[39m],\n\u001b[0;32m      5\u001b[0m         template\u001b[38;5;241m=\u001b[39m \u001b[38;5;124m\"\"\"\u001b[39m\n\u001b[1;32m   (...)\u001b[0m\n\u001b[0;32m     14\u001b[0m \u001b[38;5;124m            \u001b[39m\u001b[38;5;124m\"\"\"\u001b[39m\n\u001b[0;32m     15\u001b[0m     )\u001b[38;5;241m.\u001b[39mformat(report_type\u001b[38;5;241m=\u001b[39mreport_type, objective\u001b[38;5;241m=\u001b[39mcontext_config[fact_or_pred][Discriminator_type][\u001b[38;5;124m'\u001b[39m\u001b[38;5;124mobjective\u001b[39m\u001b[38;5;124m'\u001b[39m],response\u001b[38;5;241m=\u001b[39mcontext_config[fact_or_pred][Discriminator_type][\u001b[38;5;124m'\u001b[39m\u001b[38;5;124mresponse\u001b[39m\u001b[38;5;124m'\u001b[39m],example\u001b[38;5;241m=\u001b[39mcontext_config[fact_or_pred][Discriminator_type][\u001b[38;5;124m'\u001b[39m\u001b[38;5;124mexample\u001b[39m\u001b[38;5;124m'\u001b[39m])\n\u001b[0;32m     16\u001b[0m     \u001b[38;5;28;01mreturn\u001b[39;00m context_prompt\n",
      "\u001b[1;31mKeyError\u001b[0m: '1'"
     ]
    }
   ],
   "source": [
    "single_text_work_flow(text,'1')"
   ]
  },
  {
   "cell_type": "code",
   "execution_count": 26,
   "metadata": {
    "ExecuteTime": {
     "end_time": "2025-03-06T07:51:56.036720900Z",
     "start_time": "2025-03-06T07:51:54.899906Z"
    },
    "collapsed": false
   },
   "outputs": [
    {
     "data": {
      "text/plain": [
       "[None, None, None, None, None, None]"
      ]
     },
     "execution_count": 26,
     "metadata": {},
     "output_type": "execute_result"
    }
   ],
   "source": [
    "single_text_work_flow(text,'financial_stability')"
   ]
  },
  {
   "cell_type": "code",
   "execution_count": 27,
   "metadata": {
    "ExecuteTime": {
     "end_time": "2025-03-06T07:51:56.039742600Z",
     "start_time": "2025-03-06T07:51:56.036720900Z"
    },
    "collapsed": false
   },
   "outputs": [
    {
     "data": {
      "text/plain": [
       "'国民经济持续快速健康发展，综合国力进一步增强。国内生产总值2000年达89404亿元，平均每年增长8.3％。人均国民生产总值比1980年翻两番的任务，已经超额完成。在经济持续增长和效益改善的基础上，2000年国家财政收入达13380亿元，平均每年增长16.5％。主要工农业产品产量位居世界前列，商品短缺状况基本结束。产业结构调整取得积极进展。粮食等主要农产品生产能力明显提高，实现了农产品供给由长期短缺到总量基本平衡、丰年有余的历史性转变。淘汰落后和压缩过剩工业生产能力取得成效，重点企业技术改造不断推进。信息产业等高新技术产业迅速成长。基础设施建设成绩显著，能源、交通、通信和原材料的“瓶颈”制约得到缓解'"
      ]
     },
     "execution_count": 27,
     "metadata": {},
     "output_type": "execute_result"
    }
   ],
   "source": [
    "text = context_series[3]\n",
    "text"
   ]
  },
  {
   "cell_type": "code",
   "execution_count": 28,
   "metadata": {
    "ExecuteTime": {
     "end_time": "2025-03-06T07:52:04.530902100Z",
     "start_time": "2025-03-06T07:51:56.039742600Z"
    },
    "collapsed": false
   },
   "outputs": [
    {
     "data": {
      "text/plain": [
       "['[是]',\n",
       " '情感倾向-[积极]；程度-[极强]',\n",
       " '该文段[存在]事实描述类文本，且事实描述类情感倾向判断[正确]，程度划分[正确]。[理由陈述]该文段主要描述了国民经济在多个方面的成就，使用了诸如“持续快速健康发展”、“平均每年增长8.3%”、“超额完成”、“平均每年增长16.5%”、“位居世界前列”、“历史性转变”等词语来强调事实现象的积极性和程度的极强。这些描述展示了经济的显著成就和积极进展，因此，该文段被正确地分类为事实描述类文本，其情感倾向和程度划分也被正确地评估为“积极”和“极强”。',\n",
       " None,\n",
       " None,\n",
       " None]"
      ]
     },
     "execution_count": 28,
     "metadata": {},
     "output_type": "execute_result"
    }
   ],
   "source": [
    "single_text_work_flow(text,'financial_stability')"
   ]
  },
  {
   "cell_type": "markdown",
   "metadata": {
    "collapsed": false
   },
   "source": [
    "# 一个文件批量化处理\n"
   ]
  },
  {
   "cell_type": "code",
   "execution_count": 29,
   "metadata": {
    "ExecuteTime": {
     "end_time": "2025-03-06T08:12:38.330788500Z",
     "start_time": "2025-03-06T08:12:38.323292500Z"
    },
    "collapsed": false
   },
   "outputs": [],
   "source": [
    "file_path = './data/政府工作报告csv/2002.csv'\n",
    "output_dir = './data/processed_data/政府工作报告csv'\n",
    "report_type = 'financial_stability'"
   ]
  },
  {
   "cell_type": "code",
   "execution_count": null,
   "metadata": {
    "ExecuteTime": {
     "end_time": "2025-03-06T08:12:38.721089800Z",
     "start_time": "2025-03-06T08:12:38.713085800Z"
    },
    "collapsed": false
   },
   "outputs": [],
   "source": []
  },
  {
   "cell_type": "code",
   "execution_count": 30,
   "metadata": {
    "ExecuteTime": {
     "end_time": "2025-03-06T08:12:38.956257300Z",
     "start_time": "2025-03-06T08:12:38.917881900Z"
    },
    "collapsed": false
   },
   "outputs": [],
   "source": [
    "context_series = pd.read_csv(file_path,encoding='utf-8',engine='python')['context']"
   ]
  },
  {
   "cell_type": "code",
   "execution_count": 31,
   "metadata": {
    "ExecuteTime": {
     "end_time": "2025-03-06T08:14:18.964960500Z",
     "start_time": "2025-03-06T08:12:39.110980700Z"
    },
    "collapsed": false
   },
   "outputs": [],
   "source": [
    "result_dict={}\n",
    "for i in range(len(context_series)):\n",
    "    text = context_series[i]\n",
    "\n",
    "    result_dict[i] = single_text_work_flow(text,'financial_stability')"
   ]
  },
  {
   "cell_type": "code",
   "execution_count": 32,
   "metadata": {
    "ExecuteTime": {
     "end_time": "2025-03-06T08:14:18.971377400Z",
     "start_time": "2025-03-06T08:14:18.966922100Z"
    },
    "collapsed": false
   },
   "outputs": [
    {
     "data": {
      "text/plain": [
       "{0: [None, None, None, None, None, None],\n",
       " 1: [None, None, None, None, None, None],\n",
       " 2: ['[是]',\n",
       "  '情感倾向-[积极]；程度-[强]',\n",
       "  '该文段[存在]事实描述类文本，且事实描述类情感倾向判断[正确]，程度划分[正确]。[理由陈述]该文段主要描述了国民经济在2001年的良好发展情况，使用了诸如“实现了经济较快增长”、“经济结构调整取得积极进展”、“基础设施建设取得显著成绩”、“经济增长质量和效益进一步提高”、“金融运行平稳”、“外贸进出口总额突破5000亿美元”等词语来强调事实现象的积极性和程度的强。这些描述反映了经济在多个方面的积极进展，且数据和具体成就进一步支持了这种积极的描述。因此，该文段被正确地分类为事实描述类文本，其情感倾向和程度划分也被正确地评估为“积极”和“强”。',\n",
       "  None,\n",
       "  None,\n",
       "  None],\n",
       " 3: ['[是]',\n",
       "  '情感倾向-[积极]；程度-[中]',\n",
       "  '该文段[存在]事实描述类文本，且事实描述类情感倾向判断[正确]，程度划分[正确]。[理由陈述]该文段主要描述了经济体制改革的进展，使用了诸如“继续推进”、“加快”、“取得成效”、“进展顺利”等词语，表明了改革措施的积极效果。然而，这些描述并没有使用极端积极的词汇，如“创纪录”、“前所未有”等，因此情感倾向为“积极”，程度为“中”是合理的。文本中的事实描述客观、中性，符合学术和政策文件的写作特点。',\n",
       "  None,\n",
       "  None,\n",
       "  None],\n",
       " 4: [None, None, None, None, None, None],\n",
       " 5: ['[是]',\n",
       "  '情感倾向-[积极]；程度-[中] \\n\\n- 语言措辞：文段使用了“继续改善”、“大幅度增加”、“扩大”、“提高”等正面词汇，显示出积极的态势。\\n- 数据分析：文段提供了具体的数据支持，如城镇居民人均可支配收入实际增长8.5%，城市居民最低生活保障的覆盖人数从400多万人增加到1120多万人，中央财政增加支出621亿元，农民人均纯收入实际增长4.2%等，这些数据均表明了积极的经济成果。',\n",
       "  '该文段[存在]事实描述类文本，且事实描述类情感倾向判断[正确]，程度划分[正确]。[理由陈述]该文段主要是描述事实现象，使用了诸如“继续改善”、“大幅度增加”、“扩大”、“提高”等正面词汇，显示出积极的态势。同时，文段提供了具体的数据支持，如城镇居民人均可支配收入实际增长8.5%，城市居民最低生活保障的覆盖人数从400多万人增加到1120多万人，中央财政增加支出621亿元，农民人均纯收入实际增长4.2%等，这些数据均表明了积极的经济成果。因此，该文段被正确地分类为事实描述类文本，其情感倾向和程度划分也被正确地评估为“积极”和“中”。',\n",
       "  None,\n",
       "  None,\n",
       "  None],\n",
       " 6: [None, None, None, None, None, None],\n",
       " 7: [None, None, None, None, None, None],\n",
       " 8: [None, None, None, None, None, None],\n",
       " 9: ['[是]',\n",
       "  '情感倾向-[中性]；程度-[中]\\n\\n语言措辞：文段使用了较为平衡的措辞，既指出了当前面临的复杂国际形势和国内挑战，又强调了有利条件和信心，整体呈现中性态度。\\n\\n数据分析：文段没有提供具体的数据支持，而是通过描述当前的经济和政治环境，以及对未来发展的展望，传达了中性的情感倾向。',\n",
       "  '该文段[存在]事实描述类文本，且事实描述类情感倾向判断[正确]，程度划分[正确]。[理由陈述]该文段在描述国内外经济和政治环境时，既指出当前面临的复杂挑战，如“全球经济和贸易增长仍然缓慢”、“国际市场竞争更加激烈”、“贸易保护主义加剧”等，也强调了有利条件，如“我国综合国力显著增强”、“国内市场潜力巨大”、“经济发展有较大回旋余地”等。这种平衡的措辞使得整体情感倾向呈现中性，程度为中。文段没有使用极端的正面或负面词汇，而是通过客观描述当前的形势和未来的发展条件，传达了中性的情感倾向。因此，该文段的情感倾向和程度划分是正确的。',\n",
       "  None,\n",
       "  None,\n",
       "  None],\n",
       " 10: [None, None, None, None, None, None],\n",
       " 11: [None, None, None, None, None, None],\n",
       " 12: [None,\n",
       "  None,\n",
       "  None,\n",
       "  '[是]',\n",
       "  '情感倾向-[积极]；程度-[中]',\n",
       "  '该文段[存在]事实描述类文本，且事实描述类情感倾向判断[正确]，程度划分[正确]。[理由陈述]该文段主要通过描述当前的经济形势和提出政策建议，旨在促进经济增长和改善民生。虽然使用的语言较为平和，但整体上表达了积极的态度，尤其是在强调扩大国内需求和实施积极财政政策方面。然而，由于文段主要是在提出建议和描述策略，而不是强烈地表达积极或消极情绪，因此情感倾向的程度被正确地评估为“中”。'],\n",
       " 13: [None, None, None, None, None, None],\n",
       " 14: ['[是]',\n",
       "  '[Response]: 情感倾向-[积极]；程度-[中]\\n\\n**语言措辞**:\\n- 文段使用了“带动固定资产投资较快增长”、“促进经济增长和培植财源”等积极表述，强调了国债投资的正面效果。\\n- 用词如“有利于”、“充分发挥”、“合理、节约使用”等，传达了积极的政策导向和预期效果。\\n\\n**数据分析**:\\n- 文段提到“居民储蓄存款增加较多，银行资金比较充裕，利率水平较低，市场价格稳定”，这些数据表明当前金融环境有利于国债发行。\\n- “国债余额占国内生产总值的比重仍在安全线以内”这一数据进一步支持了国债发行的可行性，表明风险可控。',\n",
       "  '[Response]: 该文段[存在]事实描述类文本，且事实描述类情感倾向判断[正确]，程度划分[正确]。[理由陈述]该文段主要是描述事实现象，并使用了诸如“带动固定资产投资较快增长”、“促进经济增长和培植财源”、“有利于集中力量办大事”等词语来强调国债投资的积极效果。同时，文段中提到的具体数据和情况，如“居民储蓄存款增加较多，银行资金比较充裕，利率水平较低，市场价格稳定”以及“国债余额占国内生产总值的比重仍在安全线以内”，进一步支持了国债发行的可行性和低风险性。这些描述和数据使得文段整体上呈现出积极的情感倾向，但程度上较为中等，因为文段也包含了一些谨慎的建议和措施，如“合理规划”、“量力而行”、“防止无效投入和重复建设”等，表明了政策的审慎态度。因此，该文段的情感倾向和程度划分被正确地评估为“积极”和“中等”。',\n",
       "  None,\n",
       "  None,\n",
       "  None],\n",
       " 15: [None, None, None, None, None, None],\n",
       " 16: [None,\n",
       "  None,\n",
       "  None,\n",
       "  '[是]',\n",
       "  '情感倾向-[中性]；程度-[中]',\n",
       "  '该文段[存在]事实描述类文本，且事实描述类情感倾向判断[正确]，程度划分[正确]。[理由陈述]该文段主要是描述政策建议和措施，旨在确保金融体系的稳健运行。文段中并没有明显的情绪色彩，语言平和、中性，主要强调的是政策和措施的实施，因此其情感倾向为中性。同时，文段内容较为全面，涉及多个方面的政策建议，但没有表现出强烈的情感倾向或极端的评价，因此程度划分为中。'],\n",
       " 17: [None, None, None, None, None, None],\n",
       " 18: [None, None, None, None, None, None],\n",
       " 19: [None, None, None, None, None, None],\n",
       " 20: [None, None, None, None, None, None],\n",
       " 21: [None, None, None, None, None, None],\n",
       " 22: [None, None, None, None, None, None],\n",
       " 23: [None, None, None, None, None, None],\n",
       " 24: [None, None, None, None, None, None],\n",
       " 25: [None, None, None, None, None, None],\n",
       " 26: [None, None, None, None, None, None],\n",
       " 27: [None, None, None, None, None, None],\n",
       " 28: [None, None, None, None, None, None],\n",
       " 29: [None, None, None, None, None, None],\n",
       " 30: [None, None, None, None, None, None],\n",
       " 31: [None, None, None, None, None, None],\n",
       " 32: [None, None, None, None, None, None],\n",
       " 33: [None, None, None, None, None, None],\n",
       " 34: [None, None, None, None, None, None],\n",
       " 35: [None, None, None, None, None, None],\n",
       " 36: [None, None, None, None, None, None],\n",
       " 37: [None, None, None, None, None, None],\n",
       " 38: [None, None, None, None, None, None],\n",
       " 39: [None, None, None, None, None, None],\n",
       " 40: [None, None, None, None, None, None],\n",
       " 41: [None, None, None, None, None, None],\n",
       " 42: [None, None, None, None, None, None],\n",
       " 43: [None, None, None, None, None, None],\n",
       " 44: [None, None, None, None, None, None],\n",
       " 45: [None, None, None, None, None, None],\n",
       " 46: [None, None, None, None, None, None],\n",
       " 47: [None, None, None, None, None, None],\n",
       " 48: [None, None, None, None, None, None],\n",
       " 49: [None, None, None, None, None, None],\n",
       " 50: [None, None, None, None, None, None],\n",
       " 51: [None, None, None, None, None, None],\n",
       " 52: [None, None, None, None, None, None],\n",
       " 53: [None,\n",
       "  None,\n",
       "  None,\n",
       "  '[是]',\n",
       "  '情感倾向-[中性]；程度-[中]',\n",
       "  '该文段[存在]事实描述类文本，且事实描述类情感倾向判断[正确]，程度划分[正确]。[理由陈述]该文段主要描述了2001年的国际形势及其未来趋势，使用了“和平与发展作为时代的主题并未改变”、“世界多极化发展趋势并未改变”、“机遇大于挑战”、“总体和平、局部战争，总体缓和、局部紧张，总体稳定、局部动荡”等词语，这些表述较为平衡和中立，没有明显的情感倾向。因此，文段被正确地分类为事实描述类文本，其情感倾向和程度划分也被正确地评估为“中性”和“中”。'],\n",
       " 54: [None, None, None, None, None, None],\n",
       " 55: [None, None, None, None, None, None],\n",
       " 56: [None, None, None, None, None, None],\n",
       " 57: [None, None, None, None, None, None],\n",
       " 58: [None, None, None, None, None, None]}"
      ]
     },
     "execution_count": 32,
     "metadata": {},
     "output_type": "execute_result"
    }
   ],
   "source": [
    "result_dict"
   ]
  },
  {
   "cell_type": "code",
   "execution_count": 33,
   "metadata": {
    "ExecuteTime": {
     "end_time": "2025-03-06T08:14:18.975799900Z",
     "start_time": "2025-03-06T08:14:18.972350500Z"
    },
    "collapsed": false
   },
   "outputs": [],
   "source": [
    "result_df = pd.DataFrame(result_dict).T.rename(columns={0:\"fact\",1:'fact_emotion',2:'fact_judge',3:'prediction',4:'pred_emotion',5:'pred_judge'})"
   ]
  },
  {
   "cell_type": "code",
   "execution_count": 34,
   "metadata": {
    "ExecuteTime": {
     "end_time": "2025-03-06T08:14:18.984808100Z",
     "start_time": "2025-03-06T08:14:18.978241400Z"
    },
    "collapsed": false
   },
   "outputs": [
    {
     "data": {
      "application/vnd.microsoft.datawrangler.viewer.v0+json": {
       "columns": [
        {
         "name": "index",
         "rawType": "int64",
         "type": "integer"
        },
        {
         "name": "fact",
         "rawType": "object",
         "type": "string"
        },
        {
         "name": "fact_emotion",
         "rawType": "object",
         "type": "string"
        },
        {
         "name": "fact_judge",
         "rawType": "object",
         "type": "string"
        },
        {
         "name": "prediction",
         "rawType": "object",
         "type": "string"
        },
        {
         "name": "pred_emotion",
         "rawType": "object",
         "type": "string"
        },
        {
         "name": "pred_judge",
         "rawType": "object",
         "type": "string"
        }
       ],
       "conversionMethod": "pd.DataFrame",
       "ref": "28c839d9-a113-4c1a-9760-b9c1b4d594f4",
       "rows": [
        [
         "0",
         null,
         null,
         null,
         null,
         null,
         null
        ],
        [
         "1",
         null,
         null,
         null,
         null,
         null,
         null
        ],
        [
         "2",
         "[是]",
         "情感倾向-[积极]；程度-[强]",
         "该文段[存在]事实描述类文本，且事实描述类情感倾向判断[正确]，程度划分[正确]。[理由陈述]该文段主要描述了国民经济在2001年的良好发展情况，使用了诸如“实现了经济较快增长”、“经济结构调整取得积极进展”、“基础设施建设取得显著成绩”、“经济增长质量和效益进一步提高”、“金融运行平稳”、“外贸进出口总额突破5000亿美元”等词语来强调事实现象的积极性和程度的强。这些描述反映了经济在多个方面的积极进展，且数据和具体成就进一步支持了这种积极的描述。因此，该文段被正确地分类为事实描述类文本，其情感倾向和程度划分也被正确地评估为“积极”和“强”。",
         null,
         null,
         null
        ],
        [
         "3",
         "[是]",
         "情感倾向-[积极]；程度-[中]",
         "该文段[存在]事实描述类文本，且事实描述类情感倾向判断[正确]，程度划分[正确]。[理由陈述]该文段主要描述了经济体制改革的进展，使用了诸如“继续推进”、“加快”、“取得成效”、“进展顺利”等词语，表明了改革措施的积极效果。然而，这些描述并没有使用极端积极的词汇，如“创纪录”、“前所未有”等，因此情感倾向为“积极”，程度为“中”是合理的。文本中的事实描述客观、中性，符合学术和政策文件的写作特点。",
         null,
         null,
         null
        ],
        [
         "4",
         null,
         null,
         null,
         null,
         null,
         null
        ],
        [
         "5",
         "[是]",
         "情感倾向-[积极]；程度-[中] \n\n- 语言措辞：文段使用了“继续改善”、“大幅度增加”、“扩大”、“提高”等正面词汇，显示出积极的态势。\n- 数据分析：文段提供了具体的数据支持，如城镇居民人均可支配收入实际增长8.5%，城市居民最低生活保障的覆盖人数从400多万人增加到1120多万人，中央财政增加支出621亿元，农民人均纯收入实际增长4.2%等，这些数据均表明了积极的经济成果。",
         "该文段[存在]事实描述类文本，且事实描述类情感倾向判断[正确]，程度划分[正确]。[理由陈述]该文段主要是描述事实现象，使用了诸如“继续改善”、“大幅度增加”、“扩大”、“提高”等正面词汇，显示出积极的态势。同时，文段提供了具体的数据支持，如城镇居民人均可支配收入实际增长8.5%，城市居民最低生活保障的覆盖人数从400多万人增加到1120多万人，中央财政增加支出621亿元，农民人均纯收入实际增长4.2%等，这些数据均表明了积极的经济成果。因此，该文段被正确地分类为事实描述类文本，其情感倾向和程度划分也被正确地评估为“积极”和“中”。",
         null,
         null,
         null
        ],
        [
         "6",
         null,
         null,
         null,
         null,
         null,
         null
        ],
        [
         "7",
         null,
         null,
         null,
         null,
         null,
         null
        ],
        [
         "8",
         null,
         null,
         null,
         null,
         null,
         null
        ],
        [
         "9",
         "[是]",
         "情感倾向-[中性]；程度-[中]\n\n语言措辞：文段使用了较为平衡的措辞，既指出了当前面临的复杂国际形势和国内挑战，又强调了有利条件和信心，整体呈现中性态度。\n\n数据分析：文段没有提供具体的数据支持，而是通过描述当前的经济和政治环境，以及对未来发展的展望，传达了中性的情感倾向。",
         "该文段[存在]事实描述类文本，且事实描述类情感倾向判断[正确]，程度划分[正确]。[理由陈述]该文段在描述国内外经济和政治环境时，既指出当前面临的复杂挑战，如“全球经济和贸易增长仍然缓慢”、“国际市场竞争更加激烈”、“贸易保护主义加剧”等，也强调了有利条件，如“我国综合国力显著增强”、“国内市场潜力巨大”、“经济发展有较大回旋余地”等。这种平衡的措辞使得整体情感倾向呈现中性，程度为中。文段没有使用极端的正面或负面词汇，而是通过客观描述当前的形势和未来的发展条件，传达了中性的情感倾向。因此，该文段的情感倾向和程度划分是正确的。",
         null,
         null,
         null
        ],
        [
         "10",
         null,
         null,
         null,
         null,
         null,
         null
        ],
        [
         "11",
         null,
         null,
         null,
         null,
         null,
         null
        ],
        [
         "12",
         null,
         null,
         null,
         "[是]",
         "情感倾向-[积极]；程度-[中]",
         "该文段[存在]事实描述类文本，且事实描述类情感倾向判断[正确]，程度划分[正确]。[理由陈述]该文段主要通过描述当前的经济形势和提出政策建议，旨在促进经济增长和改善民生。虽然使用的语言较为平和，但整体上表达了积极的态度，尤其是在强调扩大国内需求和实施积极财政政策方面。然而，由于文段主要是在提出建议和描述策略，而不是强烈地表达积极或消极情绪，因此情感倾向的程度被正确地评估为“中”。"
        ],
        [
         "13",
         null,
         null,
         null,
         null,
         null,
         null
        ],
        [
         "14",
         "[是]",
         "[Response]: 情感倾向-[积极]；程度-[中]\n\n**语言措辞**:\n- 文段使用了“带动固定资产投资较快增长”、“促进经济增长和培植财源”等积极表述，强调了国债投资的正面效果。\n- 用词如“有利于”、“充分发挥”、“合理、节约使用”等，传达了积极的政策导向和预期效果。\n\n**数据分析**:\n- 文段提到“居民储蓄存款增加较多，银行资金比较充裕，利率水平较低，市场价格稳定”，这些数据表明当前金融环境有利于国债发行。\n- “国债余额占国内生产总值的比重仍在安全线以内”这一数据进一步支持了国债发行的可行性，表明风险可控。",
         "[Response]: 该文段[存在]事实描述类文本，且事实描述类情感倾向判断[正确]，程度划分[正确]。[理由陈述]该文段主要是描述事实现象，并使用了诸如“带动固定资产投资较快增长”、“促进经济增长和培植财源”、“有利于集中力量办大事”等词语来强调国债投资的积极效果。同时，文段中提到的具体数据和情况，如“居民储蓄存款增加较多，银行资金比较充裕，利率水平较低，市场价格稳定”以及“国债余额占国内生产总值的比重仍在安全线以内”，进一步支持了国债发行的可行性和低风险性。这些描述和数据使得文段整体上呈现出积极的情感倾向，但程度上较为中等，因为文段也包含了一些谨慎的建议和措施，如“合理规划”、“量力而行”、“防止无效投入和重复建设”等，表明了政策的审慎态度。因此，该文段的情感倾向和程度划分被正确地评估为“积极”和“中等”。",
         null,
         null,
         null
        ],
        [
         "15",
         null,
         null,
         null,
         null,
         null,
         null
        ],
        [
         "16",
         null,
         null,
         null,
         "[是]",
         "情感倾向-[中性]；程度-[中]",
         "该文段[存在]事实描述类文本，且事实描述类情感倾向判断[正确]，程度划分[正确]。[理由陈述]该文段主要是描述政策建议和措施，旨在确保金融体系的稳健运行。文段中并没有明显的情绪色彩，语言平和、中性，主要强调的是政策和措施的实施，因此其情感倾向为中性。同时，文段内容较为全面，涉及多个方面的政策建议，但没有表现出强烈的情感倾向或极端的评价，因此程度划分为中。"
        ],
        [
         "17",
         null,
         null,
         null,
         null,
         null,
         null
        ],
        [
         "18",
         null,
         null,
         null,
         null,
         null,
         null
        ],
        [
         "19",
         null,
         null,
         null,
         null,
         null,
         null
        ],
        [
         "20",
         null,
         null,
         null,
         null,
         null,
         null
        ],
        [
         "21",
         null,
         null,
         null,
         null,
         null,
         null
        ],
        [
         "22",
         null,
         null,
         null,
         null,
         null,
         null
        ],
        [
         "23",
         null,
         null,
         null,
         null,
         null,
         null
        ],
        [
         "24",
         null,
         null,
         null,
         null,
         null,
         null
        ],
        [
         "25",
         null,
         null,
         null,
         null,
         null,
         null
        ],
        [
         "26",
         null,
         null,
         null,
         null,
         null,
         null
        ],
        [
         "27",
         null,
         null,
         null,
         null,
         null,
         null
        ],
        [
         "28",
         null,
         null,
         null,
         null,
         null,
         null
        ],
        [
         "29",
         null,
         null,
         null,
         null,
         null,
         null
        ],
        [
         "30",
         null,
         null,
         null,
         null,
         null,
         null
        ],
        [
         "31",
         null,
         null,
         null,
         null,
         null,
         null
        ],
        [
         "32",
         null,
         null,
         null,
         null,
         null,
         null
        ],
        [
         "33",
         null,
         null,
         null,
         null,
         null,
         null
        ],
        [
         "34",
         null,
         null,
         null,
         null,
         null,
         null
        ],
        [
         "35",
         null,
         null,
         null,
         null,
         null,
         null
        ],
        [
         "36",
         null,
         null,
         null,
         null,
         null,
         null
        ],
        [
         "37",
         null,
         null,
         null,
         null,
         null,
         null
        ],
        [
         "38",
         null,
         null,
         null,
         null,
         null,
         null
        ],
        [
         "39",
         null,
         null,
         null,
         null,
         null,
         null
        ],
        [
         "40",
         null,
         null,
         null,
         null,
         null,
         null
        ],
        [
         "41",
         null,
         null,
         null,
         null,
         null,
         null
        ],
        [
         "42",
         null,
         null,
         null,
         null,
         null,
         null
        ],
        [
         "43",
         null,
         null,
         null,
         null,
         null,
         null
        ],
        [
         "44",
         null,
         null,
         null,
         null,
         null,
         null
        ],
        [
         "45",
         null,
         null,
         null,
         null,
         null,
         null
        ],
        [
         "46",
         null,
         null,
         null,
         null,
         null,
         null
        ],
        [
         "47",
         null,
         null,
         null,
         null,
         null,
         null
        ],
        [
         "48",
         null,
         null,
         null,
         null,
         null,
         null
        ],
        [
         "49",
         null,
         null,
         null,
         null,
         null,
         null
        ]
       ],
       "shape": {
        "columns": 6,
        "rows": 59
       }
      },
      "text/html": [
       "<div>\n",
       "<style scoped>\n",
       "    .dataframe tbody tr th:only-of-type {\n",
       "        vertical-align: middle;\n",
       "    }\n",
       "\n",
       "    .dataframe tbody tr th {\n",
       "        vertical-align: top;\n",
       "    }\n",
       "\n",
       "    .dataframe thead th {\n",
       "        text-align: right;\n",
       "    }\n",
       "</style>\n",
       "<table border=\"1\" class=\"dataframe\">\n",
       "  <thead>\n",
       "    <tr style=\"text-align: right;\">\n",
       "      <th></th>\n",
       "      <th>fact</th>\n",
       "      <th>fact_emotion</th>\n",
       "      <th>fact_judge</th>\n",
       "      <th>prediction</th>\n",
       "      <th>pred_emotion</th>\n",
       "      <th>pred_judge</th>\n",
       "    </tr>\n",
       "  </thead>\n",
       "  <tbody>\n",
       "    <tr>\n",
       "      <th>0</th>\n",
       "      <td>None</td>\n",
       "      <td>None</td>\n",
       "      <td>None</td>\n",
       "      <td>None</td>\n",
       "      <td>None</td>\n",
       "      <td>None</td>\n",
       "    </tr>\n",
       "    <tr>\n",
       "      <th>1</th>\n",
       "      <td>None</td>\n",
       "      <td>None</td>\n",
       "      <td>None</td>\n",
       "      <td>None</td>\n",
       "      <td>None</td>\n",
       "      <td>None</td>\n",
       "    </tr>\n",
       "    <tr>\n",
       "      <th>2</th>\n",
       "      <td>[是]</td>\n",
       "      <td>情感倾向-[积极]；程度-[强]</td>\n",
       "      <td>该文段[存在]事实描述类文本，且事实描述类情感倾向判断[正确]，程度划分[正确]。[理由陈述...</td>\n",
       "      <td>None</td>\n",
       "      <td>None</td>\n",
       "      <td>None</td>\n",
       "    </tr>\n",
       "    <tr>\n",
       "      <th>3</th>\n",
       "      <td>[是]</td>\n",
       "      <td>情感倾向-[积极]；程度-[中]</td>\n",
       "      <td>该文段[存在]事实描述类文本，且事实描述类情感倾向判断[正确]，程度划分[正确]。[理由陈述...</td>\n",
       "      <td>None</td>\n",
       "      <td>None</td>\n",
       "      <td>None</td>\n",
       "    </tr>\n",
       "    <tr>\n",
       "      <th>4</th>\n",
       "      <td>None</td>\n",
       "      <td>None</td>\n",
       "      <td>None</td>\n",
       "      <td>None</td>\n",
       "      <td>None</td>\n",
       "      <td>None</td>\n",
       "    </tr>\n",
       "    <tr>\n",
       "      <th>5</th>\n",
       "      <td>[是]</td>\n",
       "      <td>情感倾向-[积极]；程度-[中] \\n\\n- 语言措辞：文段使用了“继续改善”、“大幅度增加...</td>\n",
       "      <td>该文段[存在]事实描述类文本，且事实描述类情感倾向判断[正确]，程度划分[正确]。[理由陈述...</td>\n",
       "      <td>None</td>\n",
       "      <td>None</td>\n",
       "      <td>None</td>\n",
       "    </tr>\n",
       "    <tr>\n",
       "      <th>6</th>\n",
       "      <td>None</td>\n",
       "      <td>None</td>\n",
       "      <td>None</td>\n",
       "      <td>None</td>\n",
       "      <td>None</td>\n",
       "      <td>None</td>\n",
       "    </tr>\n",
       "    <tr>\n",
       "      <th>7</th>\n",
       "      <td>None</td>\n",
       "      <td>None</td>\n",
       "      <td>None</td>\n",
       "      <td>None</td>\n",
       "      <td>None</td>\n",
       "      <td>None</td>\n",
       "    </tr>\n",
       "    <tr>\n",
       "      <th>8</th>\n",
       "      <td>None</td>\n",
       "      <td>None</td>\n",
       "      <td>None</td>\n",
       "      <td>None</td>\n",
       "      <td>None</td>\n",
       "      <td>None</td>\n",
       "    </tr>\n",
       "    <tr>\n",
       "      <th>9</th>\n",
       "      <td>[是]</td>\n",
       "      <td>情感倾向-[中性]；程度-[中]\\n\\n语言措辞：文段使用了较为平衡的措辞，既指出了当前面临...</td>\n",
       "      <td>该文段[存在]事实描述类文本，且事实描述类情感倾向判断[正确]，程度划分[正确]。[理由陈述...</td>\n",
       "      <td>None</td>\n",
       "      <td>None</td>\n",
       "      <td>None</td>\n",
       "    </tr>\n",
       "    <tr>\n",
       "      <th>10</th>\n",
       "      <td>None</td>\n",
       "      <td>None</td>\n",
       "      <td>None</td>\n",
       "      <td>None</td>\n",
       "      <td>None</td>\n",
       "      <td>None</td>\n",
       "    </tr>\n",
       "    <tr>\n",
       "      <th>11</th>\n",
       "      <td>None</td>\n",
       "      <td>None</td>\n",
       "      <td>None</td>\n",
       "      <td>None</td>\n",
       "      <td>None</td>\n",
       "      <td>None</td>\n",
       "    </tr>\n",
       "    <tr>\n",
       "      <th>12</th>\n",
       "      <td>None</td>\n",
       "      <td>None</td>\n",
       "      <td>None</td>\n",
       "      <td>[是]</td>\n",
       "      <td>情感倾向-[积极]；程度-[中]</td>\n",
       "      <td>该文段[存在]事实描述类文本，且事实描述类情感倾向判断[正确]，程度划分[正确]。[理由陈述...</td>\n",
       "    </tr>\n",
       "    <tr>\n",
       "      <th>13</th>\n",
       "      <td>None</td>\n",
       "      <td>None</td>\n",
       "      <td>None</td>\n",
       "      <td>None</td>\n",
       "      <td>None</td>\n",
       "      <td>None</td>\n",
       "    </tr>\n",
       "    <tr>\n",
       "      <th>14</th>\n",
       "      <td>[是]</td>\n",
       "      <td>[Response]: 情感倾向-[积极]；程度-[中]\\n\\n**语言措辞**:\\n- 文...</td>\n",
       "      <td>[Response]: 该文段[存在]事实描述类文本，且事实描述类情感倾向判断[正确]，程度...</td>\n",
       "      <td>None</td>\n",
       "      <td>None</td>\n",
       "      <td>None</td>\n",
       "    </tr>\n",
       "    <tr>\n",
       "      <th>15</th>\n",
       "      <td>None</td>\n",
       "      <td>None</td>\n",
       "      <td>None</td>\n",
       "      <td>None</td>\n",
       "      <td>None</td>\n",
       "      <td>None</td>\n",
       "    </tr>\n",
       "    <tr>\n",
       "      <th>16</th>\n",
       "      <td>None</td>\n",
       "      <td>None</td>\n",
       "      <td>None</td>\n",
       "      <td>[是]</td>\n",
       "      <td>情感倾向-[中性]；程度-[中]</td>\n",
       "      <td>该文段[存在]事实描述类文本，且事实描述类情感倾向判断[正确]，程度划分[正确]。[理由陈述...</td>\n",
       "    </tr>\n",
       "    <tr>\n",
       "      <th>17</th>\n",
       "      <td>None</td>\n",
       "      <td>None</td>\n",
       "      <td>None</td>\n",
       "      <td>None</td>\n",
       "      <td>None</td>\n",
       "      <td>None</td>\n",
       "    </tr>\n",
       "    <tr>\n",
       "      <th>18</th>\n",
       "      <td>None</td>\n",
       "      <td>None</td>\n",
       "      <td>None</td>\n",
       "      <td>None</td>\n",
       "      <td>None</td>\n",
       "      <td>None</td>\n",
       "    </tr>\n",
       "    <tr>\n",
       "      <th>19</th>\n",
       "      <td>None</td>\n",
       "      <td>None</td>\n",
       "      <td>None</td>\n",
       "      <td>None</td>\n",
       "      <td>None</td>\n",
       "      <td>None</td>\n",
       "    </tr>\n",
       "    <tr>\n",
       "      <th>20</th>\n",
       "      <td>None</td>\n",
       "      <td>None</td>\n",
       "      <td>None</td>\n",
       "      <td>None</td>\n",
       "      <td>None</td>\n",
       "      <td>None</td>\n",
       "    </tr>\n",
       "    <tr>\n",
       "      <th>21</th>\n",
       "      <td>None</td>\n",
       "      <td>None</td>\n",
       "      <td>None</td>\n",
       "      <td>None</td>\n",
       "      <td>None</td>\n",
       "      <td>None</td>\n",
       "    </tr>\n",
       "    <tr>\n",
       "      <th>22</th>\n",
       "      <td>None</td>\n",
       "      <td>None</td>\n",
       "      <td>None</td>\n",
       "      <td>None</td>\n",
       "      <td>None</td>\n",
       "      <td>None</td>\n",
       "    </tr>\n",
       "    <tr>\n",
       "      <th>23</th>\n",
       "      <td>None</td>\n",
       "      <td>None</td>\n",
       "      <td>None</td>\n",
       "      <td>None</td>\n",
       "      <td>None</td>\n",
       "      <td>None</td>\n",
       "    </tr>\n",
       "    <tr>\n",
       "      <th>24</th>\n",
       "      <td>None</td>\n",
       "      <td>None</td>\n",
       "      <td>None</td>\n",
       "      <td>None</td>\n",
       "      <td>None</td>\n",
       "      <td>None</td>\n",
       "    </tr>\n",
       "    <tr>\n",
       "      <th>25</th>\n",
       "      <td>None</td>\n",
       "      <td>None</td>\n",
       "      <td>None</td>\n",
       "      <td>None</td>\n",
       "      <td>None</td>\n",
       "      <td>None</td>\n",
       "    </tr>\n",
       "    <tr>\n",
       "      <th>26</th>\n",
       "      <td>None</td>\n",
       "      <td>None</td>\n",
       "      <td>None</td>\n",
       "      <td>None</td>\n",
       "      <td>None</td>\n",
       "      <td>None</td>\n",
       "    </tr>\n",
       "    <tr>\n",
       "      <th>27</th>\n",
       "      <td>None</td>\n",
       "      <td>None</td>\n",
       "      <td>None</td>\n",
       "      <td>None</td>\n",
       "      <td>None</td>\n",
       "      <td>None</td>\n",
       "    </tr>\n",
       "    <tr>\n",
       "      <th>28</th>\n",
       "      <td>None</td>\n",
       "      <td>None</td>\n",
       "      <td>None</td>\n",
       "      <td>None</td>\n",
       "      <td>None</td>\n",
       "      <td>None</td>\n",
       "    </tr>\n",
       "    <tr>\n",
       "      <th>29</th>\n",
       "      <td>None</td>\n",
       "      <td>None</td>\n",
       "      <td>None</td>\n",
       "      <td>None</td>\n",
       "      <td>None</td>\n",
       "      <td>None</td>\n",
       "    </tr>\n",
       "    <tr>\n",
       "      <th>30</th>\n",
       "      <td>None</td>\n",
       "      <td>None</td>\n",
       "      <td>None</td>\n",
       "      <td>None</td>\n",
       "      <td>None</td>\n",
       "      <td>None</td>\n",
       "    </tr>\n",
       "    <tr>\n",
       "      <th>31</th>\n",
       "      <td>None</td>\n",
       "      <td>None</td>\n",
       "      <td>None</td>\n",
       "      <td>None</td>\n",
       "      <td>None</td>\n",
       "      <td>None</td>\n",
       "    </tr>\n",
       "    <tr>\n",
       "      <th>32</th>\n",
       "      <td>None</td>\n",
       "      <td>None</td>\n",
       "      <td>None</td>\n",
       "      <td>None</td>\n",
       "      <td>None</td>\n",
       "      <td>None</td>\n",
       "    </tr>\n",
       "    <tr>\n",
       "      <th>33</th>\n",
       "      <td>None</td>\n",
       "      <td>None</td>\n",
       "      <td>None</td>\n",
       "      <td>None</td>\n",
       "      <td>None</td>\n",
       "      <td>None</td>\n",
       "    </tr>\n",
       "    <tr>\n",
       "      <th>34</th>\n",
       "      <td>None</td>\n",
       "      <td>None</td>\n",
       "      <td>None</td>\n",
       "      <td>None</td>\n",
       "      <td>None</td>\n",
       "      <td>None</td>\n",
       "    </tr>\n",
       "    <tr>\n",
       "      <th>35</th>\n",
       "      <td>None</td>\n",
       "      <td>None</td>\n",
       "      <td>None</td>\n",
       "      <td>None</td>\n",
       "      <td>None</td>\n",
       "      <td>None</td>\n",
       "    </tr>\n",
       "    <tr>\n",
       "      <th>36</th>\n",
       "      <td>None</td>\n",
       "      <td>None</td>\n",
       "      <td>None</td>\n",
       "      <td>None</td>\n",
       "      <td>None</td>\n",
       "      <td>None</td>\n",
       "    </tr>\n",
       "    <tr>\n",
       "      <th>37</th>\n",
       "      <td>None</td>\n",
       "      <td>None</td>\n",
       "      <td>None</td>\n",
       "      <td>None</td>\n",
       "      <td>None</td>\n",
       "      <td>None</td>\n",
       "    </tr>\n",
       "    <tr>\n",
       "      <th>38</th>\n",
       "      <td>None</td>\n",
       "      <td>None</td>\n",
       "      <td>None</td>\n",
       "      <td>None</td>\n",
       "      <td>None</td>\n",
       "      <td>None</td>\n",
       "    </tr>\n",
       "    <tr>\n",
       "      <th>39</th>\n",
       "      <td>None</td>\n",
       "      <td>None</td>\n",
       "      <td>None</td>\n",
       "      <td>None</td>\n",
       "      <td>None</td>\n",
       "      <td>None</td>\n",
       "    </tr>\n",
       "    <tr>\n",
       "      <th>40</th>\n",
       "      <td>None</td>\n",
       "      <td>None</td>\n",
       "      <td>None</td>\n",
       "      <td>None</td>\n",
       "      <td>None</td>\n",
       "      <td>None</td>\n",
       "    </tr>\n",
       "    <tr>\n",
       "      <th>41</th>\n",
       "      <td>None</td>\n",
       "      <td>None</td>\n",
       "      <td>None</td>\n",
       "      <td>None</td>\n",
       "      <td>None</td>\n",
       "      <td>None</td>\n",
       "    </tr>\n",
       "    <tr>\n",
       "      <th>42</th>\n",
       "      <td>None</td>\n",
       "      <td>None</td>\n",
       "      <td>None</td>\n",
       "      <td>None</td>\n",
       "      <td>None</td>\n",
       "      <td>None</td>\n",
       "    </tr>\n",
       "    <tr>\n",
       "      <th>43</th>\n",
       "      <td>None</td>\n",
       "      <td>None</td>\n",
       "      <td>None</td>\n",
       "      <td>None</td>\n",
       "      <td>None</td>\n",
       "      <td>None</td>\n",
       "    </tr>\n",
       "    <tr>\n",
       "      <th>44</th>\n",
       "      <td>None</td>\n",
       "      <td>None</td>\n",
       "      <td>None</td>\n",
       "      <td>None</td>\n",
       "      <td>None</td>\n",
       "      <td>None</td>\n",
       "    </tr>\n",
       "    <tr>\n",
       "      <th>45</th>\n",
       "      <td>None</td>\n",
       "      <td>None</td>\n",
       "      <td>None</td>\n",
       "      <td>None</td>\n",
       "      <td>None</td>\n",
       "      <td>None</td>\n",
       "    </tr>\n",
       "    <tr>\n",
       "      <th>46</th>\n",
       "      <td>None</td>\n",
       "      <td>None</td>\n",
       "      <td>None</td>\n",
       "      <td>None</td>\n",
       "      <td>None</td>\n",
       "      <td>None</td>\n",
       "    </tr>\n",
       "    <tr>\n",
       "      <th>47</th>\n",
       "      <td>None</td>\n",
       "      <td>None</td>\n",
       "      <td>None</td>\n",
       "      <td>None</td>\n",
       "      <td>None</td>\n",
       "      <td>None</td>\n",
       "    </tr>\n",
       "    <tr>\n",
       "      <th>48</th>\n",
       "      <td>None</td>\n",
       "      <td>None</td>\n",
       "      <td>None</td>\n",
       "      <td>None</td>\n",
       "      <td>None</td>\n",
       "      <td>None</td>\n",
       "    </tr>\n",
       "    <tr>\n",
       "      <th>49</th>\n",
       "      <td>None</td>\n",
       "      <td>None</td>\n",
       "      <td>None</td>\n",
       "      <td>None</td>\n",
       "      <td>None</td>\n",
       "      <td>None</td>\n",
       "    </tr>\n",
       "    <tr>\n",
       "      <th>50</th>\n",
       "      <td>None</td>\n",
       "      <td>None</td>\n",
       "      <td>None</td>\n",
       "      <td>None</td>\n",
       "      <td>None</td>\n",
       "      <td>None</td>\n",
       "    </tr>\n",
       "    <tr>\n",
       "      <th>51</th>\n",
       "      <td>None</td>\n",
       "      <td>None</td>\n",
       "      <td>None</td>\n",
       "      <td>None</td>\n",
       "      <td>None</td>\n",
       "      <td>None</td>\n",
       "    </tr>\n",
       "    <tr>\n",
       "      <th>52</th>\n",
       "      <td>None</td>\n",
       "      <td>None</td>\n",
       "      <td>None</td>\n",
       "      <td>None</td>\n",
       "      <td>None</td>\n",
       "      <td>None</td>\n",
       "    </tr>\n",
       "    <tr>\n",
       "      <th>53</th>\n",
       "      <td>None</td>\n",
       "      <td>None</td>\n",
       "      <td>None</td>\n",
       "      <td>[是]</td>\n",
       "      <td>情感倾向-[中性]；程度-[中]</td>\n",
       "      <td>该文段[存在]事实描述类文本，且事实描述类情感倾向判断[正确]，程度划分[正确]。[理由陈述...</td>\n",
       "    </tr>\n",
       "    <tr>\n",
       "      <th>54</th>\n",
       "      <td>None</td>\n",
       "      <td>None</td>\n",
       "      <td>None</td>\n",
       "      <td>None</td>\n",
       "      <td>None</td>\n",
       "      <td>None</td>\n",
       "    </tr>\n",
       "    <tr>\n",
       "      <th>55</th>\n",
       "      <td>None</td>\n",
       "      <td>None</td>\n",
       "      <td>None</td>\n",
       "      <td>None</td>\n",
       "      <td>None</td>\n",
       "      <td>None</td>\n",
       "    </tr>\n",
       "    <tr>\n",
       "      <th>56</th>\n",
       "      <td>None</td>\n",
       "      <td>None</td>\n",
       "      <td>None</td>\n",
       "      <td>None</td>\n",
       "      <td>None</td>\n",
       "      <td>None</td>\n",
       "    </tr>\n",
       "    <tr>\n",
       "      <th>57</th>\n",
       "      <td>None</td>\n",
       "      <td>None</td>\n",
       "      <td>None</td>\n",
       "      <td>None</td>\n",
       "      <td>None</td>\n",
       "      <td>None</td>\n",
       "    </tr>\n",
       "    <tr>\n",
       "      <th>58</th>\n",
       "      <td>None</td>\n",
       "      <td>None</td>\n",
       "      <td>None</td>\n",
       "      <td>None</td>\n",
       "      <td>None</td>\n",
       "      <td>None</td>\n",
       "    </tr>\n",
       "  </tbody>\n",
       "</table>\n",
       "</div>"
      ],
      "text/plain": [
       "    fact                                       fact_emotion  \\\n",
       "0   None                                               None   \n",
       "1   None                                               None   \n",
       "2    [是]                                   情感倾向-[积极]；程度-[强]   \n",
       "3    [是]                                   情感倾向-[积极]；程度-[中]   \n",
       "4   None                                               None   \n",
       "5    [是]  情感倾向-[积极]；程度-[中] \\n\\n- 语言措辞：文段使用了“继续改善”、“大幅度增加...   \n",
       "6   None                                               None   \n",
       "7   None                                               None   \n",
       "8   None                                               None   \n",
       "9    [是]  情感倾向-[中性]；程度-[中]\\n\\n语言措辞：文段使用了较为平衡的措辞，既指出了当前面临...   \n",
       "10  None                                               None   \n",
       "11  None                                               None   \n",
       "12  None                                               None   \n",
       "13  None                                               None   \n",
       "14   [是]  [Response]: 情感倾向-[积极]；程度-[中]\\n\\n**语言措辞**:\\n- 文...   \n",
       "15  None                                               None   \n",
       "16  None                                               None   \n",
       "17  None                                               None   \n",
       "18  None                                               None   \n",
       "19  None                                               None   \n",
       "20  None                                               None   \n",
       "21  None                                               None   \n",
       "22  None                                               None   \n",
       "23  None                                               None   \n",
       "24  None                                               None   \n",
       "25  None                                               None   \n",
       "26  None                                               None   \n",
       "27  None                                               None   \n",
       "28  None                                               None   \n",
       "29  None                                               None   \n",
       "30  None                                               None   \n",
       "31  None                                               None   \n",
       "32  None                                               None   \n",
       "33  None                                               None   \n",
       "34  None                                               None   \n",
       "35  None                                               None   \n",
       "36  None                                               None   \n",
       "37  None                                               None   \n",
       "38  None                                               None   \n",
       "39  None                                               None   \n",
       "40  None                                               None   \n",
       "41  None                                               None   \n",
       "42  None                                               None   \n",
       "43  None                                               None   \n",
       "44  None                                               None   \n",
       "45  None                                               None   \n",
       "46  None                                               None   \n",
       "47  None                                               None   \n",
       "48  None                                               None   \n",
       "49  None                                               None   \n",
       "50  None                                               None   \n",
       "51  None                                               None   \n",
       "52  None                                               None   \n",
       "53  None                                               None   \n",
       "54  None                                               None   \n",
       "55  None                                               None   \n",
       "56  None                                               None   \n",
       "57  None                                               None   \n",
       "58  None                                               None   \n",
       "\n",
       "                                           fact_judge prediction  \\\n",
       "0                                                None       None   \n",
       "1                                                None       None   \n",
       "2   该文段[存在]事实描述类文本，且事实描述类情感倾向判断[正确]，程度划分[正确]。[理由陈述...       None   \n",
       "3   该文段[存在]事实描述类文本，且事实描述类情感倾向判断[正确]，程度划分[正确]。[理由陈述...       None   \n",
       "4                                                None       None   \n",
       "5   该文段[存在]事实描述类文本，且事实描述类情感倾向判断[正确]，程度划分[正确]。[理由陈述...       None   \n",
       "6                                                None       None   \n",
       "7                                                None       None   \n",
       "8                                                None       None   \n",
       "9   该文段[存在]事实描述类文本，且事实描述类情感倾向判断[正确]，程度划分[正确]。[理由陈述...       None   \n",
       "10                                               None       None   \n",
       "11                                               None       None   \n",
       "12                                               None        [是]   \n",
       "13                                               None       None   \n",
       "14  [Response]: 该文段[存在]事实描述类文本，且事实描述类情感倾向判断[正确]，程度...       None   \n",
       "15                                               None       None   \n",
       "16                                               None        [是]   \n",
       "17                                               None       None   \n",
       "18                                               None       None   \n",
       "19                                               None       None   \n",
       "20                                               None       None   \n",
       "21                                               None       None   \n",
       "22                                               None       None   \n",
       "23                                               None       None   \n",
       "24                                               None       None   \n",
       "25                                               None       None   \n",
       "26                                               None       None   \n",
       "27                                               None       None   \n",
       "28                                               None       None   \n",
       "29                                               None       None   \n",
       "30                                               None       None   \n",
       "31                                               None       None   \n",
       "32                                               None       None   \n",
       "33                                               None       None   \n",
       "34                                               None       None   \n",
       "35                                               None       None   \n",
       "36                                               None       None   \n",
       "37                                               None       None   \n",
       "38                                               None       None   \n",
       "39                                               None       None   \n",
       "40                                               None       None   \n",
       "41                                               None       None   \n",
       "42                                               None       None   \n",
       "43                                               None       None   \n",
       "44                                               None       None   \n",
       "45                                               None       None   \n",
       "46                                               None       None   \n",
       "47                                               None       None   \n",
       "48                                               None       None   \n",
       "49                                               None       None   \n",
       "50                                               None       None   \n",
       "51                                               None       None   \n",
       "52                                               None       None   \n",
       "53                                               None        [是]   \n",
       "54                                               None       None   \n",
       "55                                               None       None   \n",
       "56                                               None       None   \n",
       "57                                               None       None   \n",
       "58                                               None       None   \n",
       "\n",
       "        pred_emotion                                         pred_judge  \n",
       "0               None                                               None  \n",
       "1               None                                               None  \n",
       "2               None                                               None  \n",
       "3               None                                               None  \n",
       "4               None                                               None  \n",
       "5               None                                               None  \n",
       "6               None                                               None  \n",
       "7               None                                               None  \n",
       "8               None                                               None  \n",
       "9               None                                               None  \n",
       "10              None                                               None  \n",
       "11              None                                               None  \n",
       "12  情感倾向-[积极]；程度-[中]  该文段[存在]事实描述类文本，且事实描述类情感倾向判断[正确]，程度划分[正确]。[理由陈述...  \n",
       "13              None                                               None  \n",
       "14              None                                               None  \n",
       "15              None                                               None  \n",
       "16  情感倾向-[中性]；程度-[中]  该文段[存在]事实描述类文本，且事实描述类情感倾向判断[正确]，程度划分[正确]。[理由陈述...  \n",
       "17              None                                               None  \n",
       "18              None                                               None  \n",
       "19              None                                               None  \n",
       "20              None                                               None  \n",
       "21              None                                               None  \n",
       "22              None                                               None  \n",
       "23              None                                               None  \n",
       "24              None                                               None  \n",
       "25              None                                               None  \n",
       "26              None                                               None  \n",
       "27              None                                               None  \n",
       "28              None                                               None  \n",
       "29              None                                               None  \n",
       "30              None                                               None  \n",
       "31              None                                               None  \n",
       "32              None                                               None  \n",
       "33              None                                               None  \n",
       "34              None                                               None  \n",
       "35              None                                               None  \n",
       "36              None                                               None  \n",
       "37              None                                               None  \n",
       "38              None                                               None  \n",
       "39              None                                               None  \n",
       "40              None                                               None  \n",
       "41              None                                               None  \n",
       "42              None                                               None  \n",
       "43              None                                               None  \n",
       "44              None                                               None  \n",
       "45              None                                               None  \n",
       "46              None                                               None  \n",
       "47              None                                               None  \n",
       "48              None                                               None  \n",
       "49              None                                               None  \n",
       "50              None                                               None  \n",
       "51              None                                               None  \n",
       "52              None                                               None  \n",
       "53  情感倾向-[中性]；程度-[中]  该文段[存在]事实描述类文本，且事实描述类情感倾向判断[正确]，程度划分[正确]。[理由陈述...  \n",
       "54              None                                               None  \n",
       "55              None                                               None  \n",
       "56              None                                               None  \n",
       "57              None                                               None  \n",
       "58              None                                               None  "
      ]
     },
     "execution_count": 34,
     "metadata": {},
     "output_type": "execute_result"
    }
   ],
   "source": [
    "result_df"
   ]
  },
  {
   "cell_type": "code",
   "execution_count": null,
   "metadata": {},
   "outputs": [],
   "source": []
  },
  {
   "cell_type": "code",
   "execution_count": null,
   "metadata": {},
   "outputs": [],
   "source": []
  },
  {
   "cell_type": "code",
   "execution_count": null,
   "metadata": {},
   "outputs": [],
   "source": []
  },
  {
   "cell_type": "code",
   "execution_count": null,
   "metadata": {},
   "outputs": [],
   "source": []
  },
  {
   "cell_type": "code",
   "execution_count": null,
   "metadata": {},
   "outputs": [],
   "source": []
  },
  {
   "cell_type": "code",
   "execution_count": null,
   "metadata": {},
   "outputs": [],
   "source": []
  },
  {
   "cell_type": "code",
   "execution_count": null,
   "metadata": {
    "collapsed": false
   },
   "outputs": [],
   "source": [
    "def file_work_flow(file_path,report_type,output_dir):\n",
    "    context_series = pd.read_csv(file_path,encoding='utf-8',engine='python')['context']\n",
    "    result_dict={}\n",
    "    for i in range(len(context_series)):\n",
    "        text = context_series[i]\n",
    "        result_dict[i] = single_text_work_flow(text,report_type)\n"
   ]
  }
 ],
 "metadata": {
  "kernelspec": {
   "display_name": "base",
   "language": "python",
   "name": "python3"
  },
  "language_info": {
   "codemirror_mode": {
    "name": "ipython",
    "version": 3
   },
   "file_extension": ".py",
   "mimetype": "text/x-python",
   "name": "python",
   "nbconvert_exporter": "python",
   "pygments_lexer": "ipython3",
   "version": "3.11.3"
  }
 },
 "nbformat": 4,
 "nbformat_minor": 4
}
