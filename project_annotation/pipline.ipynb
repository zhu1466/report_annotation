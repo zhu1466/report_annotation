{
 "cells": [
  {
   "cell_type": "markdown",
   "source": [
    "# 导入包与配置文件"
   ],
   "metadata": {
    "collapsed": false
   }
  },
  {
   "cell_type": "code",
   "execution_count": 1,
   "metadata": {
    "ExecuteTime": {
     "end_time": "2025-03-06T07:51:49.342817Z",
     "start_time": "2025-03-06T07:51:48.278696700Z"
    }
   },
   "outputs": [],
   "source": [
    "from typing import Literal\n",
    "from openai import OpenAI\n",
    "import pandas as pd\n",
    "from langchain.prompts import PromptTemplate"
   ]
  },
  {
   "cell_type": "code",
   "execution_count": 2,
   "outputs": [],
   "source": [
    "report_type_config= {\n",
    "    'financial_stability':'金融稳定报告聚焦于当前国内外金融体系的运行状况，分析可能影响金融稳定的风险因素，并提出应对建议。其研究对象主要包括银行、保险、证券等金融机构的运行情况，金融市场的波动性，以及跨境资本流动的趋势。撰写目的在于通过全面评估金融体系的脆弱点，为政策制定者和监管机构提供决策支持，确保金融体系的稳健运行。报告通常通过数据分析、案例研究以及国际对比的方式展开，重点解决潜在的系统性风险和突发性金融危机应对问题。',\n",
    "    'monetary_policy_implementation':'货币政策执行报告旨在向社会各界通报中央银行在报告期内的货币政策执行情况，以及宏观经济和金融市场的运行动态。研究对象涵盖货币供应量、信贷投放、利率政策、汇率政策及相关经济指标的变化趋势。撰写目的是通过总结政策效果和执行情况，评估政策实施的效率，为下一阶段货币政策调整提供依据。报告采用数据说明与政策分析相结合的方式，关注如何通过精准的货币政策工具实现稳定增长、促进就业及控制通胀等目标。',\n",
    "    'government_work':'政府工作报告是一份全面总结政府过去一年工作成果及提出下一年度发展目标的重要文件。其研究对象涵盖经济发展、社会民生、科技创新、生态保护等多领域的重点议题。撰写目的是向社会公众传递政府的施政理念和行动计划，同时争取立法机构的审议通过。报告采用定性与定量分析结合的方式，通常通过列举关键政策成果、设定具体发展指标和规划重点改革领域，回应民众关切，并解决社会发展中存在的主要问题。',\n",
    "    'regulatory_dynamics':'国家金融监督管理总局（简称“金融监管总局”）的“监管动态”栏目，主要发布最新的金融监管政策、措施、工作会议以及行业指导意见等内容，旨在指导和规范金融机构的经营行为，维护金融市场的稳定与健康发展。例如，2025年1月12日，金融监管总局召开了2025年监管工作会议，总结2024年工作，部署2025年重点任务。 此外，金融监管总局与中国人民银行联合发布了《银行业保险业绿色金融高质量发展实施方案》，引导银行业保险业大力发展绿色金融，                       支持绿色、低碳、循环经济的发展。 这些发布内容反映了金融监管总局在政策发布、工作会议和行业指导等方面的最新动态。',\n",
    "    'leadership_activities_and_speeches':'国家金融监督管理总局（简称“金融监管总局”）的“领导活动及讲话”栏目，主要发布总局领导的最新活动、重要讲话和政策解读等内容，旨在传达监管方向，促进金融市场稳健发展。例如，2025年1月12日，金融监管总局召开2025年监管工作会议，深入学习中央经济工作会议精神，总结2024年工作，部署2025年重点任务。 此外，2024年11月29日，金融监管总局召开系统“金融工作政治性、人民性大家谈”活动总结暨优秀研讨成果交流电视                      电话会议，强调加强金融系统党的建设，提升监管质效。 这些内容反映了总局领导在政策制定、风险防范和行业指导等方面的最新动态，体现了监管部门对金融市场健康发展的重视和努力。',\n",
    "    'financial_work_conference_documents':'中央金融工作会议是中华人民共和国最高规格的金融工作会议，通常每五年召开一次，旨在部署和指导全国金融领域的重大政策和改革方向。例如，2023年10月30日至31日，中央金融工作会议在北京举行。 会议强调要加快建设金融强国，全面加强金融监管，优化金融服务，防范化解风险，坚定不移走中国特色金融发展之路，推动我国金融高质量发展。 这些内容反映了中央政府在金融政策制定、风险防范和行业指导等方面的最新部署，体现                      了对金融市场健康发展的重视和努力。',\n",
    "    'important_news_from_securities_regulatory_commission':'中国证券监督管理委员会（简称“证监会”）的“证监会要闻”栏目，主要发布与证券市场监管相关的重要新闻和动态，旨在传递监管政策、通报市场情况，维护资本市场的健康发展。例如，证监会近期通报了东方集团财务造假案的阶段性调查进展，强调对财务造假行为的严厉打击。 此外，证监会与中国人民银行、全国工商联、金融监管总局、国家外汇局联合召开金融支持民营企业高质量发展座谈会，表示将持续优化金融                      服务，支持民营经济发展。 这些内容反映了证监会在政策发布、市场监管和行业指导等方面的最新动态，体现了监管部门对资本市场健康发展的重视和努力。'\n",
    "}"
   ],
   "metadata": {
    "collapsed": false,
    "ExecuteTime": {
     "end_time": "2025-03-06T07:51:49.350435800Z",
     "start_time": "2025-03-06T07:51:49.343790300Z"
    }
   }
  },
  {
   "cell_type": "code",
   "execution_count": 3,
   "outputs": [],
   "source": [
    "context_config = {\n",
    "    'facts': {\n",
    "        'judge':{\n",
    "            'objective':'在[目标文段]中判断是否存在[事实描述]信息。其中[事实描述]为提取段落中关于经济或市场状况的客观信息，包括已发生或现阶段正在发生的具体数据、现象或事件。',\n",
    "            'response':'只输出 [是/否]，不要进行冗余输出。',\n",
    "            'example':\"\"\"\n",
    "                        Example1:\n",
    "                            [目标文段]: 2023年，全球经济复苏步伐放缓，主要经济体通胀水平虽有所回落但仍处于高位，货币政策普遍保持紧缩状态。国内经济延续恢复态势，工业生产平稳增长，消费市场逐步回暖，外贸出口增速有所回升，金融市场整体运行平稳，银行信贷投放保持增长态势。\n",
    "                            [Response]:[是]\n",
    "                        Example2:\n",
    "                            [目标文段]: 随着全球经济增速放缓和主要经济体货币政策持续收紧，未来国际金融市场波动性可能进一步上升，对跨境资本流动和外部需求构成压力。国内经济在政策支持下预计将保持恢复态势，但内外需的不确定性仍可能制约增长动能，需关注地方政府债务、房地产市场调整等潜在风险，同时深化改革以优化经济结构和提升增长质量。\n",
    "                            [Response]:[否]\n",
    "                    \"\"\",\n",
    "        },\n",
    "        'emotion':{\n",
    "            'objective':'判断文段在[事实描述]方面的情感倾向为[消极、中性、积极]若目标文段的情感倾向为[消极]或者[积极]，进一步划分程度为[极弱、弱、中、强、极强]从[语言措辞]和[数据分析]两个维度进行分析。',\n",
    "            'response':'情感倾向为[消极/中性/积极]；若目标文段的情感倾向为悲观或者乐观进一步划分程度为[极弱/弱/中/强/极强],不要进行任何额外分析。',\n",
    "            'example':\"\"\"\n",
    "                        Example1:\n",
    "                        [目标文段]: 2023年，全球经济陷入深度低迷，主要经济体普遍面临高通胀和经济衰退的双重打击。国际金融市场剧烈动荡，资本大规模外逃，多国货币严重贬值。国内经济增长几近停滞，消费信心低迷，投资意愿大幅下降，房地产市场深陷危机，地方政府债务风险不断累积。金融机构盈利能力持续恶化，不良贷款率快速攀升，整个金融体系脆弱性显著上升。\n",
    "                        [Response]:情感倾向-[消极]；程度-[极强]\n",
    "                    \"\"\"\n",
    "        },\n",
    "        'results':{\n",
    "            'objective':'判断文段的标签（[情感倾向]和[程度]）是否划分正确。',\n",
    "            'response':'该文段[存在/不存在]事实描述类文本，且事实描述类情感倾向判断[正确/错误]，程度划分[正确/错误]，[理由陈述]',\n",
    "            'example':\"\"\"\n",
    "                        Example1:\n",
    "                        [目标文段]: 2023年，全球经济实现了历史上最强劲的复苏，主要经济体的增长率创下了新高。金融市场表现出色，股票和债券市场均实现了历史新高，交易量创下了新记录。科技创新和绿色能源的快速发展带动了新兴产业的快速崛起，传统产业也实现了高效转型升级，产出创下了新高。金融机构加速数字化改革，金融科技深度融入实体经济，金融服务更加高效、普惠，客户满意度创下了新高。同时，全球治理体系进一步完善，国际合作更加紧密，世界经济进入新的黄金时代。全球经济发展的良好势头为未来带来了无限希望和机遇。\n",
    "                        [判断]：[事实描述]方面的情感倾向-[积极]；程度-[极强]\n",
    "                        [Response]: 该文段[存在]事实描述类文本，且事实描述类情感倾向判断[正确]，程度划分[正确]。[理由陈述]该文段主要是描述事实现象，使用了诸如“历史上最强劲的复苏”、“创下了新高”、“交易量创下了新记录”、“产出创下了新高”、“客户满意度创下了新高”等词语来强调事实现象的积极性和程度的极强。同时，文本中使用的语言和数据更多的是为了描述过去和现状，而不是对未来进行预测或判断。因此，该文段被正确地分类为事实描述类文本，其情感倾向和程度划分也被正确地评估为“积极”和“极强”。\n",
    "                    \"\"\"\n",
    "        }\n",
    "    },\n",
    "    'predictions':{\n",
    "        'judge':{\n",
    "            'objective':'在[目标文段]中判断是否存在[预判分析]信息。其中[预判分析]为提取段落中对未来趋势、可能性或风险的判断、推测或政策建议。',\n",
    "            'response':'只输出 [是/否]，不要进行冗余输出。',\n",
    "            'example':\"\"\"\n",
    "                        Example1:\n",
    "                        [目标文段]: 2023年，全球经济复苏步伐放缓，主要经济体通胀水平虽有所回落但仍处于高位，货币政策普遍保持紧缩状态。国内经济延续恢复态势，工业生产平稳增长，消费市场逐步回暖，外贸出口增速有所回升，金融市场整体运行平稳，银行信贷投放保持增长态势。\n",
    "                        [Response]:[否]\n",
    "                        Example2:\n",
    "                        [目标文段]: 随着全球经济增速放缓和主要经济体货币政策持续收紧，未来国际金融市场波动性可能进一步上升，对跨境资本流动和外部需求构成压力。国内经济在政策支持下预计将保持恢复态势，但内外需的不确定性仍可能制约增长动能，需关注地方政府债务、房地产市场调整等潜在风险，同时深化改革以优化经济结构和提升增长质量。\n",
    "                        [Response]:[是]\n",
    "                    \"\"\"\n",
    "        },\n",
    "        'emotion':{\n",
    "            'objective':'判断文段在[预判分析]方面的情感倾向为[悲观、中性、乐观]若目标文段的情感倾向为[消极]或者[积极]，进一步划分程度为[极弱、弱、中、强、极强]从[语言措辞]和[数据分析]两个维度进行分析。',\n",
    "            'response':'情感倾向为[消极/中性/积极]；若目标文段的情感倾向为悲观或者乐观进一步划分程度为[极弱/弱/中/强/极强],不要进行任何额外分析。',\n",
    "            'example':\"\"\"\n",
    "                        Example1:\n",
    "                        [目标文段]: 随着全球经济面临多重挑战，未来金融体系可能陷入更深层次的不稳定局面。主要经济体的高利率政策或将持续抑制经济活动，企业破产和失业率上升的风险逐步加剧。同时，跨境资本流动的急剧波动可能引发新兴市场的货币危机。国内方面，房地产市场的深度调整和地方债务的积累或将成为经济增长的重大拖累。在此背景下，若缺乏有效的政策应对，金融体系可能面临系统性风险爆发的压力，甚至可能引发一场无法控制的经济衰退。\n",
    "                        [Response]:情感倾向-[悲观]；程度-[极强]\n",
    "                    \"\"\",\n",
    "        },\n",
    "        'results':{\n",
    "            'objective':'判断文段的标签（[情感倾向]和[程度]）是否划分正确。',\n",
    "            'response':'该文段[存在/不存在]预判分析类文本，且预判分析类情感倾向判断[正确/错误]，程度划分[正确/错误]，[理由陈述]。',\n",
    "            'example':\"\"\"\n",
    "                        Example1:\n",
    "                        [目标文段]: 未来五年，全球经济将迎来全面复苏，主要经济体将实现同步增长，带动全球金融市场走向繁荣。随着科技创新与绿色能源的快速发展，新兴产业将迅速崛起，传统产业将实现高效转型升级。金融机构将加速数字化改革，金融科技将深度融入实体经济，金融服务将更加高效、普惠。同时，全球治理体系将进一步完善，国际合作将更加紧密，世界经济将进入新的黄金时代。未来五年将是全球经济发展的大好时光，充满希望和机遇。\n",
    "                        [判断]：[预判分析]方面的情感倾向-[乐观]；程度-[极强]\n",
    "                        [Response]: 该文段[存在]预判分析类文本，且预判分析类情感倾向判断[正确]，程度划分[正确]。[理由陈述]该文段主要讨论了未来五年的全球经济发展趋势，使用了诸如“全面复苏”、“同步增长”、“走向繁荣”、“迅速崛起”、“高效转型升级”、“更加高效、普惠”、“新的黄金时代”、“大好时光”、“充满希望和机遇”等积极词语，表明了对未来经济发展前景的乐观态度。同时，文段中使用了诸如“全球”、“全面”、“同步”等强调词语，进一步强化了乐观情感的程度，使得情感程度可准确划分为“极强”。因此，该文段存在预判分析类文本，其情感倾向和程度划分均为正确。\n",
    "                    \"\"\"\n",
    "        }\n",
    "    }\n",
    "}"
   ],
   "metadata": {
    "collapsed": false,
    "ExecuteTime": {
     "end_time": "2025-03-06T07:51:49.359784Z",
     "start_time": "2025-03-06T07:51:49.344792600Z"
    }
   }
  },
  {
   "cell_type": "markdown",
   "source": [
    "# 读取文件"
   ],
   "metadata": {
    "collapsed": false
   }
  },
  {
   "cell_type": "code",
   "execution_count": 4,
   "outputs": [],
   "source": [
    "file_path = './data/政府工作报告csv/2001.csv'"
   ],
   "metadata": {
    "collapsed": false,
    "ExecuteTime": {
     "end_time": "2025-03-06T07:51:49.373078800Z",
     "start_time": "2025-03-06T07:51:49.353395900Z"
    }
   }
  },
  {
   "cell_type": "code",
   "execution_count": 5,
   "metadata": {
    "ExecuteTime": {
     "end_time": "2025-03-06T07:51:49.374580400Z",
     "start_time": "2025-03-06T07:51:49.356864100Z"
    }
   },
   "outputs": [],
   "source": [
    "context_series = pd.read_csv(file_path,encoding='utf-8',engine='python')['context']"
   ]
  },
  {
   "cell_type": "markdown",
   "source": [
    "# system_prompt"
   ],
   "metadata": {
    "collapsed": false
   }
  },
  {
   "cell_type": "code",
   "execution_count": 6,
   "outputs": [],
   "source": [
    "def gen_system_prompt(report_type:Literal['financial_stability', 'monetary_policy_implementation', 'government_work', 'regulatory_dynamics', 'leadership_activities_and_speeches', 'financial_work_conference_documents', 'important_news_from_securities_regulatory_commission'],fact_or_pred:Literal['facts','predictions'],Discriminator_type:Literal['judge','emotion','results'],context_config:dict=context_config,report_type_config:dict = report_type_config)->str:\n",
    "    report_type = report_type_config[report_type]\n",
    "    context_prompt  = PromptTemplate(\n",
    "        input_variables=[\"report_type\",'objective','response','example'],\n",
    "        template= \"\"\"\n",
    "            1、[Context]: 你扮演的是标注专家的角色（role）,{report_type}\n",
    "            2、[Style]: 学术一些、简洁明了、不进行冗余输出。\n",
    "            3、[Tone]: 平和、中性，有说服力。\n",
    "            4、[Audience]: 金融学者\n",
    "            5、[Response“/”表示或，不能进行同时输出]: {response}\n",
    "            6、[Objective]: {objective}\n",
    "            7、[Example]：{example}\n",
    "\n",
    "            \"\"\"\n",
    "    ).format(report_type=report_type, objective=context_config[fact_or_pred][Discriminator_type]['objective'],response=context_config[fact_or_pred][Discriminator_type]['response'],example=context_config[fact_or_pred][Discriminator_type]['example'])\n",
    "    return context_prompt"
   ],
   "metadata": {
    "collapsed": false,
    "ExecuteTime": {
     "end_time": "2025-03-06T07:51:49.374580400Z",
     "start_time": "2025-03-06T07:51:49.362780100Z"
    }
   }
  },
  {
   "cell_type": "code",
   "execution_count": 7,
   "outputs": [
    {
     "ename": "KeyError",
     "evalue": "'financial_stabilitys'",
     "output_type": "error",
     "traceback": [
      "\u001B[1;31m---------------------------------------------------------------------------\u001B[0m",
      "\u001B[1;31mKeyError\u001B[0m                                  Traceback (most recent call last)",
      "Cell \u001B[1;32mIn[7], line 1\u001B[0m\n\u001B[1;32m----> 1\u001B[0m system_prompt \u001B[38;5;241m=\u001B[39m \u001B[43mgen_system_prompt\u001B[49m\u001B[43m(\u001B[49m\u001B[43mreport_type\u001B[49m\u001B[43m \u001B[49m\u001B[38;5;241;43m=\u001B[39;49m\u001B[43m \u001B[49m\u001B[38;5;124;43m'\u001B[39;49m\u001B[38;5;124;43mfinancial_stabilitys\u001B[39;49m\u001B[38;5;124;43m'\u001B[39;49m\u001B[43m,\u001B[49m\u001B[43mfact_or_pred\u001B[49m\u001B[38;5;241;43m=\u001B[39;49m\u001B[38;5;124;43m'\u001B[39;49m\u001B[38;5;124;43mfacts\u001B[39;49m\u001B[38;5;124;43m'\u001B[39;49m\u001B[43m,\u001B[49m\u001B[43mDiscriminator_type\u001B[49m\u001B[38;5;241;43m=\u001B[39;49m\u001B[38;5;124;43m'\u001B[39;49m\u001B[38;5;124;43mjudge\u001B[39;49m\u001B[38;5;124;43m'\u001B[39;49m\u001B[43m)\u001B[49m\n",
      "Cell \u001B[1;32mIn[6], line 2\u001B[0m, in \u001B[0;36mgen_system_prompt\u001B[1;34m(report_type, fact_or_pred, Discriminator_type, context_config, report_type_config)\u001B[0m\n\u001B[0;32m      1\u001B[0m \u001B[38;5;28;01mdef\u001B[39;00m \u001B[38;5;21mgen_system_prompt\u001B[39m(report_type:Literal[\u001B[38;5;124m'\u001B[39m\u001B[38;5;124mfinancial_stability\u001B[39m\u001B[38;5;124m'\u001B[39m, \u001B[38;5;124m'\u001B[39m\u001B[38;5;124mmonetary_policy_implementation\u001B[39m\u001B[38;5;124m'\u001B[39m, \u001B[38;5;124m'\u001B[39m\u001B[38;5;124mgovernment_work\u001B[39m\u001B[38;5;124m'\u001B[39m, \u001B[38;5;124m'\u001B[39m\u001B[38;5;124mregulatory_dynamics\u001B[39m\u001B[38;5;124m'\u001B[39m, \u001B[38;5;124m'\u001B[39m\u001B[38;5;124mleadership_activities_and_speeches\u001B[39m\u001B[38;5;124m'\u001B[39m, \u001B[38;5;124m'\u001B[39m\u001B[38;5;124mfinancial_work_conference_documents\u001B[39m\u001B[38;5;124m'\u001B[39m, \u001B[38;5;124m'\u001B[39m\u001B[38;5;124mimportant_news_from_securities_regulatory_commission\u001B[39m\u001B[38;5;124m'\u001B[39m],fact_or_pred:Literal[\u001B[38;5;124m'\u001B[39m\u001B[38;5;124mfacts\u001B[39m\u001B[38;5;124m'\u001B[39m,\u001B[38;5;124m'\u001B[39m\u001B[38;5;124mpredictions\u001B[39m\u001B[38;5;124m'\u001B[39m],Discriminator_type:Literal[\u001B[38;5;124m'\u001B[39m\u001B[38;5;124mjudge\u001B[39m\u001B[38;5;124m'\u001B[39m,\u001B[38;5;124m'\u001B[39m\u001B[38;5;124memotion\u001B[39m\u001B[38;5;124m'\u001B[39m,\u001B[38;5;124m'\u001B[39m\u001B[38;5;124mresults\u001B[39m\u001B[38;5;124m'\u001B[39m],context_config:\u001B[38;5;28mdict\u001B[39m\u001B[38;5;241m=\u001B[39mcontext_config,report_type_config:\u001B[38;5;28mdict\u001B[39m \u001B[38;5;241m=\u001B[39m report_type_config)\u001B[38;5;241m-\u001B[39m\u001B[38;5;241m>\u001B[39m\u001B[38;5;28mstr\u001B[39m:\n\u001B[1;32m----> 2\u001B[0m     report_type \u001B[38;5;241m=\u001B[39m \u001B[43mreport_type_config\u001B[49m\u001B[43m[\u001B[49m\u001B[43mreport_type\u001B[49m\u001B[43m]\u001B[49m\n\u001B[0;32m      3\u001B[0m     context_prompt  \u001B[38;5;241m=\u001B[39m PromptTemplate(\n\u001B[0;32m      4\u001B[0m         input_variables\u001B[38;5;241m=\u001B[39m[\u001B[38;5;124m\"\u001B[39m\u001B[38;5;124mreport_type\u001B[39m\u001B[38;5;124m\"\u001B[39m,\u001B[38;5;124m'\u001B[39m\u001B[38;5;124mobjective\u001B[39m\u001B[38;5;124m'\u001B[39m,\u001B[38;5;124m'\u001B[39m\u001B[38;5;124mresponse\u001B[39m\u001B[38;5;124m'\u001B[39m,\u001B[38;5;124m'\u001B[39m\u001B[38;5;124mexample\u001B[39m\u001B[38;5;124m'\u001B[39m],\n\u001B[0;32m      5\u001B[0m         template\u001B[38;5;241m=\u001B[39m \u001B[38;5;124m\"\"\"\u001B[39m\n\u001B[1;32m   (...)\u001B[0m\n\u001B[0;32m     14\u001B[0m \u001B[38;5;124m            \u001B[39m\u001B[38;5;124m\"\"\"\u001B[39m\n\u001B[0;32m     15\u001B[0m     )\u001B[38;5;241m.\u001B[39mformat(report_type\u001B[38;5;241m=\u001B[39mreport_type, objective\u001B[38;5;241m=\u001B[39mcontext_config[fact_or_pred][Discriminator_type][\u001B[38;5;124m'\u001B[39m\u001B[38;5;124mobjective\u001B[39m\u001B[38;5;124m'\u001B[39m],response\u001B[38;5;241m=\u001B[39mcontext_config[fact_or_pred][Discriminator_type][\u001B[38;5;124m'\u001B[39m\u001B[38;5;124mresponse\u001B[39m\u001B[38;5;124m'\u001B[39m],example\u001B[38;5;241m=\u001B[39mcontext_config[fact_or_pred][Discriminator_type][\u001B[38;5;124m'\u001B[39m\u001B[38;5;124mexample\u001B[39m\u001B[38;5;124m'\u001B[39m])\n\u001B[0;32m     16\u001B[0m     \u001B[38;5;28;01mreturn\u001B[39;00m context_prompt\n",
      "\u001B[1;31mKeyError\u001B[0m: 'financial_stabilitys'"
     ]
    }
   ],
   "source": [
    "system_prompt = gen_system_prompt(report_type = 'financial_stabilitys',fact_or_pred='facts',Discriminator_type='judge')"
   ],
   "metadata": {
    "collapsed": false,
    "ExecuteTime": {
     "end_time": "2025-03-06T07:51:49.912602Z",
     "start_time": "2025-03-06T07:51:49.491579500Z"
    }
   }
  },
  {
   "cell_type": "code",
   "execution_count": null,
   "outputs": [],
   "source": [
    "system_prompt = gen_system_prompt(report_type = 'financial_stability',fact_or_pred='fact',Discriminator_type='judge')"
   ],
   "metadata": {
    "collapsed": false
   }
  },
  {
   "cell_type": "code",
   "execution_count": null,
   "outputs": [],
   "source": [
    "system_prompt = gen_system_prompt(report_type = 'financial_stability',fact_or_pred='facts',Discriminator_type='judges')"
   ],
   "metadata": {
    "collapsed": false
   }
  },
  {
   "cell_type": "code",
   "execution_count": 8,
   "outputs": [],
   "source": [
    "system_prompt = gen_system_prompt(report_type = 'financial_stability',fact_or_pred='facts',Discriminator_type='judge')"
   ],
   "metadata": {
    "collapsed": false,
    "ExecuteTime": {
     "end_time": "2025-03-06T07:51:49.981033600Z",
     "start_time": "2025-03-06T07:51:49.968748300Z"
    }
   }
  },
  {
   "cell_type": "code",
   "execution_count": 36,
   "outputs": [
    {
     "name": "stdout",
     "output_type": "stream",
     "text": [
      "\n",
      "            1、[Context]: 你扮演的是标注专家的角色（role）,金融稳定报告聚焦于当前国内外金融体系的运行状况，分析可能影响金融稳定的风险因素，并提出应对建议。其研究对象主要包括银行、保险、证券等金融机构的运行情况，金融市场的波动性，以及跨境资本流动的趋势。撰写目的在于通过全面评估金融体系的脆弱点，为政策制定者和监管机构提供决策支持，确保金融体系的稳健运行。报告通常通过数据分析、案例研究以及国际对比的方式展开，重点解决潜在的系统性风险和突发性金融危机应对问题。\n",
      "            2、[Style]: 学术一些、简洁明了、不进行冗余输出。\n",
      "            3、[Tone]: 平和、中性，有说服力。\n",
      "            4、[Audience]: 金融学者\n",
      "            5、[Response“/”表示或，不能进行同时输出]: 只输出 [是/否]，不要进行冗余输出。\n",
      "            6、[Objective]: 在[目标文段]中判断是否存在[事实描述]信息。其中[事实描述]为提取段落中关于经济或市场状况的客观信息，包括已发生或现阶段正在发生的具体数据、现象或事件。\n",
      "            7、[Example]：\n",
      "                        Example1:\n",
      "                            [目标文段]: 2023年，全球经济复苏步伐放缓，主要经济体通胀水平虽有所回落但仍处于高位，货币政策普遍保持紧缩状态。国内经济延续恢复态势，工业生产平稳增长，消费市场逐步回暖，外贸出口增速有所回升，金融市场整体运行平稳，银行信贷投放保持增长态势。\n",
      "                            [Response]:[是]\n",
      "                        Example2:\n",
      "                            [目标文段]: 随着全球经济增速放缓和主要经济体货币政策持续收紧，未来国际金融市场波动性可能进一步上升，对跨境资本流动和外部需求构成压力。国内经济在政策支持下预计将保持恢复态势，但内外需的不确定性仍可能制约增长动能，需关注地方政府债务、房地产市场调整等潜在风险，同时深化改革以优化经济结构和提升增长质量。\n",
      "                            [Response]:[否]\n",
      "                    \n",
      "\n",
      "            \n"
     ]
    }
   ],
   "source": [
    "print(system_prompt)"
   ],
   "metadata": {
    "collapsed": false,
    "ExecuteTime": {
     "end_time": "2025-03-06T08:01:37.901122600Z",
     "start_time": "2025-03-06T08:01:37.895026200Z"
    }
   }
  },
  {
   "cell_type": "markdown",
   "source": [
    "# user_prompt"
   ],
   "metadata": {
    "collapsed": false
   }
  },
  {
   "cell_type": "code",
   "execution_count": 10,
   "outputs": [],
   "source": [
    "def gen_user_prompt(text:str)->str:\n",
    "        user_prompt = PromptTemplate(\n",
    "            input_variables=[\"text\"],\n",
    "            template= \"\"\"\n",
    "                请根据以上信息对以下目标文段进行判断：\n",
    "                [目标文段]：{text}\n",
    "                \"\"\"\n",
    "        ).format(text=text)\n",
    "        return user_prompt"
   ],
   "metadata": {
    "collapsed": false,
    "ExecuteTime": {
     "end_time": "2025-03-06T07:51:50.450128300Z",
     "start_time": "2025-03-06T07:51:50.441145700Z"
    }
   }
  },
  {
   "cell_type": "code",
   "execution_count": 11,
   "outputs": [],
   "source": [
    "text = context_series[0]"
   ],
   "metadata": {
    "collapsed": false,
    "ExecuteTime": {
     "end_time": "2025-03-06T07:51:50.611822300Z",
     "start_time": "2025-03-06T07:51:50.601899200Z"
    }
   }
  },
  {
   "cell_type": "code",
   "execution_count": 12,
   "outputs": [
    {
     "data": {
      "text/plain": "'2001年政府工作报告。——2001年3月5日在第九届全国人民代表大会第四次会议上。国务院总理朱镕基。各位代表'"
     },
     "execution_count": 12,
     "metadata": {},
     "output_type": "execute_result"
    }
   ],
   "source": [
    "text"
   ],
   "metadata": {
    "collapsed": false,
    "ExecuteTime": {
     "end_time": "2025-03-06T07:51:50.769737300Z",
     "start_time": "2025-03-06T07:51:50.758567800Z"
    }
   }
  },
  {
   "cell_type": "code",
   "execution_count": 13,
   "outputs": [],
   "source": [
    "user_prompt = gen_user_prompt(text)"
   ],
   "metadata": {
    "collapsed": false,
    "ExecuteTime": {
     "end_time": "2025-03-06T07:51:50.923265Z",
     "start_time": "2025-03-06T07:51:50.915448600Z"
    }
   }
  },
  {
   "cell_type": "code",
   "execution_count": 38,
   "outputs": [
    {
     "name": "stdout",
     "output_type": "stream",
     "text": [
      "\n",
      "                请根据以上信息对以下目标文段进行判断：\n",
      "                [目标文段]：2001年政府工作报告。——2001年3月5日在第九届全国人民代表大会第四次会议上。国务院总理朱镕基。各位代表\n",
      "                \n"
     ]
    }
   ],
   "source": [
    "print(user_prompt)"
   ],
   "metadata": {
    "collapsed": false,
    "ExecuteTime": {
     "end_time": "2025-03-06T08:02:26.417308Z",
     "start_time": "2025-03-06T08:02:26.409407700Z"
    }
   }
  },
  {
   "cell_type": "markdown",
   "source": [
    "# 连接大语言模型API"
   ],
   "metadata": {
    "collapsed": false
   }
  },
  {
   "cell_type": "code",
   "execution_count": 15,
   "outputs": [],
   "source": [
    "client = OpenAI(\n",
    "    # 若没有配置环境变量，请用百炼API Key将下行替换为：api_key=\"sk-xxx\",\n",
    "    api_key=\"sk-b920807ca87545db9540da42f12009d3\",\n",
    "    base_url=\"https://dashscope.aliyuncs.com/compatible-mode/v1\",\n",
    ")"
   ],
   "metadata": {
    "collapsed": false,
    "ExecuteTime": {
     "end_time": "2025-03-06T07:51:51.507607400Z",
     "start_time": "2025-03-06T07:51:51.390108500Z"
    }
   }
  },
  {
   "cell_type": "markdown",
   "source": [
    "# 问答"
   ],
   "metadata": {
    "collapsed": false
   }
  },
  {
   "cell_type": "code",
   "execution_count": 16,
   "outputs": [],
   "source": [
    "completion = client.chat.completions.create(\n",
    "    model=\"qwen-turbo\", # 此处以qwen-plus为例，可按需更换模型名称。模型列表：https://help.aliyun.com/zh/model-studio/getting-started/models\n",
    "    messages=[\n",
    "        {'role': 'system', 'content': system_prompt},\n",
    "        {'role': 'user', 'content': user_prompt}],\n",
    ").choices[0].message.content"
   ],
   "metadata": {
    "collapsed": false,
    "ExecuteTime": {
     "end_time": "2025-03-06T07:51:52.362872400Z",
     "start_time": "2025-03-06T07:51:51.731969900Z"
    }
   }
  },
  {
   "cell_type": "code",
   "execution_count": 17,
   "outputs": [
    {
     "name": "stdout",
     "output_type": "stream",
     "text": [
      "[否]\n"
     ]
    }
   ],
   "source": [
    "print(completion)"
   ],
   "metadata": {
    "collapsed": false,
    "ExecuteTime": {
     "end_time": "2025-03-06T07:51:52.366303900Z",
     "start_time": "2025-03-06T07:51:52.362872400Z"
    }
   }
  },
  {
   "cell_type": "markdown",
   "source": [
    "# pipline\n"
   ],
   "metadata": {
    "collapsed": false
   }
  },
  {
   "cell_type": "code",
   "execution_count": 18,
   "outputs": [],
   "source": [
    "def qa_pipline(model,text:str,report_type:Literal['financial_stability', 'monetary_policy_implementation', 'government_work', 'regulatory_dynamics', 'leadership_activities_and_speeches', 'financial_work_conference_documents', 'important_news_from_securities_regulatory_commission'],fact_or_pred:Literal['facts','predictions'],Discriminator_type:Literal['judge','emotion','results']):\n",
    "    system_prompt = gen_system_prompt(report_type = report_type,fact_or_pred=fact_or_pred,Discriminator_type=Discriminator_type)\n",
    "    user_prompt = gen_user_prompt(text)\n",
    "    answer = client.chat.completions.create(\n",
    "        model=model,\n",
    "        messages=[\n",
    "            {'role': 'system', 'content': system_prompt},\n",
    "            {'role': 'user', 'content': user_prompt}],\n",
    "    ).choices[0].message.content\n",
    "    return answer"
   ],
   "metadata": {
    "collapsed": false,
    "ExecuteTime": {
     "end_time": "2025-03-06T07:51:52.497684700Z",
     "start_time": "2025-03-06T07:51:52.489933700Z"
    }
   }
  },
  {
   "cell_type": "code",
   "execution_count": 19,
   "outputs": [
    {
     "data": {
      "text/plain": "'[否]'"
     },
     "execution_count": 19,
     "metadata": {},
     "output_type": "execute_result"
    }
   ],
   "source": [
    "qa_pipline(\"qwen-turbo\",text,'financial_stability','facts','judge')"
   ],
   "metadata": {
    "collapsed": false,
    "ExecuteTime": {
     "end_time": "2025-03-06T07:51:53.197609900Z",
     "start_time": "2025-03-06T07:51:52.676980200Z"
    }
   }
  },
  {
   "cell_type": "code",
   "execution_count": 20,
   "outputs": [],
   "source": [
    "def single_text_work_flow(text:str,report_type:Literal['financial_stability', 'monetary_policy_implementation', 'government_work', 'regulatory_dynamics', 'leadership_activities_and_speeches', 'financial_work_conference_documents', 'important_news_from_securities_regulatory_commission'],model=\"qwen-turbo\"):\n",
    "\n",
    "    facts_answer = qa_pipline(model,text,report_type,'facts','judge')\n",
    "    pred_answer = qa_pipline(model,text,report_type,'predictions','judge')\n",
    "    if facts_answer == '[是]':\n",
    "        facts_emotion_answer = qa_pipline(model,text,report_type,'facts','emotion')\n",
    "        text = text+'\\n'+facts_emotion_answer\n",
    "        facts_results_answer = qa_pipline(model,text,report_type,'facts','results')\n",
    "        result_list = [facts_answer,facts_emotion_answer,facts_results_answer,None,None,None]\n",
    "    elif pred_answer == '[是]':\n",
    "        pred_emotion_answer = qa_pipline(model,text,report_type,'facts','emotion')\n",
    "        text = text+'\\n'+pred_emotion_answer\n",
    "        pred_results_answer = qa_pipline(model,text,report_type,'facts','results')\n",
    "        result_list = [None,None,None,pred_answer,pred_emotion_answer,pred_results_answer]\n",
    "    else:\n",
    "        result_list =[None,None,None,None,None,None]\n",
    "    return result_list"
   ],
   "metadata": {
    "collapsed": false,
    "ExecuteTime": {
     "end_time": "2025-03-06T07:51:53.207478100Z",
     "start_time": "2025-03-06T07:51:53.197609900Z"
    }
   }
  },
  {
   "cell_type": "code",
   "execution_count": 20,
   "outputs": [],
   "source": [],
   "metadata": {
    "collapsed": false,
    "ExecuteTime": {
     "end_time": "2025-03-06T07:51:53.207478100Z",
     "start_time": "2025-03-06T07:51:53.200593200Z"
    }
   }
  },
  {
   "cell_type": "code",
   "execution_count": 21,
   "outputs": [
    {
     "ename": "KeyError",
     "evalue": "'1'",
     "output_type": "error",
     "traceback": [
      "\u001B[1;31m---------------------------------------------------------------------------\u001B[0m",
      "\u001B[1;31mKeyError\u001B[0m                                  Traceback (most recent call last)",
      "Cell \u001B[1;32mIn[21], line 1\u001B[0m\n\u001B[1;32m----> 1\u001B[0m \u001B[43msingle_text_work_flow\u001B[49m\u001B[43m(\u001B[49m\u001B[43mtext\u001B[49m\u001B[43m,\u001B[49m\u001B[38;5;124;43m'\u001B[39;49m\u001B[38;5;124;43m1\u001B[39;49m\u001B[38;5;124;43m'\u001B[39;49m\u001B[43m)\u001B[49m\n",
      "Cell \u001B[1;32mIn[20], line 3\u001B[0m, in \u001B[0;36msingle_text_work_flow\u001B[1;34m(text, report_type, model)\u001B[0m\n\u001B[0;32m      1\u001B[0m \u001B[38;5;28;01mdef\u001B[39;00m \u001B[38;5;21msingle_text_work_flow\u001B[39m(text:\u001B[38;5;28mstr\u001B[39m,report_type:Literal[\u001B[38;5;124m'\u001B[39m\u001B[38;5;124mfinancial_stability\u001B[39m\u001B[38;5;124m'\u001B[39m, \u001B[38;5;124m'\u001B[39m\u001B[38;5;124mmonetary_policy_implementation\u001B[39m\u001B[38;5;124m'\u001B[39m, \u001B[38;5;124m'\u001B[39m\u001B[38;5;124mgovernment_work\u001B[39m\u001B[38;5;124m'\u001B[39m, \u001B[38;5;124m'\u001B[39m\u001B[38;5;124mregulatory_dynamics\u001B[39m\u001B[38;5;124m'\u001B[39m, \u001B[38;5;124m'\u001B[39m\u001B[38;5;124mleadership_activities_and_speeches\u001B[39m\u001B[38;5;124m'\u001B[39m, \u001B[38;5;124m'\u001B[39m\u001B[38;5;124mfinancial_work_conference_documents\u001B[39m\u001B[38;5;124m'\u001B[39m, \u001B[38;5;124m'\u001B[39m\u001B[38;5;124mimportant_news_from_securities_regulatory_commission\u001B[39m\u001B[38;5;124m'\u001B[39m],model\u001B[38;5;241m=\u001B[39m\u001B[38;5;124m\"\u001B[39m\u001B[38;5;124mqwen-turbo\u001B[39m\u001B[38;5;124m\"\u001B[39m):\n\u001B[1;32m----> 3\u001B[0m     facts_answer \u001B[38;5;241m=\u001B[39m \u001B[43mqa_pipline\u001B[49m\u001B[43m(\u001B[49m\u001B[43mmodel\u001B[49m\u001B[43m,\u001B[49m\u001B[43mtext\u001B[49m\u001B[43m,\u001B[49m\u001B[43mreport_type\u001B[49m\u001B[43m,\u001B[49m\u001B[38;5;124;43m'\u001B[39;49m\u001B[38;5;124;43mfacts\u001B[39;49m\u001B[38;5;124;43m'\u001B[39;49m\u001B[43m,\u001B[49m\u001B[38;5;124;43m'\u001B[39;49m\u001B[38;5;124;43mjudge\u001B[39;49m\u001B[38;5;124;43m'\u001B[39;49m\u001B[43m)\u001B[49m\n\u001B[0;32m      4\u001B[0m     pred_answer \u001B[38;5;241m=\u001B[39m qa_pipline(model,text,report_type,\u001B[38;5;124m'\u001B[39m\u001B[38;5;124mpredictions\u001B[39m\u001B[38;5;124m'\u001B[39m,\u001B[38;5;124m'\u001B[39m\u001B[38;5;124mjudge\u001B[39m\u001B[38;5;124m'\u001B[39m)\n\u001B[0;32m      5\u001B[0m     \u001B[38;5;28;01mif\u001B[39;00m facts_answer \u001B[38;5;241m==\u001B[39m \u001B[38;5;124m'\u001B[39m\u001B[38;5;124m[是]\u001B[39m\u001B[38;5;124m'\u001B[39m:\n",
      "Cell \u001B[1;32mIn[18], line 2\u001B[0m, in \u001B[0;36mqa_pipline\u001B[1;34m(model, text, report_type, fact_or_pred, Discriminator_type)\u001B[0m\n\u001B[0;32m      1\u001B[0m \u001B[38;5;28;01mdef\u001B[39;00m \u001B[38;5;21mqa_pipline\u001B[39m(model,text:\u001B[38;5;28mstr\u001B[39m,report_type:Literal[\u001B[38;5;124m'\u001B[39m\u001B[38;5;124mfinancial_stability\u001B[39m\u001B[38;5;124m'\u001B[39m, \u001B[38;5;124m'\u001B[39m\u001B[38;5;124mmonetary_policy_implementation\u001B[39m\u001B[38;5;124m'\u001B[39m, \u001B[38;5;124m'\u001B[39m\u001B[38;5;124mgovernment_work\u001B[39m\u001B[38;5;124m'\u001B[39m, \u001B[38;5;124m'\u001B[39m\u001B[38;5;124mregulatory_dynamics\u001B[39m\u001B[38;5;124m'\u001B[39m, \u001B[38;5;124m'\u001B[39m\u001B[38;5;124mleadership_activities_and_speeches\u001B[39m\u001B[38;5;124m'\u001B[39m, \u001B[38;5;124m'\u001B[39m\u001B[38;5;124mfinancial_work_conference_documents\u001B[39m\u001B[38;5;124m'\u001B[39m, \u001B[38;5;124m'\u001B[39m\u001B[38;5;124mimportant_news_from_securities_regulatory_commission\u001B[39m\u001B[38;5;124m'\u001B[39m],fact_or_pred:Literal[\u001B[38;5;124m'\u001B[39m\u001B[38;5;124mfacts\u001B[39m\u001B[38;5;124m'\u001B[39m,\u001B[38;5;124m'\u001B[39m\u001B[38;5;124mpredictions\u001B[39m\u001B[38;5;124m'\u001B[39m],Discriminator_type:Literal[\u001B[38;5;124m'\u001B[39m\u001B[38;5;124mjudge\u001B[39m\u001B[38;5;124m'\u001B[39m,\u001B[38;5;124m'\u001B[39m\u001B[38;5;124memotion\u001B[39m\u001B[38;5;124m'\u001B[39m,\u001B[38;5;124m'\u001B[39m\u001B[38;5;124mresults\u001B[39m\u001B[38;5;124m'\u001B[39m]):\n\u001B[1;32m----> 2\u001B[0m     system_prompt \u001B[38;5;241m=\u001B[39m \u001B[43mgen_system_prompt\u001B[49m\u001B[43m(\u001B[49m\u001B[43mreport_type\u001B[49m\u001B[43m \u001B[49m\u001B[38;5;241;43m=\u001B[39;49m\u001B[43m \u001B[49m\u001B[43mreport_type\u001B[49m\u001B[43m,\u001B[49m\u001B[43mfact_or_pred\u001B[49m\u001B[38;5;241;43m=\u001B[39;49m\u001B[43mfact_or_pred\u001B[49m\u001B[43m,\u001B[49m\u001B[43mDiscriminator_type\u001B[49m\u001B[38;5;241;43m=\u001B[39;49m\u001B[43mDiscriminator_type\u001B[49m\u001B[43m)\u001B[49m\n\u001B[0;32m      3\u001B[0m     user_prompt \u001B[38;5;241m=\u001B[39m gen_user_prompt(text)\n\u001B[0;32m      4\u001B[0m     answer \u001B[38;5;241m=\u001B[39m client\u001B[38;5;241m.\u001B[39mchat\u001B[38;5;241m.\u001B[39mcompletions\u001B[38;5;241m.\u001B[39mcreate(\n\u001B[0;32m      5\u001B[0m         model\u001B[38;5;241m=\u001B[39mmodel,\n\u001B[0;32m      6\u001B[0m         messages\u001B[38;5;241m=\u001B[39m[\n\u001B[0;32m      7\u001B[0m             {\u001B[38;5;124m'\u001B[39m\u001B[38;5;124mrole\u001B[39m\u001B[38;5;124m'\u001B[39m: \u001B[38;5;124m'\u001B[39m\u001B[38;5;124msystem\u001B[39m\u001B[38;5;124m'\u001B[39m, \u001B[38;5;124m'\u001B[39m\u001B[38;5;124mcontent\u001B[39m\u001B[38;5;124m'\u001B[39m: system_prompt},\n\u001B[0;32m      8\u001B[0m             {\u001B[38;5;124m'\u001B[39m\u001B[38;5;124mrole\u001B[39m\u001B[38;5;124m'\u001B[39m: \u001B[38;5;124m'\u001B[39m\u001B[38;5;124muser\u001B[39m\u001B[38;5;124m'\u001B[39m, \u001B[38;5;124m'\u001B[39m\u001B[38;5;124mcontent\u001B[39m\u001B[38;5;124m'\u001B[39m: user_prompt}],\n\u001B[0;32m      9\u001B[0m     )\u001B[38;5;241m.\u001B[39mchoices[\u001B[38;5;241m0\u001B[39m]\u001B[38;5;241m.\u001B[39mmessage\u001B[38;5;241m.\u001B[39mcontent\n",
      "Cell \u001B[1;32mIn[6], line 2\u001B[0m, in \u001B[0;36mgen_system_prompt\u001B[1;34m(report_type, fact_or_pred, Discriminator_type, context_config, report_type_config)\u001B[0m\n\u001B[0;32m      1\u001B[0m \u001B[38;5;28;01mdef\u001B[39;00m \u001B[38;5;21mgen_system_prompt\u001B[39m(report_type:Literal[\u001B[38;5;124m'\u001B[39m\u001B[38;5;124mfinancial_stability\u001B[39m\u001B[38;5;124m'\u001B[39m, \u001B[38;5;124m'\u001B[39m\u001B[38;5;124mmonetary_policy_implementation\u001B[39m\u001B[38;5;124m'\u001B[39m, \u001B[38;5;124m'\u001B[39m\u001B[38;5;124mgovernment_work\u001B[39m\u001B[38;5;124m'\u001B[39m, \u001B[38;5;124m'\u001B[39m\u001B[38;5;124mregulatory_dynamics\u001B[39m\u001B[38;5;124m'\u001B[39m, \u001B[38;5;124m'\u001B[39m\u001B[38;5;124mleadership_activities_and_speeches\u001B[39m\u001B[38;5;124m'\u001B[39m, \u001B[38;5;124m'\u001B[39m\u001B[38;5;124mfinancial_work_conference_documents\u001B[39m\u001B[38;5;124m'\u001B[39m, \u001B[38;5;124m'\u001B[39m\u001B[38;5;124mimportant_news_from_securities_regulatory_commission\u001B[39m\u001B[38;5;124m'\u001B[39m],fact_or_pred:Literal[\u001B[38;5;124m'\u001B[39m\u001B[38;5;124mfacts\u001B[39m\u001B[38;5;124m'\u001B[39m,\u001B[38;5;124m'\u001B[39m\u001B[38;5;124mpredictions\u001B[39m\u001B[38;5;124m'\u001B[39m],Discriminator_type:Literal[\u001B[38;5;124m'\u001B[39m\u001B[38;5;124mjudge\u001B[39m\u001B[38;5;124m'\u001B[39m,\u001B[38;5;124m'\u001B[39m\u001B[38;5;124memotion\u001B[39m\u001B[38;5;124m'\u001B[39m,\u001B[38;5;124m'\u001B[39m\u001B[38;5;124mresults\u001B[39m\u001B[38;5;124m'\u001B[39m],context_config:\u001B[38;5;28mdict\u001B[39m\u001B[38;5;241m=\u001B[39mcontext_config,report_type_config:\u001B[38;5;28mdict\u001B[39m \u001B[38;5;241m=\u001B[39m report_type_config)\u001B[38;5;241m-\u001B[39m\u001B[38;5;241m>\u001B[39m\u001B[38;5;28mstr\u001B[39m:\n\u001B[1;32m----> 2\u001B[0m     report_type \u001B[38;5;241m=\u001B[39m \u001B[43mreport_type_config\u001B[49m\u001B[43m[\u001B[49m\u001B[43mreport_type\u001B[49m\u001B[43m]\u001B[49m\n\u001B[0;32m      3\u001B[0m     context_prompt  \u001B[38;5;241m=\u001B[39m PromptTemplate(\n\u001B[0;32m      4\u001B[0m         input_variables\u001B[38;5;241m=\u001B[39m[\u001B[38;5;124m\"\u001B[39m\u001B[38;5;124mreport_type\u001B[39m\u001B[38;5;124m\"\u001B[39m,\u001B[38;5;124m'\u001B[39m\u001B[38;5;124mobjective\u001B[39m\u001B[38;5;124m'\u001B[39m,\u001B[38;5;124m'\u001B[39m\u001B[38;5;124mresponse\u001B[39m\u001B[38;5;124m'\u001B[39m,\u001B[38;5;124m'\u001B[39m\u001B[38;5;124mexample\u001B[39m\u001B[38;5;124m'\u001B[39m],\n\u001B[0;32m      5\u001B[0m         template\u001B[38;5;241m=\u001B[39m \u001B[38;5;124m\"\"\"\u001B[39m\n\u001B[1;32m   (...)\u001B[0m\n\u001B[0;32m     14\u001B[0m \u001B[38;5;124m            \u001B[39m\u001B[38;5;124m\"\"\"\u001B[39m\n\u001B[0;32m     15\u001B[0m     )\u001B[38;5;241m.\u001B[39mformat(report_type\u001B[38;5;241m=\u001B[39mreport_type, objective\u001B[38;5;241m=\u001B[39mcontext_config[fact_or_pred][Discriminator_type][\u001B[38;5;124m'\u001B[39m\u001B[38;5;124mobjective\u001B[39m\u001B[38;5;124m'\u001B[39m],response\u001B[38;5;241m=\u001B[39mcontext_config[fact_or_pred][Discriminator_type][\u001B[38;5;124m'\u001B[39m\u001B[38;5;124mresponse\u001B[39m\u001B[38;5;124m'\u001B[39m],example\u001B[38;5;241m=\u001B[39mcontext_config[fact_or_pred][Discriminator_type][\u001B[38;5;124m'\u001B[39m\u001B[38;5;124mexample\u001B[39m\u001B[38;5;124m'\u001B[39m])\n\u001B[0;32m     16\u001B[0m     \u001B[38;5;28;01mreturn\u001B[39;00m context_prompt\n",
      "\u001B[1;31mKeyError\u001B[0m: '1'"
     ]
    }
   ],
   "source": [
    "single_text_work_flow(text,'1')"
   ],
   "metadata": {
    "collapsed": false,
    "ExecuteTime": {
     "end_time": "2025-03-06T07:51:54.410780300Z",
     "start_time": "2025-03-06T07:51:54.381165500Z"
    }
   }
  },
  {
   "cell_type": "code",
   "execution_count": 22,
   "outputs": [
    {
     "data": {
      "text/plain": "[None, None, None, None, None, None]"
     },
     "execution_count": 22,
     "metadata": {},
     "output_type": "execute_result"
    }
   ],
   "source": [
    "single_text_work_flow(text,'financial_stability')"
   ],
   "metadata": {
    "collapsed": false,
    "ExecuteTime": {
     "end_time": "2025-03-06T07:51:56.036720900Z",
     "start_time": "2025-03-06T07:51:54.899906Z"
    }
   }
  },
  {
   "cell_type": "code",
   "execution_count": 23,
   "outputs": [
    {
     "data": {
      "text/plain": "'国民经济持续快速健康发展，综合国力进一步增强。国内生产总值2000年达89404亿元，平均每年增长8.3％。人均国民生产总值比1980年翻两番的任务，已经超额完成。在经济持续增长和效益改善的基础上，2000年国家财政收入达13380亿元，平均每年增长16.5％。主要工农业产品产量位居世界前列，商品短缺状况基本结束。产业结构调整取得积极进展。粮食等主要农产品生产能力明显提高，实现了农产品供给由长期短缺到总量基本平衡、丰年有余的历史性转变。淘汰落后和压缩过剩工业生产能力取得成效，重点企业技术改造不断推进。信息产业等高新技术产业迅速成长。基础设施建设成绩显著，能源、交通、通信和原材料的“瓶颈”制约得到缓解'"
     },
     "execution_count": 23,
     "metadata": {},
     "output_type": "execute_result"
    }
   ],
   "source": [
    "text = context_series[3]\n",
    "text"
   ],
   "metadata": {
    "collapsed": false,
    "ExecuteTime": {
     "end_time": "2025-03-06T07:51:56.039742600Z",
     "start_time": "2025-03-06T07:51:56.036720900Z"
    }
   }
  },
  {
   "cell_type": "code",
   "execution_count": 24,
   "outputs": [
    {
     "data": {
      "text/plain": "['[是]',\n '**情感倾向**: 中性  \\n**程度**: 弱  \\n\\n**语言措辞**: 文段使用了客观的描述性语言，如“持续快速健康发展”、“综合国力进一步增强”等，这些措辞相对中性和正面，但并未表现出强烈的情感色彩。\\n\\n**数据分析**: 文段提供了具体的经济数据，如GDP增长率、财政收入增长率等，这些数据反映了经济发展的积极趋势，但整体上并未表现出极端的数据波动，因此情感倾向较为中性。',\n '**响应**: 该文段[存在]事实描述类文本，且事实描述类情感倾向判断[错误]，程度划分[错误]。[理由陈述]该文段主要描述了国民经济的发展状况，使用了诸如“持续快速健康发展”、“综合国力进一步增强”等措辞，这些措辞虽然带有一定的正面色彩，但整体上保持了中性的语气。因此，将情感倾向判断为“中性”更为合适。此外，文段提供的具体数据（如GDP增长率、财政收入增长率等）反映了经济发展的积极趋势，但这些数据并没有表现出极端的变化，因此将程度划分为“弱”更为恰当。',\n None,\n None,\n None]"
     },
     "execution_count": 24,
     "metadata": {},
     "output_type": "execute_result"
    }
   ],
   "source": [
    "single_text_work_flow(text,'financial_stability')"
   ],
   "metadata": {
    "collapsed": false,
    "ExecuteTime": {
     "end_time": "2025-03-06T07:52:04.530902100Z",
     "start_time": "2025-03-06T07:51:56.039742600Z"
    }
   }
  },
  {
   "cell_type": "markdown",
   "source": [
    "# 一个文件批量化处理\n"
   ],
   "metadata": {
    "collapsed": false
   }
  },
  {
   "cell_type": "code",
   "execution_count": 42,
   "outputs": [],
   "source": [
    "file_path = './data/政府工作报告csv/2002.csv'\n",
    "output_dir = './data/processed_data/政府工作报告csv'\n",
    "report_type = 'financial_stability'"
   ],
   "metadata": {
    "collapsed": false,
    "ExecuteTime": {
     "end_time": "2025-03-06T08:12:38.330788500Z",
     "start_time": "2025-03-06T08:12:38.323292500Z"
    }
   }
  },
  {
   "cell_type": "code",
   "execution_count": 42,
   "outputs": [],
   "source": [],
   "metadata": {
    "collapsed": false,
    "ExecuteTime": {
     "end_time": "2025-03-06T08:12:38.721089800Z",
     "start_time": "2025-03-06T08:12:38.713085800Z"
    }
   }
  },
  {
   "cell_type": "code",
   "execution_count": 43,
   "outputs": [],
   "source": [
    "context_series = pd.read_csv(file_path,encoding='utf-8',engine='python')['context']"
   ],
   "metadata": {
    "collapsed": false,
    "ExecuteTime": {
     "end_time": "2025-03-06T08:12:38.956257300Z",
     "start_time": "2025-03-06T08:12:38.917881900Z"
    }
   }
  },
  {
   "cell_type": "code",
   "execution_count": 44,
   "outputs": [],
   "source": [
    "result_dict={}\n",
    "for i in range(len(context_series)):\n",
    "    text = context_series[i]\n",
    "\n",
    "    result_dict[i] = single_text_work_flow(text,'financial_stability')"
   ],
   "metadata": {
    "collapsed": false,
    "ExecuteTime": {
     "end_time": "2025-03-06T08:14:18.964960500Z",
     "start_time": "2025-03-06T08:12:39.110980700Z"
    }
   }
  },
  {
   "cell_type": "code",
   "execution_count": 45,
   "outputs": [
    {
     "data": {
      "text/plain": "{0: [None, None, None, None, None, None],\n 1: [None, None, None, None, None, None],\n 2: ['[是]',\n  '**情感倾向**: 中性  \\n**程度**: 弱  \\n\\n**语言措辞**: 文章使用了较为客观的语言措辞，描述了一系列经济数据和政策措施，没有过多的情感色彩。\\n\\n**数据分析**: 数据分析部分展示了经济增长的具体数字和指标，如GDP增长率、财政收入、外汇储备等，这些数据总体上反映了经济的稳定和发展，但并未表现出强烈的情感倾向。',\n  '**判断**：\\n\\n- **事实描述**方面的情感倾向 - [中性]；\\n- **程度** - [弱]；\\n\\n**Response**: 该文段[存在]事实描述类文本，且事实描述类情感倾向判断[正确]，程度划分[正确]。[理由陈述]该文段主要是描述经济数据和政策措施，使用了诸如“增长7.3%”、“增加2400亿元”、“增长14.9%”等具体数据来说明经济的发展情况，整体语言风格较为客观，没有过多的情感色彩。文中提到的数据和措施更多是反映实际情况，而非表达强烈的情感。因此，该文段被正确地分类为事实描述类文本，其情感倾向和程度划分也被正确地评估为“中性”和“弱”。',\n  None,\n  None,\n  None],\n 3: [None, None, None, None, None, None],\n 4: [None, None, None, None, None, None],\n 5: ['[是]',\n  '**情感倾向**: 中性  \\n**程度**: 中  \\n**语言措辞**: 文段使用了较为客观的措辞来描述城乡居民生活水平的提升和社会保障的改善，没有明显的情感色彩。  \\n**数据分析**: 数据显示城乡居民收入和生活水平有所提高，社会保障支出增加，但这些数据更多是事实陈述，没有强烈的情感倾向。',\n  '**判断**：\\n\\n- **[事实描述]** 方面的情感倾向 - [中性]\\n- **程度** - [中]\\n\\n**Response**: 该文段 [存在] 事实描述类文本，且事实描述类情感倾向判断 [正确]，程度划分 [正确]。[理由陈述] 该文段主要描述了城乡居民生活水平的改善和社会保障支出的增加，使用了如“实际增长8.5%”、“大幅度增加”、“基本做到按时足额发放”、“覆盖人数扩大”、“增加支出621亿元”等客观措辞，未表现出明显的情感色彩。此外，文中提到的数据和事实陈述更多是为了说明现状而非表达情感，因此该文段被正确地分类为事实描述类文本，其情感倾向和程度划分也被正确地评估为“中性”和“中”。',\n  None,\n  None,\n  None],\n 6: [None, None, None, None, None, None],\n 7: [None, None, None, None, None, None],\n 8: [None, None, None, None, None, None],\n 9: [None, None, None, None, None, None],\n 10: [None, None, None, None, None, None],\n 11: [None, None, None, None, None, None],\n 12: [None, None, None, None, None, None],\n 13: [None, None, None, None, None, None],\n 14: ['[是]',\n  '**情感倾向**: 中性  \\n**程度**: 中  \\n\\n**语言措辞**:\\n- 中性词汇为主，如“保持”、“带动”、“拟发行”、“主要用于”、“增加”、“充裕”、“较低”、“稳定”、“不会”、“有利于”、“促进”、“集中力量”、“节约使用”、“防止”、“合理规划”、“量力而行”、“监督”、“查处”等。\\n\\n**数据分析**:\\n- 提及了具体数据，如“拟发行1500亿元长期建设国债”，并指出“国债余额占国内生产总值的比重仍在安全线以内”。这些数据提供了客观背景，未表现出明显的情绪色彩。',\n  '**判断**：\\n\\n[目标文段]：保持国债投资的必要规模，带动固定资产投资较快增长。根据需要和可能，今年拟发行１５００亿元长期建设国债，主要用于在建的国债建设项目、西部开发项目、重点企业技术改造，以及南水北调、京津水资源保护工程、农村基础设施和教育、公检法司等方面设施的建设。１９９８年以来开工建设的大部分国债项目，要在今年内基本完工。目前，居民储蓄存款增加较多，银行资金比较充裕，利率水平较低，市场价格稳定，国债余额占国内生产总值的比重仍在安全线以内，发行长期建设国债还有一定的空间，不会有大的风险。用国债投资进行重要的和社会急需项目的建设，不仅有利于促进经济增长和培植财源，而且有利于集中力量办大事，充分发挥各方面资金的使用效益。在扩大国债投资的同时，还要采取措施用活用好其他国内资金，引导和鼓励社会投资。要高度重视资金的合理、节约使用，坚决防止无效投入和重复建设。基础设施建设也要合理规划，量力而行，讲求实效，不可过分超前。继续加强对国债资金使用、项目建设和工程质量的监督管理，严厉查处各种截留、挪用国债资金的行为。\\ue004\\n\\n**情感倾向**: 中性  \\n**程度**: 中  \\n\\n**理由陈述**：\\n\\n该文段主要描述了国债投资的规模、用途以及相关政策，使用了大量的中性词汇，如“保持”、“带动”、“拟发行”、“主要用于”、“增加”、“充裕”、“较低”、“稳定”、“不会”、“有利于”、“促进”、“集中力量”、“节约使用”、“防止”、“合理规划”、“量力而行”、“监督”、“查处”等。这些词汇并未表达出强烈的情感色彩，而是以一种平和、中性的态度进行叙述。\\n\\n此外，文中提到了具体的数据，例如“拟发行1500亿元长期建设国债”，并指出“国债余额占国内生产总值的比重仍在安全线以内”。这些数据提供了客观背景，未表现出明显的情绪色彩。\\n\\n综上所述，该文段被正确地分类为事实描述类文本，其情感倾向和程度划分也被正确地评估为“中性”和“中”。',\n  None,\n  None,\n  None],\n 15: [None, None, None, None, None, None],\n 16: [None, None, None, None, None, None],\n 17: [None, None, None, None, None, None],\n 18: [None, None, None, None, None, None],\n 19: [None, None, None, None, None, None],\n 20: [None, None, None, None, None, None],\n 21: [None, None, None, None, None, None],\n 22: [None, None, None, None, None, None],\n 23: [None, None, None, None, None, None],\n 24: [None, None, None, None, None, None],\n 25: [None, None, None, None, None, None],\n 26: [None, None, None, None, None, None],\n 27: [None, None, None, None, None, None],\n 28: [None, None, None, None, None, None],\n 29: [None, None, None, None, None, None],\n 30: [None, None, None, None, None, None],\n 31: [None, None, None, None, None, None],\n 32: [None, None, None, None, None, None],\n 33: [None, None, None, None, None, None],\n 34: [None, None, None, None, None, None],\n 35: [None, None, None, None, None, None],\n 36: [None, None, None, None, None, None],\n 37: [None, None, None, None, None, None],\n 38: [None, None, None, None, None, None],\n 39: [None, None, None, None, None, None],\n 40: [None, None, None, None, None, None],\n 41: [None, None, None, None, None, None],\n 42: [None, None, None, None, None, None],\n 43: [None, None, None, None, None, None],\n 44: [None, None, None, None, None, None],\n 45: [None, None, None, None, None, None],\n 46: [None, None, None, None, None, None],\n 47: [None, None, None, None, None, None],\n 48: [None, None, None, None, None, None],\n 49: [None, None, None, None, None, None],\n 50: [None, None, None, None, None, None],\n 51: [None, None, None, None, None, None],\n 52: [None, None, None, None, None, None],\n 53: [None, None, None, None, None, None],\n 54: [None, None, None, None, None, None],\n 55: [None, None, None, None, None, None],\n 56: [None, None, None, None, None, None],\n 57: [None, None, None, None, None, None],\n 58: [None, None, None, None, None, None]}"
     },
     "execution_count": 45,
     "metadata": {},
     "output_type": "execute_result"
    }
   ],
   "source": [
    "result_dict"
   ],
   "metadata": {
    "collapsed": false,
    "ExecuteTime": {
     "end_time": "2025-03-06T08:14:18.971377400Z",
     "start_time": "2025-03-06T08:14:18.966922100Z"
    }
   }
  },
  {
   "cell_type": "code",
   "execution_count": 46,
   "outputs": [],
   "source": [
    "result_df = pd.DataFrame(result_dict).T.rename(columns={0:\"fact\",1:'fact_emotion',2:'fact_judge',3:'prediction',4:'pred_emotion',5:'pred_judge'})"
   ],
   "metadata": {
    "collapsed": false,
    "ExecuteTime": {
     "end_time": "2025-03-06T08:14:18.975799900Z",
     "start_time": "2025-03-06T08:14:18.972350500Z"
    }
   }
  },
  {
   "cell_type": "code",
   "execution_count": 47,
   "outputs": [
    {
     "data": {
      "text/plain": "    fact                                       fact_emotion  \\\n0   None                                               None   \n1   None                                               None   \n2    [是]  **情感倾向**: 中性  \\n**程度**: 弱  \\n\\n**语言措辞**: 文章使用了...   \n3   None                                               None   \n4   None                                               None   \n5    [是]  **情感倾向**: 中性  \\n**程度**: 中  \\n**语言措辞**: 文段使用了较为...   \n6   None                                               None   \n7   None                                               None   \n8   None                                               None   \n9   None                                               None   \n10  None                                               None   \n11  None                                               None   \n12  None                                               None   \n13  None                                               None   \n14   [是]  **情感倾向**: 中性  \\n**程度**: 中  \\n\\n**语言措辞**:\\n- 中性...   \n15  None                                               None   \n16  None                                               None   \n17  None                                               None   \n18  None                                               None   \n19  None                                               None   \n20  None                                               None   \n21  None                                               None   \n22  None                                               None   \n23  None                                               None   \n24  None                                               None   \n25  None                                               None   \n26  None                                               None   \n27  None                                               None   \n28  None                                               None   \n29  None                                               None   \n30  None                                               None   \n31  None                                               None   \n32  None                                               None   \n33  None                                               None   \n34  None                                               None   \n35  None                                               None   \n36  None                                               None   \n37  None                                               None   \n38  None                                               None   \n39  None                                               None   \n40  None                                               None   \n41  None                                               None   \n42  None                                               None   \n43  None                                               None   \n44  None                                               None   \n45  None                                               None   \n46  None                                               None   \n47  None                                               None   \n48  None                                               None   \n49  None                                               None   \n50  None                                               None   \n51  None                                               None   \n52  None                                               None   \n53  None                                               None   \n54  None                                               None   \n55  None                                               None   \n56  None                                               None   \n57  None                                               None   \n58  None                                               None   \n\n                                           fact_judge prediction pred_emotion  \\\n0                                                None       None         None   \n1                                                None       None         None   \n2   **判断**：\\n\\n- **事实描述**方面的情感倾向 - [中性]；\\n- **程度**...       None         None   \n3                                                None       None         None   \n4                                                None       None         None   \n5   **判断**：\\n\\n- **[事实描述]** 方面的情感倾向 - [中性]\\n- **程度...       None         None   \n6                                                None       None         None   \n7                                                None       None         None   \n8                                                None       None         None   \n9                                                None       None         None   \n10                                               None       None         None   \n11                                               None       None         None   \n12                                               None       None         None   \n13                                               None       None         None   \n14  **判断**：\\n\\n[目标文段]：保持国债投资的必要规模，带动固定资产投资较快增长。根据需...       None         None   \n15                                               None       None         None   \n16                                               None       None         None   \n17                                               None       None         None   \n18                                               None       None         None   \n19                                               None       None         None   \n20                                               None       None         None   \n21                                               None       None         None   \n22                                               None       None         None   \n23                                               None       None         None   \n24                                               None       None         None   \n25                                               None       None         None   \n26                                               None       None         None   \n27                                               None       None         None   \n28                                               None       None         None   \n29                                               None       None         None   \n30                                               None       None         None   \n31                                               None       None         None   \n32                                               None       None         None   \n33                                               None       None         None   \n34                                               None       None         None   \n35                                               None       None         None   \n36                                               None       None         None   \n37                                               None       None         None   \n38                                               None       None         None   \n39                                               None       None         None   \n40                                               None       None         None   \n41                                               None       None         None   \n42                                               None       None         None   \n43                                               None       None         None   \n44                                               None       None         None   \n45                                               None       None         None   \n46                                               None       None         None   \n47                                               None       None         None   \n48                                               None       None         None   \n49                                               None       None         None   \n50                                               None       None         None   \n51                                               None       None         None   \n52                                               None       None         None   \n53                                               None       None         None   \n54                                               None       None         None   \n55                                               None       None         None   \n56                                               None       None         None   \n57                                               None       None         None   \n58                                               None       None         None   \n\n   pred_judge  \n0        None  \n1        None  \n2        None  \n3        None  \n4        None  \n5        None  \n6        None  \n7        None  \n8        None  \n9        None  \n10       None  \n11       None  \n12       None  \n13       None  \n14       None  \n15       None  \n16       None  \n17       None  \n18       None  \n19       None  \n20       None  \n21       None  \n22       None  \n23       None  \n24       None  \n25       None  \n26       None  \n27       None  \n28       None  \n29       None  \n30       None  \n31       None  \n32       None  \n33       None  \n34       None  \n35       None  \n36       None  \n37       None  \n38       None  \n39       None  \n40       None  \n41       None  \n42       None  \n43       None  \n44       None  \n45       None  \n46       None  \n47       None  \n48       None  \n49       None  \n50       None  \n51       None  \n52       None  \n53       None  \n54       None  \n55       None  \n56       None  \n57       None  \n58       None  ",
      "text/html": "<div>\n<style scoped>\n    .dataframe tbody tr th:only-of-type {\n        vertical-align: middle;\n    }\n\n    .dataframe tbody tr th {\n        vertical-align: top;\n    }\n\n    .dataframe thead th {\n        text-align: right;\n    }\n</style>\n<table border=\"1\" class=\"dataframe\">\n  <thead>\n    <tr style=\"text-align: right;\">\n      <th></th>\n      <th>fact</th>\n      <th>fact_emotion</th>\n      <th>fact_judge</th>\n      <th>prediction</th>\n      <th>pred_emotion</th>\n      <th>pred_judge</th>\n    </tr>\n  </thead>\n  <tbody>\n    <tr>\n      <th>0</th>\n      <td>None</td>\n      <td>None</td>\n      <td>None</td>\n      <td>None</td>\n      <td>None</td>\n      <td>None</td>\n    </tr>\n    <tr>\n      <th>1</th>\n      <td>None</td>\n      <td>None</td>\n      <td>None</td>\n      <td>None</td>\n      <td>None</td>\n      <td>None</td>\n    </tr>\n    <tr>\n      <th>2</th>\n      <td>[是]</td>\n      <td>**情感倾向**: 中性  \\n**程度**: 弱  \\n\\n**语言措辞**: 文章使用了...</td>\n      <td>**判断**：\\n\\n- **事实描述**方面的情感倾向 - [中性]；\\n- **程度**...</td>\n      <td>None</td>\n      <td>None</td>\n      <td>None</td>\n    </tr>\n    <tr>\n      <th>3</th>\n      <td>None</td>\n      <td>None</td>\n      <td>None</td>\n      <td>None</td>\n      <td>None</td>\n      <td>None</td>\n    </tr>\n    <tr>\n      <th>4</th>\n      <td>None</td>\n      <td>None</td>\n      <td>None</td>\n      <td>None</td>\n      <td>None</td>\n      <td>None</td>\n    </tr>\n    <tr>\n      <th>5</th>\n      <td>[是]</td>\n      <td>**情感倾向**: 中性  \\n**程度**: 中  \\n**语言措辞**: 文段使用了较为...</td>\n      <td>**判断**：\\n\\n- **[事实描述]** 方面的情感倾向 - [中性]\\n- **程度...</td>\n      <td>None</td>\n      <td>None</td>\n      <td>None</td>\n    </tr>\n    <tr>\n      <th>6</th>\n      <td>None</td>\n      <td>None</td>\n      <td>None</td>\n      <td>None</td>\n      <td>None</td>\n      <td>None</td>\n    </tr>\n    <tr>\n      <th>7</th>\n      <td>None</td>\n      <td>None</td>\n      <td>None</td>\n      <td>None</td>\n      <td>None</td>\n      <td>None</td>\n    </tr>\n    <tr>\n      <th>8</th>\n      <td>None</td>\n      <td>None</td>\n      <td>None</td>\n      <td>None</td>\n      <td>None</td>\n      <td>None</td>\n    </tr>\n    <tr>\n      <th>9</th>\n      <td>None</td>\n      <td>None</td>\n      <td>None</td>\n      <td>None</td>\n      <td>None</td>\n      <td>None</td>\n    </tr>\n    <tr>\n      <th>10</th>\n      <td>None</td>\n      <td>None</td>\n      <td>None</td>\n      <td>None</td>\n      <td>None</td>\n      <td>None</td>\n    </tr>\n    <tr>\n      <th>11</th>\n      <td>None</td>\n      <td>None</td>\n      <td>None</td>\n      <td>None</td>\n      <td>None</td>\n      <td>None</td>\n    </tr>\n    <tr>\n      <th>12</th>\n      <td>None</td>\n      <td>None</td>\n      <td>None</td>\n      <td>None</td>\n      <td>None</td>\n      <td>None</td>\n    </tr>\n    <tr>\n      <th>13</th>\n      <td>None</td>\n      <td>None</td>\n      <td>None</td>\n      <td>None</td>\n      <td>None</td>\n      <td>None</td>\n    </tr>\n    <tr>\n      <th>14</th>\n      <td>[是]</td>\n      <td>**情感倾向**: 中性  \\n**程度**: 中  \\n\\n**语言措辞**:\\n- 中性...</td>\n      <td>**判断**：\\n\\n[目标文段]：保持国债投资的必要规模，带动固定资产投资较快增长。根据需...</td>\n      <td>None</td>\n      <td>None</td>\n      <td>None</td>\n    </tr>\n    <tr>\n      <th>15</th>\n      <td>None</td>\n      <td>None</td>\n      <td>None</td>\n      <td>None</td>\n      <td>None</td>\n      <td>None</td>\n    </tr>\n    <tr>\n      <th>16</th>\n      <td>None</td>\n      <td>None</td>\n      <td>None</td>\n      <td>None</td>\n      <td>None</td>\n      <td>None</td>\n    </tr>\n    <tr>\n      <th>17</th>\n      <td>None</td>\n      <td>None</td>\n      <td>None</td>\n      <td>None</td>\n      <td>None</td>\n      <td>None</td>\n    </tr>\n    <tr>\n      <th>18</th>\n      <td>None</td>\n      <td>None</td>\n      <td>None</td>\n      <td>None</td>\n      <td>None</td>\n      <td>None</td>\n    </tr>\n    <tr>\n      <th>19</th>\n      <td>None</td>\n      <td>None</td>\n      <td>None</td>\n      <td>None</td>\n      <td>None</td>\n      <td>None</td>\n    </tr>\n    <tr>\n      <th>20</th>\n      <td>None</td>\n      <td>None</td>\n      <td>None</td>\n      <td>None</td>\n      <td>None</td>\n      <td>None</td>\n    </tr>\n    <tr>\n      <th>21</th>\n      <td>None</td>\n      <td>None</td>\n      <td>None</td>\n      <td>None</td>\n      <td>None</td>\n      <td>None</td>\n    </tr>\n    <tr>\n      <th>22</th>\n      <td>None</td>\n      <td>None</td>\n      <td>None</td>\n      <td>None</td>\n      <td>None</td>\n      <td>None</td>\n    </tr>\n    <tr>\n      <th>23</th>\n      <td>None</td>\n      <td>None</td>\n      <td>None</td>\n      <td>None</td>\n      <td>None</td>\n      <td>None</td>\n    </tr>\n    <tr>\n      <th>24</th>\n      <td>None</td>\n      <td>None</td>\n      <td>None</td>\n      <td>None</td>\n      <td>None</td>\n      <td>None</td>\n    </tr>\n    <tr>\n      <th>25</th>\n      <td>None</td>\n      <td>None</td>\n      <td>None</td>\n      <td>None</td>\n      <td>None</td>\n      <td>None</td>\n    </tr>\n    <tr>\n      <th>26</th>\n      <td>None</td>\n      <td>None</td>\n      <td>None</td>\n      <td>None</td>\n      <td>None</td>\n      <td>None</td>\n    </tr>\n    <tr>\n      <th>27</th>\n      <td>None</td>\n      <td>None</td>\n      <td>None</td>\n      <td>None</td>\n      <td>None</td>\n      <td>None</td>\n    </tr>\n    <tr>\n      <th>28</th>\n      <td>None</td>\n      <td>None</td>\n      <td>None</td>\n      <td>None</td>\n      <td>None</td>\n      <td>None</td>\n    </tr>\n    <tr>\n      <th>29</th>\n      <td>None</td>\n      <td>None</td>\n      <td>None</td>\n      <td>None</td>\n      <td>None</td>\n      <td>None</td>\n    </tr>\n    <tr>\n      <th>30</th>\n      <td>None</td>\n      <td>None</td>\n      <td>None</td>\n      <td>None</td>\n      <td>None</td>\n      <td>None</td>\n    </tr>\n    <tr>\n      <th>31</th>\n      <td>None</td>\n      <td>None</td>\n      <td>None</td>\n      <td>None</td>\n      <td>None</td>\n      <td>None</td>\n    </tr>\n    <tr>\n      <th>32</th>\n      <td>None</td>\n      <td>None</td>\n      <td>None</td>\n      <td>None</td>\n      <td>None</td>\n      <td>None</td>\n    </tr>\n    <tr>\n      <th>33</th>\n      <td>None</td>\n      <td>None</td>\n      <td>None</td>\n      <td>None</td>\n      <td>None</td>\n      <td>None</td>\n    </tr>\n    <tr>\n      <th>34</th>\n      <td>None</td>\n      <td>None</td>\n      <td>None</td>\n      <td>None</td>\n      <td>None</td>\n      <td>None</td>\n    </tr>\n    <tr>\n      <th>35</th>\n      <td>None</td>\n      <td>None</td>\n      <td>None</td>\n      <td>None</td>\n      <td>None</td>\n      <td>None</td>\n    </tr>\n    <tr>\n      <th>36</th>\n      <td>None</td>\n      <td>None</td>\n      <td>None</td>\n      <td>None</td>\n      <td>None</td>\n      <td>None</td>\n    </tr>\n    <tr>\n      <th>37</th>\n      <td>None</td>\n      <td>None</td>\n      <td>None</td>\n      <td>None</td>\n      <td>None</td>\n      <td>None</td>\n    </tr>\n    <tr>\n      <th>38</th>\n      <td>None</td>\n      <td>None</td>\n      <td>None</td>\n      <td>None</td>\n      <td>None</td>\n      <td>None</td>\n    </tr>\n    <tr>\n      <th>39</th>\n      <td>None</td>\n      <td>None</td>\n      <td>None</td>\n      <td>None</td>\n      <td>None</td>\n      <td>None</td>\n    </tr>\n    <tr>\n      <th>40</th>\n      <td>None</td>\n      <td>None</td>\n      <td>None</td>\n      <td>None</td>\n      <td>None</td>\n      <td>None</td>\n    </tr>\n    <tr>\n      <th>41</th>\n      <td>None</td>\n      <td>None</td>\n      <td>None</td>\n      <td>None</td>\n      <td>None</td>\n      <td>None</td>\n    </tr>\n    <tr>\n      <th>42</th>\n      <td>None</td>\n      <td>None</td>\n      <td>None</td>\n      <td>None</td>\n      <td>None</td>\n      <td>None</td>\n    </tr>\n    <tr>\n      <th>43</th>\n      <td>None</td>\n      <td>None</td>\n      <td>None</td>\n      <td>None</td>\n      <td>None</td>\n      <td>None</td>\n    </tr>\n    <tr>\n      <th>44</th>\n      <td>None</td>\n      <td>None</td>\n      <td>None</td>\n      <td>None</td>\n      <td>None</td>\n      <td>None</td>\n    </tr>\n    <tr>\n      <th>45</th>\n      <td>None</td>\n      <td>None</td>\n      <td>None</td>\n      <td>None</td>\n      <td>None</td>\n      <td>None</td>\n    </tr>\n    <tr>\n      <th>46</th>\n      <td>None</td>\n      <td>None</td>\n      <td>None</td>\n      <td>None</td>\n      <td>None</td>\n      <td>None</td>\n    </tr>\n    <tr>\n      <th>47</th>\n      <td>None</td>\n      <td>None</td>\n      <td>None</td>\n      <td>None</td>\n      <td>None</td>\n      <td>None</td>\n    </tr>\n    <tr>\n      <th>48</th>\n      <td>None</td>\n      <td>None</td>\n      <td>None</td>\n      <td>None</td>\n      <td>None</td>\n      <td>None</td>\n    </tr>\n    <tr>\n      <th>49</th>\n      <td>None</td>\n      <td>None</td>\n      <td>None</td>\n      <td>None</td>\n      <td>None</td>\n      <td>None</td>\n    </tr>\n    <tr>\n      <th>50</th>\n      <td>None</td>\n      <td>None</td>\n      <td>None</td>\n      <td>None</td>\n      <td>None</td>\n      <td>None</td>\n    </tr>\n    <tr>\n      <th>51</th>\n      <td>None</td>\n      <td>None</td>\n      <td>None</td>\n      <td>None</td>\n      <td>None</td>\n      <td>None</td>\n    </tr>\n    <tr>\n      <th>52</th>\n      <td>None</td>\n      <td>None</td>\n      <td>None</td>\n      <td>None</td>\n      <td>None</td>\n      <td>None</td>\n    </tr>\n    <tr>\n      <th>53</th>\n      <td>None</td>\n      <td>None</td>\n      <td>None</td>\n      <td>None</td>\n      <td>None</td>\n      <td>None</td>\n    </tr>\n    <tr>\n      <th>54</th>\n      <td>None</td>\n      <td>None</td>\n      <td>None</td>\n      <td>None</td>\n      <td>None</td>\n      <td>None</td>\n    </tr>\n    <tr>\n      <th>55</th>\n      <td>None</td>\n      <td>None</td>\n      <td>None</td>\n      <td>None</td>\n      <td>None</td>\n      <td>None</td>\n    </tr>\n    <tr>\n      <th>56</th>\n      <td>None</td>\n      <td>None</td>\n      <td>None</td>\n      <td>None</td>\n      <td>None</td>\n      <td>None</td>\n    </tr>\n    <tr>\n      <th>57</th>\n      <td>None</td>\n      <td>None</td>\n      <td>None</td>\n      <td>None</td>\n      <td>None</td>\n      <td>None</td>\n    </tr>\n    <tr>\n      <th>58</th>\n      <td>None</td>\n      <td>None</td>\n      <td>None</td>\n      <td>None</td>\n      <td>None</td>\n      <td>None</td>\n    </tr>\n  </tbody>\n</table>\n</div>"
     },
     "execution_count": 47,
     "metadata": {},
     "output_type": "execute_result"
    }
   ],
   "source": [
    "result_df"
   ],
   "metadata": {
    "collapsed": false,
    "ExecuteTime": {
     "end_time": "2025-03-06T08:14:18.984808100Z",
     "start_time": "2025-03-06T08:14:18.978241400Z"
    }
   }
  },
  {
   "cell_type": "code",
   "execution_count": null,
   "outputs": [],
   "source": [
    "def file_work_flow(file_path,report_type,output_dir):\n",
    "    context_series = pd.read_csv(file_path,encoding='utf-8',engine='python')['context']\n",
    "    result_dict={}\n",
    "    for i in range(len(context_series)):\n",
    "        text = context_series[i]\n",
    "        result_dict[i] = single_text_work_flow(text,report_type)\n"
   ],
   "metadata": {
    "collapsed": false
   }
  }
 ],
 "metadata": {
  "kernelspec": {
   "display_name": "Python 3 (ipykernel)",
   "language": "python",
   "name": "python3"
  },
  "language_info": {
   "codemirror_mode": {
    "name": "ipython",
    "version": 3
   },
   "file_extension": ".py",
   "mimetype": "text/x-python",
   "name": "python",
   "nbconvert_exporter": "python",
   "pygments_lexer": "ipython3",
   "version": "3.9.21"
  }
 },
 "nbformat": 4,
 "nbformat_minor": 4
}
